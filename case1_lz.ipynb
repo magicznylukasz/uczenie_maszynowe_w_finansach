{
  "nbformat": 4,
  "nbformat_minor": 0,
  "metadata": {
    "colab": {
      "provenance": [],
      "toc_visible": true,
      "authorship_tag": "ABX9TyM68xA+8cMdNbiS/0mZDQA7",
      "include_colab_link": true
    },
    "kernelspec": {
      "name": "python3",
      "display_name": "Python 3"
    },
    "language_info": {
      "name": "python"
    }
  },
  "cells": [
    {
      "cell_type": "markdown",
      "metadata": {
        "id": "view-in-github",
        "colab_type": "text"
      },
      "source": [
        "<a href=\"https://colab.research.google.com/github/magicznylukasz/uczenie_maszynowe_w_finansach/blob/main/case1_lz.ipynb\" target=\"_parent\"><img src=\"https://colab.research.google.com/assets/colab-badge.svg\" alt=\"Open In Colab\"/></a>"
      ]
    },
    {
      "cell_type": "markdown",
      "source": [
        "# 1. Przygotowanie danych"
      ],
      "metadata": {
        "id": "FYbuTLqaHOJA"
      }
    },
    {
      "cell_type": "markdown",
      "source": [
        "## 1.1. Wczytanie bibliotek"
      ],
      "metadata": {
        "id": "vr7bLBNcHaqA"
      }
    },
    {
      "cell_type": "code",
      "execution_count": 1,
      "metadata": {
        "id": "T4rXKnszi4DP"
      },
      "outputs": [],
      "source": [
        "import pandas as pd\n",
        "import numpy as np\n",
        "import matplotlib.pyplot as plt\n",
        "from sklearn.preprocessing import StandardScaler\n",
        "from sklearn.model_selection import StratifiedShuffleSplit\n",
        "from imblearn.over_sampling import RandomOverSampler\n",
        "from sklearn.ensemble import IsolationForest\n",
        "from sklearn.feature_selection import RFE\n",
        "from sklearn.ensemble import ExtraTreesClassifier\n",
        "from sklearn.linear_model import LogisticRegression\n",
        "from sklearn.metrics import accuracy_score, classification_report\n",
        "from sklearn.metrics import accuracy_score, classification_report, confusion_matrix, recall_score, precision_score, f1_score, roc_curve, auc\n",
        "import seaborn as sns\n",
        "from sklearn.neighbors import KNeighborsClassifier\n",
        "from sklearn.svm import SVC"
      ]
    },
    {
      "cell_type": "markdown",
      "source": [
        "## 1.2. Wczytanie danych i analiza"
      ],
      "metadata": {
        "id": "c8gZFD87jfU-"
      }
    },
    {
      "cell_type": "code",
      "source": [
        "df = pd.read_csv('case1.csv', sep=';', error_bad_lines=False)\n",
        "\n",
        "df.head()"
      ],
      "metadata": {
        "colab": {
          "base_uri": "https://localhost:8080/",
          "height": 412
        },
        "id": "MmquLbO_jg1o",
        "outputId": "2317dccf-d34c-417a-d22b-607277e09163"
      },
      "execution_count": 2,
      "outputs": [
        {
          "output_type": "stream",
          "name": "stderr",
          "text": [
            "<ipython-input-2-43a712f8940f>:1: FutureWarning: The error_bad_lines argument has been deprecated and will be removed in a future version. Use on_bad_lines in the future.\n",
            "\n",
            "\n",
            "  df = pd.read_csv('case1.csv', sep=';', error_bad_lines=False)\n"
          ]
        },
        {
          "output_type": "execute_result",
          "data": {
            "text/plain": [
              "   Unnamed: 0  Index                                     Address  FLAG  \\\n",
              "0           0      1  0x00009277775ac7d0d59eaad8fee3d10ac6c805e8     0   \n",
              "1           1      2  0x0002b44ddb1476db43c868bd494422ee4c136fed     0   \n",
              "2           2      3  0x0002bda54cb772d040f779e88eb453cac0daa244     0   \n",
              "3           3      4  0x00038e6ba2fd5c09aedb96697c8d7b8fa6632e5e     0   \n",
              "4           4      5  0x00062d1dd1afb6fb02540ddad9cdebfe568e0d89     0   \n",
              "\n",
              "   Avg min between sent tnx  Avg min between received tnx  \\\n",
              "0                    844.26                       1093.71   \n",
              "1                  12709.07                       2958.44   \n",
              "2                 246194.54                       2434.02   \n",
              "3                  10219.60                      15785.09   \n",
              "4                     36.61                      10707.77   \n",
              "\n",
              "   Time Diff between first and last (Mins)  Sent tnx  Received Tnx  \\\n",
              "0                                704785.63       721            89   \n",
              "1                               1218216.73        94             8   \n",
              "2                                516729.30         2            10   \n",
              "3                                397555.90        25             9   \n",
              "4                                382472.42      4598            20   \n",
              "\n",
              "   Number of Created Contracts  ...  ERC20 min val sent  ERC20 max val sent  \\\n",
              "0                            0  ...            0.000000        1.683100e+07   \n",
              "1                            0  ...            2.260809        2.260809e+00   \n",
              "2                            0  ...            0.000000        0.000000e+00   \n",
              "3                            0  ...          100.000000        9.029231e+03   \n",
              "4                            1  ...            0.000000        4.500000e+04   \n",
              "\n",
              "   ERC20 avg val sent  ERC20 min val sent contract  \\\n",
              "0       271779.920000                          0.0   \n",
              "1            2.260809                          0.0   \n",
              "2            0.000000                          0.0   \n",
              "3         3804.076893                          0.0   \n",
              "4        13726.659220                          0.0   \n",
              "\n",
              "   ERC20 max val sent contract  ERC20 avg val sent contract  \\\n",
              "0                          0.0                          0.0   \n",
              "1                          0.0                          0.0   \n",
              "2                          0.0                          0.0   \n",
              "3                          0.0                          0.0   \n",
              "4                          0.0                          0.0   \n",
              "\n",
              "   ERC20 uniq sent token name  ERC20 uniq rec token name  \\\n",
              "0                        39.0                       57.0   \n",
              "1                         1.0                        7.0   \n",
              "2                         0.0                        8.0   \n",
              "3                         1.0                       11.0   \n",
              "4                         6.0                       27.0   \n",
              "\n",
              "   ERC20 most sent token type  ERC20_most_rec_token_type  \n",
              "0                   Cofoundit                  Numeraire  \n",
              "1              Livepeer Token             Livepeer Token  \n",
              "2                        None                      XENON  \n",
              "3                      Raiden                      XENON  \n",
              "4               StatusNetwork                        EOS  \n",
              "\n",
              "[5 rows x 51 columns]"
            ],
            "text/html": [
              "\n",
              "  <div id=\"df-62bca94c-581a-49ce-b256-6b8b1d9260c4\" class=\"colab-df-container\">\n",
              "    <div>\n",
              "<style scoped>\n",
              "    .dataframe tbody tr th:only-of-type {\n",
              "        vertical-align: middle;\n",
              "    }\n",
              "\n",
              "    .dataframe tbody tr th {\n",
              "        vertical-align: top;\n",
              "    }\n",
              "\n",
              "    .dataframe thead th {\n",
              "        text-align: right;\n",
              "    }\n",
              "</style>\n",
              "<table border=\"1\" class=\"dataframe\">\n",
              "  <thead>\n",
              "    <tr style=\"text-align: right;\">\n",
              "      <th></th>\n",
              "      <th>Unnamed: 0</th>\n",
              "      <th>Index</th>\n",
              "      <th>Address</th>\n",
              "      <th>FLAG</th>\n",
              "      <th>Avg min between sent tnx</th>\n",
              "      <th>Avg min between received tnx</th>\n",
              "      <th>Time Diff between first and last (Mins)</th>\n",
              "      <th>Sent tnx</th>\n",
              "      <th>Received Tnx</th>\n",
              "      <th>Number of Created Contracts</th>\n",
              "      <th>...</th>\n",
              "      <th>ERC20 min val sent</th>\n",
              "      <th>ERC20 max val sent</th>\n",
              "      <th>ERC20 avg val sent</th>\n",
              "      <th>ERC20 min val sent contract</th>\n",
              "      <th>ERC20 max val sent contract</th>\n",
              "      <th>ERC20 avg val sent contract</th>\n",
              "      <th>ERC20 uniq sent token name</th>\n",
              "      <th>ERC20 uniq rec token name</th>\n",
              "      <th>ERC20 most sent token type</th>\n",
              "      <th>ERC20_most_rec_token_type</th>\n",
              "    </tr>\n",
              "  </thead>\n",
              "  <tbody>\n",
              "    <tr>\n",
              "      <th>0</th>\n",
              "      <td>0</td>\n",
              "      <td>1</td>\n",
              "      <td>0x00009277775ac7d0d59eaad8fee3d10ac6c805e8</td>\n",
              "      <td>0</td>\n",
              "      <td>844.26</td>\n",
              "      <td>1093.71</td>\n",
              "      <td>704785.63</td>\n",
              "      <td>721</td>\n",
              "      <td>89</td>\n",
              "      <td>0</td>\n",
              "      <td>...</td>\n",
              "      <td>0.000000</td>\n",
              "      <td>1.683100e+07</td>\n",
              "      <td>271779.920000</td>\n",
              "      <td>0.0</td>\n",
              "      <td>0.0</td>\n",
              "      <td>0.0</td>\n",
              "      <td>39.0</td>\n",
              "      <td>57.0</td>\n",
              "      <td>Cofoundit</td>\n",
              "      <td>Numeraire</td>\n",
              "    </tr>\n",
              "    <tr>\n",
              "      <th>1</th>\n",
              "      <td>1</td>\n",
              "      <td>2</td>\n",
              "      <td>0x0002b44ddb1476db43c868bd494422ee4c136fed</td>\n",
              "      <td>0</td>\n",
              "      <td>12709.07</td>\n",
              "      <td>2958.44</td>\n",
              "      <td>1218216.73</td>\n",
              "      <td>94</td>\n",
              "      <td>8</td>\n",
              "      <td>0</td>\n",
              "      <td>...</td>\n",
              "      <td>2.260809</td>\n",
              "      <td>2.260809e+00</td>\n",
              "      <td>2.260809</td>\n",
              "      <td>0.0</td>\n",
              "      <td>0.0</td>\n",
              "      <td>0.0</td>\n",
              "      <td>1.0</td>\n",
              "      <td>7.0</td>\n",
              "      <td>Livepeer Token</td>\n",
              "      <td>Livepeer Token</td>\n",
              "    </tr>\n",
              "    <tr>\n",
              "      <th>2</th>\n",
              "      <td>2</td>\n",
              "      <td>3</td>\n",
              "      <td>0x0002bda54cb772d040f779e88eb453cac0daa244</td>\n",
              "      <td>0</td>\n",
              "      <td>246194.54</td>\n",
              "      <td>2434.02</td>\n",
              "      <td>516729.30</td>\n",
              "      <td>2</td>\n",
              "      <td>10</td>\n",
              "      <td>0</td>\n",
              "      <td>...</td>\n",
              "      <td>0.000000</td>\n",
              "      <td>0.000000e+00</td>\n",
              "      <td>0.000000</td>\n",
              "      <td>0.0</td>\n",
              "      <td>0.0</td>\n",
              "      <td>0.0</td>\n",
              "      <td>0.0</td>\n",
              "      <td>8.0</td>\n",
              "      <td>None</td>\n",
              "      <td>XENON</td>\n",
              "    </tr>\n",
              "    <tr>\n",
              "      <th>3</th>\n",
              "      <td>3</td>\n",
              "      <td>4</td>\n",
              "      <td>0x00038e6ba2fd5c09aedb96697c8d7b8fa6632e5e</td>\n",
              "      <td>0</td>\n",
              "      <td>10219.60</td>\n",
              "      <td>15785.09</td>\n",
              "      <td>397555.90</td>\n",
              "      <td>25</td>\n",
              "      <td>9</td>\n",
              "      <td>0</td>\n",
              "      <td>...</td>\n",
              "      <td>100.000000</td>\n",
              "      <td>9.029231e+03</td>\n",
              "      <td>3804.076893</td>\n",
              "      <td>0.0</td>\n",
              "      <td>0.0</td>\n",
              "      <td>0.0</td>\n",
              "      <td>1.0</td>\n",
              "      <td>11.0</td>\n",
              "      <td>Raiden</td>\n",
              "      <td>XENON</td>\n",
              "    </tr>\n",
              "    <tr>\n",
              "      <th>4</th>\n",
              "      <td>4</td>\n",
              "      <td>5</td>\n",
              "      <td>0x00062d1dd1afb6fb02540ddad9cdebfe568e0d89</td>\n",
              "      <td>0</td>\n",
              "      <td>36.61</td>\n",
              "      <td>10707.77</td>\n",
              "      <td>382472.42</td>\n",
              "      <td>4598</td>\n",
              "      <td>20</td>\n",
              "      <td>1</td>\n",
              "      <td>...</td>\n",
              "      <td>0.000000</td>\n",
              "      <td>4.500000e+04</td>\n",
              "      <td>13726.659220</td>\n",
              "      <td>0.0</td>\n",
              "      <td>0.0</td>\n",
              "      <td>0.0</td>\n",
              "      <td>6.0</td>\n",
              "      <td>27.0</td>\n",
              "      <td>StatusNetwork</td>\n",
              "      <td>EOS</td>\n",
              "    </tr>\n",
              "  </tbody>\n",
              "</table>\n",
              "<p>5 rows × 51 columns</p>\n",
              "</div>\n",
              "    <div class=\"colab-df-buttons\">\n",
              "\n",
              "  <div class=\"colab-df-container\">\n",
              "    <button class=\"colab-df-convert\" onclick=\"convertToInteractive('df-62bca94c-581a-49ce-b256-6b8b1d9260c4')\"\n",
              "            title=\"Convert this dataframe to an interactive table.\"\n",
              "            style=\"display:none;\">\n",
              "\n",
              "  <svg xmlns=\"http://www.w3.org/2000/svg\" height=\"24px\" viewBox=\"0 -960 960 960\">\n",
              "    <path d=\"M120-120v-720h720v720H120Zm60-500h600v-160H180v160Zm220 220h160v-160H400v160Zm0 220h160v-160H400v160ZM180-400h160v-160H180v160Zm440 0h160v-160H620v160ZM180-180h160v-160H180v160Zm440 0h160v-160H620v160Z\"/>\n",
              "  </svg>\n",
              "    </button>\n",
              "\n",
              "  <style>\n",
              "    .colab-df-container {\n",
              "      display:flex;\n",
              "      gap: 12px;\n",
              "    }\n",
              "\n",
              "    .colab-df-convert {\n",
              "      background-color: #E8F0FE;\n",
              "      border: none;\n",
              "      border-radius: 50%;\n",
              "      cursor: pointer;\n",
              "      display: none;\n",
              "      fill: #1967D2;\n",
              "      height: 32px;\n",
              "      padding: 0 0 0 0;\n",
              "      width: 32px;\n",
              "    }\n",
              "\n",
              "    .colab-df-convert:hover {\n",
              "      background-color: #E2EBFA;\n",
              "      box-shadow: 0px 1px 2px rgba(60, 64, 67, 0.3), 0px 1px 3px 1px rgba(60, 64, 67, 0.15);\n",
              "      fill: #174EA6;\n",
              "    }\n",
              "\n",
              "    .colab-df-buttons div {\n",
              "      margin-bottom: 4px;\n",
              "    }\n",
              "\n",
              "    [theme=dark] .colab-df-convert {\n",
              "      background-color: #3B4455;\n",
              "      fill: #D2E3FC;\n",
              "    }\n",
              "\n",
              "    [theme=dark] .colab-df-convert:hover {\n",
              "      background-color: #434B5C;\n",
              "      box-shadow: 0px 1px 3px 1px rgba(0, 0, 0, 0.15);\n",
              "      filter: drop-shadow(0px 1px 2px rgba(0, 0, 0, 0.3));\n",
              "      fill: #FFFFFF;\n",
              "    }\n",
              "  </style>\n",
              "\n",
              "    <script>\n",
              "      const buttonEl =\n",
              "        document.querySelector('#df-62bca94c-581a-49ce-b256-6b8b1d9260c4 button.colab-df-convert');\n",
              "      buttonEl.style.display =\n",
              "        google.colab.kernel.accessAllowed ? 'block' : 'none';\n",
              "\n",
              "      async function convertToInteractive(key) {\n",
              "        const element = document.querySelector('#df-62bca94c-581a-49ce-b256-6b8b1d9260c4');\n",
              "        const dataTable =\n",
              "          await google.colab.kernel.invokeFunction('convertToInteractive',\n",
              "                                                    [key], {});\n",
              "        if (!dataTable) return;\n",
              "\n",
              "        const docLinkHtml = 'Like what you see? Visit the ' +\n",
              "          '<a target=\"_blank\" href=https://colab.research.google.com/notebooks/data_table.ipynb>data table notebook</a>'\n",
              "          + ' to learn more about interactive tables.';\n",
              "        element.innerHTML = '';\n",
              "        dataTable['output_type'] = 'display_data';\n",
              "        await google.colab.output.renderOutput(dataTable, element);\n",
              "        const docLink = document.createElement('div');\n",
              "        docLink.innerHTML = docLinkHtml;\n",
              "        element.appendChild(docLink);\n",
              "      }\n",
              "    </script>\n",
              "  </div>\n",
              "\n",
              "\n",
              "<div id=\"df-4892fa4e-2393-4916-a846-684cfeb62978\">\n",
              "  <button class=\"colab-df-quickchart\" onclick=\"quickchart('df-4892fa4e-2393-4916-a846-684cfeb62978')\"\n",
              "            title=\"Suggest charts\"\n",
              "            style=\"display:none;\">\n",
              "\n",
              "<svg xmlns=\"http://www.w3.org/2000/svg\" height=\"24px\"viewBox=\"0 0 24 24\"\n",
              "     width=\"24px\">\n",
              "    <g>\n",
              "        <path d=\"M19 3H5c-1.1 0-2 .9-2 2v14c0 1.1.9 2 2 2h14c1.1 0 2-.9 2-2V5c0-1.1-.9-2-2-2zM9 17H7v-7h2v7zm4 0h-2V7h2v10zm4 0h-2v-4h2v4z\"/>\n",
              "    </g>\n",
              "</svg>\n",
              "  </button>\n",
              "\n",
              "<style>\n",
              "  .colab-df-quickchart {\n",
              "      --bg-color: #E8F0FE;\n",
              "      --fill-color: #1967D2;\n",
              "      --hover-bg-color: #E2EBFA;\n",
              "      --hover-fill-color: #174EA6;\n",
              "      --disabled-fill-color: #AAA;\n",
              "      --disabled-bg-color: #DDD;\n",
              "  }\n",
              "\n",
              "  [theme=dark] .colab-df-quickchart {\n",
              "      --bg-color: #3B4455;\n",
              "      --fill-color: #D2E3FC;\n",
              "      --hover-bg-color: #434B5C;\n",
              "      --hover-fill-color: #FFFFFF;\n",
              "      --disabled-bg-color: #3B4455;\n",
              "      --disabled-fill-color: #666;\n",
              "  }\n",
              "\n",
              "  .colab-df-quickchart {\n",
              "    background-color: var(--bg-color);\n",
              "    border: none;\n",
              "    border-radius: 50%;\n",
              "    cursor: pointer;\n",
              "    display: none;\n",
              "    fill: var(--fill-color);\n",
              "    height: 32px;\n",
              "    padding: 0;\n",
              "    width: 32px;\n",
              "  }\n",
              "\n",
              "  .colab-df-quickchart:hover {\n",
              "    background-color: var(--hover-bg-color);\n",
              "    box-shadow: 0 1px 2px rgba(60, 64, 67, 0.3), 0 1px 3px 1px rgba(60, 64, 67, 0.15);\n",
              "    fill: var(--button-hover-fill-color);\n",
              "  }\n",
              "\n",
              "  .colab-df-quickchart-complete:disabled,\n",
              "  .colab-df-quickchart-complete:disabled:hover {\n",
              "    background-color: var(--disabled-bg-color);\n",
              "    fill: var(--disabled-fill-color);\n",
              "    box-shadow: none;\n",
              "  }\n",
              "\n",
              "  .colab-df-spinner {\n",
              "    border: 2px solid var(--fill-color);\n",
              "    border-color: transparent;\n",
              "    border-bottom-color: var(--fill-color);\n",
              "    animation:\n",
              "      spin 1s steps(1) infinite;\n",
              "  }\n",
              "\n",
              "  @keyframes spin {\n",
              "    0% {\n",
              "      border-color: transparent;\n",
              "      border-bottom-color: var(--fill-color);\n",
              "      border-left-color: var(--fill-color);\n",
              "    }\n",
              "    20% {\n",
              "      border-color: transparent;\n",
              "      border-left-color: var(--fill-color);\n",
              "      border-top-color: var(--fill-color);\n",
              "    }\n",
              "    30% {\n",
              "      border-color: transparent;\n",
              "      border-left-color: var(--fill-color);\n",
              "      border-top-color: var(--fill-color);\n",
              "      border-right-color: var(--fill-color);\n",
              "    }\n",
              "    40% {\n",
              "      border-color: transparent;\n",
              "      border-right-color: var(--fill-color);\n",
              "      border-top-color: var(--fill-color);\n",
              "    }\n",
              "    60% {\n",
              "      border-color: transparent;\n",
              "      border-right-color: var(--fill-color);\n",
              "    }\n",
              "    80% {\n",
              "      border-color: transparent;\n",
              "      border-right-color: var(--fill-color);\n",
              "      border-bottom-color: var(--fill-color);\n",
              "    }\n",
              "    90% {\n",
              "      border-color: transparent;\n",
              "      border-bottom-color: var(--fill-color);\n",
              "    }\n",
              "  }\n",
              "</style>\n",
              "\n",
              "  <script>\n",
              "    async function quickchart(key) {\n",
              "      const quickchartButtonEl =\n",
              "        document.querySelector('#' + key + ' button');\n",
              "      quickchartButtonEl.disabled = true;  // To prevent multiple clicks.\n",
              "      quickchartButtonEl.classList.add('colab-df-spinner');\n",
              "      try {\n",
              "        const charts = await google.colab.kernel.invokeFunction(\n",
              "            'suggestCharts', [key], {});\n",
              "      } catch (error) {\n",
              "        console.error('Error during call to suggestCharts:', error);\n",
              "      }\n",
              "      quickchartButtonEl.classList.remove('colab-df-spinner');\n",
              "      quickchartButtonEl.classList.add('colab-df-quickchart-complete');\n",
              "    }\n",
              "    (() => {\n",
              "      let quickchartButtonEl =\n",
              "        document.querySelector('#df-4892fa4e-2393-4916-a846-684cfeb62978 button');\n",
              "      quickchartButtonEl.style.display =\n",
              "        google.colab.kernel.accessAllowed ? 'block' : 'none';\n",
              "    })();\n",
              "  </script>\n",
              "</div>\n",
              "    </div>\n",
              "  </div>\n"
            ],
            "application/vnd.google.colaboratory.intrinsic+json": {
              "type": "dataframe",
              "variable_name": "df"
            }
          },
          "metadata": {},
          "execution_count": 2
        }
      ]
    },
    {
      "cell_type": "markdown",
      "source": [
        "Usunięcie kolumn stringowych. Braki w nich mogą niesłusznie sugerować brak oszustwa"
      ],
      "metadata": {
        "id": "biO3BddANPw7"
      }
    },
    {
      "cell_type": "code",
      "source": [
        "for column in list(df):\n",
        "  if not pd.api.types.is_numeric_dtype(df[column]):\n",
        "    df.drop(column, axis=1, inplace=True)"
      ],
      "metadata": {
        "id": "ul0mOiQy3X9M"
      },
      "execution_count": 3,
      "outputs": []
    },
    {
      "cell_type": "code",
      "source": [
        "df.head()"
      ],
      "metadata": {
        "colab": {
          "base_uri": "https://localhost:8080/",
          "height": 325
        },
        "id": "yZAVT8dv8xch",
        "outputId": "c97fa9db-8eac-4247-c711-f8165b4456a2"
      },
      "execution_count": 4,
      "outputs": [
        {
          "output_type": "execute_result",
          "data": {
            "text/plain": [
              "   Unnamed: 0  Index  FLAG  Avg min between sent tnx  \\\n",
              "0           0      1     0                    844.26   \n",
              "1           1      2     0                  12709.07   \n",
              "2           2      3     0                 246194.54   \n",
              "3           3      4     0                  10219.60   \n",
              "4           4      5     0                     36.61   \n",
              "\n",
              "   Avg min between received tnx  Time Diff between first and last (Mins)  \\\n",
              "0                       1093.71                                704785.63   \n",
              "1                       2958.44                               1218216.73   \n",
              "2                       2434.02                                516729.30   \n",
              "3                      15785.09                                397555.90   \n",
              "4                      10707.77                                382472.42   \n",
              "\n",
              "   Sent tnx  Received Tnx  Number of Created Contracts  \\\n",
              "0       721            89                            0   \n",
              "1        94             8                            0   \n",
              "2         2            10                            0   \n",
              "3        25             9                            0   \n",
              "4      4598            20                            1   \n",
              "\n",
              "   Unique Received From Addresses  ...  ERC20 max val rec  ERC20 avg val rec  \\\n",
              "0                              40  ...       1.500000e+07      265586.147600   \n",
              "1                               5  ...       3.650000e+02          57.632615   \n",
              "2                              10  ...       4.428198e+02          65.189009   \n",
              "3                               7  ...       1.141223e+04        1555.550174   \n",
              "4                               7  ...       9.000000e+04        4934.232147   \n",
              "\n",
              "   ERC20 min val sent  ERC20 max val sent  ERC20 avg val sent  \\\n",
              "0            0.000000        1.683100e+07       271779.920000   \n",
              "1            2.260809        2.260809e+00            2.260809   \n",
              "2            0.000000        0.000000e+00            0.000000   \n",
              "3          100.000000        9.029231e+03         3804.076893   \n",
              "4            0.000000        4.500000e+04        13726.659220   \n",
              "\n",
              "   ERC20 min val sent contract  ERC20 max val sent contract  \\\n",
              "0                          0.0                          0.0   \n",
              "1                          0.0                          0.0   \n",
              "2                          0.0                          0.0   \n",
              "3                          0.0                          0.0   \n",
              "4                          0.0                          0.0   \n",
              "\n",
              "   ERC20 avg val sent contract  ERC20 uniq sent token name  \\\n",
              "0                          0.0                        39.0   \n",
              "1                          0.0                         1.0   \n",
              "2                          0.0                         0.0   \n",
              "3                          0.0                         1.0   \n",
              "4                          0.0                         6.0   \n",
              "\n",
              "   ERC20 uniq rec token name  \n",
              "0                       57.0  \n",
              "1                        7.0  \n",
              "2                        8.0  \n",
              "3                       11.0  \n",
              "4                       27.0  \n",
              "\n",
              "[5 rows x 48 columns]"
            ],
            "text/html": [
              "\n",
              "  <div id=\"df-a13e2c4e-9418-41f0-bcf6-f99e961b6035\" class=\"colab-df-container\">\n",
              "    <div>\n",
              "<style scoped>\n",
              "    .dataframe tbody tr th:only-of-type {\n",
              "        vertical-align: middle;\n",
              "    }\n",
              "\n",
              "    .dataframe tbody tr th {\n",
              "        vertical-align: top;\n",
              "    }\n",
              "\n",
              "    .dataframe thead th {\n",
              "        text-align: right;\n",
              "    }\n",
              "</style>\n",
              "<table border=\"1\" class=\"dataframe\">\n",
              "  <thead>\n",
              "    <tr style=\"text-align: right;\">\n",
              "      <th></th>\n",
              "      <th>Unnamed: 0</th>\n",
              "      <th>Index</th>\n",
              "      <th>FLAG</th>\n",
              "      <th>Avg min between sent tnx</th>\n",
              "      <th>Avg min between received tnx</th>\n",
              "      <th>Time Diff between first and last (Mins)</th>\n",
              "      <th>Sent tnx</th>\n",
              "      <th>Received Tnx</th>\n",
              "      <th>Number of Created Contracts</th>\n",
              "      <th>Unique Received From Addresses</th>\n",
              "      <th>...</th>\n",
              "      <th>ERC20 max val rec</th>\n",
              "      <th>ERC20 avg val rec</th>\n",
              "      <th>ERC20 min val sent</th>\n",
              "      <th>ERC20 max val sent</th>\n",
              "      <th>ERC20 avg val sent</th>\n",
              "      <th>ERC20 min val sent contract</th>\n",
              "      <th>ERC20 max val sent contract</th>\n",
              "      <th>ERC20 avg val sent contract</th>\n",
              "      <th>ERC20 uniq sent token name</th>\n",
              "      <th>ERC20 uniq rec token name</th>\n",
              "    </tr>\n",
              "  </thead>\n",
              "  <tbody>\n",
              "    <tr>\n",
              "      <th>0</th>\n",
              "      <td>0</td>\n",
              "      <td>1</td>\n",
              "      <td>0</td>\n",
              "      <td>844.26</td>\n",
              "      <td>1093.71</td>\n",
              "      <td>704785.63</td>\n",
              "      <td>721</td>\n",
              "      <td>89</td>\n",
              "      <td>0</td>\n",
              "      <td>40</td>\n",
              "      <td>...</td>\n",
              "      <td>1.500000e+07</td>\n",
              "      <td>265586.147600</td>\n",
              "      <td>0.000000</td>\n",
              "      <td>1.683100e+07</td>\n",
              "      <td>271779.920000</td>\n",
              "      <td>0.0</td>\n",
              "      <td>0.0</td>\n",
              "      <td>0.0</td>\n",
              "      <td>39.0</td>\n",
              "      <td>57.0</td>\n",
              "    </tr>\n",
              "    <tr>\n",
              "      <th>1</th>\n",
              "      <td>1</td>\n",
              "      <td>2</td>\n",
              "      <td>0</td>\n",
              "      <td>12709.07</td>\n",
              "      <td>2958.44</td>\n",
              "      <td>1218216.73</td>\n",
              "      <td>94</td>\n",
              "      <td>8</td>\n",
              "      <td>0</td>\n",
              "      <td>5</td>\n",
              "      <td>...</td>\n",
              "      <td>3.650000e+02</td>\n",
              "      <td>57.632615</td>\n",
              "      <td>2.260809</td>\n",
              "      <td>2.260809e+00</td>\n",
              "      <td>2.260809</td>\n",
              "      <td>0.0</td>\n",
              "      <td>0.0</td>\n",
              "      <td>0.0</td>\n",
              "      <td>1.0</td>\n",
              "      <td>7.0</td>\n",
              "    </tr>\n",
              "    <tr>\n",
              "      <th>2</th>\n",
              "      <td>2</td>\n",
              "      <td>3</td>\n",
              "      <td>0</td>\n",
              "      <td>246194.54</td>\n",
              "      <td>2434.02</td>\n",
              "      <td>516729.30</td>\n",
              "      <td>2</td>\n",
              "      <td>10</td>\n",
              "      <td>0</td>\n",
              "      <td>10</td>\n",
              "      <td>...</td>\n",
              "      <td>4.428198e+02</td>\n",
              "      <td>65.189009</td>\n",
              "      <td>0.000000</td>\n",
              "      <td>0.000000e+00</td>\n",
              "      <td>0.000000</td>\n",
              "      <td>0.0</td>\n",
              "      <td>0.0</td>\n",
              "      <td>0.0</td>\n",
              "      <td>0.0</td>\n",
              "      <td>8.0</td>\n",
              "    </tr>\n",
              "    <tr>\n",
              "      <th>3</th>\n",
              "      <td>3</td>\n",
              "      <td>4</td>\n",
              "      <td>0</td>\n",
              "      <td>10219.60</td>\n",
              "      <td>15785.09</td>\n",
              "      <td>397555.90</td>\n",
              "      <td>25</td>\n",
              "      <td>9</td>\n",
              "      <td>0</td>\n",
              "      <td>7</td>\n",
              "      <td>...</td>\n",
              "      <td>1.141223e+04</td>\n",
              "      <td>1555.550174</td>\n",
              "      <td>100.000000</td>\n",
              "      <td>9.029231e+03</td>\n",
              "      <td>3804.076893</td>\n",
              "      <td>0.0</td>\n",
              "      <td>0.0</td>\n",
              "      <td>0.0</td>\n",
              "      <td>1.0</td>\n",
              "      <td>11.0</td>\n",
              "    </tr>\n",
              "    <tr>\n",
              "      <th>4</th>\n",
              "      <td>4</td>\n",
              "      <td>5</td>\n",
              "      <td>0</td>\n",
              "      <td>36.61</td>\n",
              "      <td>10707.77</td>\n",
              "      <td>382472.42</td>\n",
              "      <td>4598</td>\n",
              "      <td>20</td>\n",
              "      <td>1</td>\n",
              "      <td>7</td>\n",
              "      <td>...</td>\n",
              "      <td>9.000000e+04</td>\n",
              "      <td>4934.232147</td>\n",
              "      <td>0.000000</td>\n",
              "      <td>4.500000e+04</td>\n",
              "      <td>13726.659220</td>\n",
              "      <td>0.0</td>\n",
              "      <td>0.0</td>\n",
              "      <td>0.0</td>\n",
              "      <td>6.0</td>\n",
              "      <td>27.0</td>\n",
              "    </tr>\n",
              "  </tbody>\n",
              "</table>\n",
              "<p>5 rows × 48 columns</p>\n",
              "</div>\n",
              "    <div class=\"colab-df-buttons\">\n",
              "\n",
              "  <div class=\"colab-df-container\">\n",
              "    <button class=\"colab-df-convert\" onclick=\"convertToInteractive('df-a13e2c4e-9418-41f0-bcf6-f99e961b6035')\"\n",
              "            title=\"Convert this dataframe to an interactive table.\"\n",
              "            style=\"display:none;\">\n",
              "\n",
              "  <svg xmlns=\"http://www.w3.org/2000/svg\" height=\"24px\" viewBox=\"0 -960 960 960\">\n",
              "    <path d=\"M120-120v-720h720v720H120Zm60-500h600v-160H180v160Zm220 220h160v-160H400v160Zm0 220h160v-160H400v160ZM180-400h160v-160H180v160Zm440 0h160v-160H620v160ZM180-180h160v-160H180v160Zm440 0h160v-160H620v160Z\"/>\n",
              "  </svg>\n",
              "    </button>\n",
              "\n",
              "  <style>\n",
              "    .colab-df-container {\n",
              "      display:flex;\n",
              "      gap: 12px;\n",
              "    }\n",
              "\n",
              "    .colab-df-convert {\n",
              "      background-color: #E8F0FE;\n",
              "      border: none;\n",
              "      border-radius: 50%;\n",
              "      cursor: pointer;\n",
              "      display: none;\n",
              "      fill: #1967D2;\n",
              "      height: 32px;\n",
              "      padding: 0 0 0 0;\n",
              "      width: 32px;\n",
              "    }\n",
              "\n",
              "    .colab-df-convert:hover {\n",
              "      background-color: #E2EBFA;\n",
              "      box-shadow: 0px 1px 2px rgba(60, 64, 67, 0.3), 0px 1px 3px 1px rgba(60, 64, 67, 0.15);\n",
              "      fill: #174EA6;\n",
              "    }\n",
              "\n",
              "    .colab-df-buttons div {\n",
              "      margin-bottom: 4px;\n",
              "    }\n",
              "\n",
              "    [theme=dark] .colab-df-convert {\n",
              "      background-color: #3B4455;\n",
              "      fill: #D2E3FC;\n",
              "    }\n",
              "\n",
              "    [theme=dark] .colab-df-convert:hover {\n",
              "      background-color: #434B5C;\n",
              "      box-shadow: 0px 1px 3px 1px rgba(0, 0, 0, 0.15);\n",
              "      filter: drop-shadow(0px 1px 2px rgba(0, 0, 0, 0.3));\n",
              "      fill: #FFFFFF;\n",
              "    }\n",
              "  </style>\n",
              "\n",
              "    <script>\n",
              "      const buttonEl =\n",
              "        document.querySelector('#df-a13e2c4e-9418-41f0-bcf6-f99e961b6035 button.colab-df-convert');\n",
              "      buttonEl.style.display =\n",
              "        google.colab.kernel.accessAllowed ? 'block' : 'none';\n",
              "\n",
              "      async function convertToInteractive(key) {\n",
              "        const element = document.querySelector('#df-a13e2c4e-9418-41f0-bcf6-f99e961b6035');\n",
              "        const dataTable =\n",
              "          await google.colab.kernel.invokeFunction('convertToInteractive',\n",
              "                                                    [key], {});\n",
              "        if (!dataTable) return;\n",
              "\n",
              "        const docLinkHtml = 'Like what you see? Visit the ' +\n",
              "          '<a target=\"_blank\" href=https://colab.research.google.com/notebooks/data_table.ipynb>data table notebook</a>'\n",
              "          + ' to learn more about interactive tables.';\n",
              "        element.innerHTML = '';\n",
              "        dataTable['output_type'] = 'display_data';\n",
              "        await google.colab.output.renderOutput(dataTable, element);\n",
              "        const docLink = document.createElement('div');\n",
              "        docLink.innerHTML = docLinkHtml;\n",
              "        element.appendChild(docLink);\n",
              "      }\n",
              "    </script>\n",
              "  </div>\n",
              "\n",
              "\n",
              "<div id=\"df-2981492e-96b3-4b0a-a812-bc93d29fc9e3\">\n",
              "  <button class=\"colab-df-quickchart\" onclick=\"quickchart('df-2981492e-96b3-4b0a-a812-bc93d29fc9e3')\"\n",
              "            title=\"Suggest charts\"\n",
              "            style=\"display:none;\">\n",
              "\n",
              "<svg xmlns=\"http://www.w3.org/2000/svg\" height=\"24px\"viewBox=\"0 0 24 24\"\n",
              "     width=\"24px\">\n",
              "    <g>\n",
              "        <path d=\"M19 3H5c-1.1 0-2 .9-2 2v14c0 1.1.9 2 2 2h14c1.1 0 2-.9 2-2V5c0-1.1-.9-2-2-2zM9 17H7v-7h2v7zm4 0h-2V7h2v10zm4 0h-2v-4h2v4z\"/>\n",
              "    </g>\n",
              "</svg>\n",
              "  </button>\n",
              "\n",
              "<style>\n",
              "  .colab-df-quickchart {\n",
              "      --bg-color: #E8F0FE;\n",
              "      --fill-color: #1967D2;\n",
              "      --hover-bg-color: #E2EBFA;\n",
              "      --hover-fill-color: #174EA6;\n",
              "      --disabled-fill-color: #AAA;\n",
              "      --disabled-bg-color: #DDD;\n",
              "  }\n",
              "\n",
              "  [theme=dark] .colab-df-quickchart {\n",
              "      --bg-color: #3B4455;\n",
              "      --fill-color: #D2E3FC;\n",
              "      --hover-bg-color: #434B5C;\n",
              "      --hover-fill-color: #FFFFFF;\n",
              "      --disabled-bg-color: #3B4455;\n",
              "      --disabled-fill-color: #666;\n",
              "  }\n",
              "\n",
              "  .colab-df-quickchart {\n",
              "    background-color: var(--bg-color);\n",
              "    border: none;\n",
              "    border-radius: 50%;\n",
              "    cursor: pointer;\n",
              "    display: none;\n",
              "    fill: var(--fill-color);\n",
              "    height: 32px;\n",
              "    padding: 0;\n",
              "    width: 32px;\n",
              "  }\n",
              "\n",
              "  .colab-df-quickchart:hover {\n",
              "    background-color: var(--hover-bg-color);\n",
              "    box-shadow: 0 1px 2px rgba(60, 64, 67, 0.3), 0 1px 3px 1px rgba(60, 64, 67, 0.15);\n",
              "    fill: var(--button-hover-fill-color);\n",
              "  }\n",
              "\n",
              "  .colab-df-quickchart-complete:disabled,\n",
              "  .colab-df-quickchart-complete:disabled:hover {\n",
              "    background-color: var(--disabled-bg-color);\n",
              "    fill: var(--disabled-fill-color);\n",
              "    box-shadow: none;\n",
              "  }\n",
              "\n",
              "  .colab-df-spinner {\n",
              "    border: 2px solid var(--fill-color);\n",
              "    border-color: transparent;\n",
              "    border-bottom-color: var(--fill-color);\n",
              "    animation:\n",
              "      spin 1s steps(1) infinite;\n",
              "  }\n",
              "\n",
              "  @keyframes spin {\n",
              "    0% {\n",
              "      border-color: transparent;\n",
              "      border-bottom-color: var(--fill-color);\n",
              "      border-left-color: var(--fill-color);\n",
              "    }\n",
              "    20% {\n",
              "      border-color: transparent;\n",
              "      border-left-color: var(--fill-color);\n",
              "      border-top-color: var(--fill-color);\n",
              "    }\n",
              "    30% {\n",
              "      border-color: transparent;\n",
              "      border-left-color: var(--fill-color);\n",
              "      border-top-color: var(--fill-color);\n",
              "      border-right-color: var(--fill-color);\n",
              "    }\n",
              "    40% {\n",
              "      border-color: transparent;\n",
              "      border-right-color: var(--fill-color);\n",
              "      border-top-color: var(--fill-color);\n",
              "    }\n",
              "    60% {\n",
              "      border-color: transparent;\n",
              "      border-right-color: var(--fill-color);\n",
              "    }\n",
              "    80% {\n",
              "      border-color: transparent;\n",
              "      border-right-color: var(--fill-color);\n",
              "      border-bottom-color: var(--fill-color);\n",
              "    }\n",
              "    90% {\n",
              "      border-color: transparent;\n",
              "      border-bottom-color: var(--fill-color);\n",
              "    }\n",
              "  }\n",
              "</style>\n",
              "\n",
              "  <script>\n",
              "    async function quickchart(key) {\n",
              "      const quickchartButtonEl =\n",
              "        document.querySelector('#' + key + ' button');\n",
              "      quickchartButtonEl.disabled = true;  // To prevent multiple clicks.\n",
              "      quickchartButtonEl.classList.add('colab-df-spinner');\n",
              "      try {\n",
              "        const charts = await google.colab.kernel.invokeFunction(\n",
              "            'suggestCharts', [key], {});\n",
              "      } catch (error) {\n",
              "        console.error('Error during call to suggestCharts:', error);\n",
              "      }\n",
              "      quickchartButtonEl.classList.remove('colab-df-spinner');\n",
              "      quickchartButtonEl.classList.add('colab-df-quickchart-complete');\n",
              "    }\n",
              "    (() => {\n",
              "      let quickchartButtonEl =\n",
              "        document.querySelector('#df-2981492e-96b3-4b0a-a812-bc93d29fc9e3 button');\n",
              "      quickchartButtonEl.style.display =\n",
              "        google.colab.kernel.accessAllowed ? 'block' : 'none';\n",
              "    })();\n",
              "  </script>\n",
              "</div>\n",
              "    </div>\n",
              "  </div>\n"
            ],
            "application/vnd.google.colaboratory.intrinsic+json": {
              "type": "dataframe",
              "variable_name": "df"
            }
          },
          "metadata": {},
          "execution_count": 4
        }
      ]
    },
    {
      "cell_type": "markdown",
      "source": [
        "Przejrzenie informacji\n"
      ],
      "metadata": {
        "id": "pYIgryzokLKc"
      }
    },
    {
      "cell_type": "code",
      "source": [
        "df.info()"
      ],
      "metadata": {
        "id": "O7QMvBd5kMuS",
        "outputId": "5abd8129-7f34-4912-e92b-ee49877839f6",
        "colab": {
          "base_uri": "https://localhost:8080/"
        }
      },
      "execution_count": 5,
      "outputs": [
        {
          "output_type": "stream",
          "name": "stdout",
          "text": [
            "<class 'pandas.core.frame.DataFrame'>\n",
            "RangeIndex: 9841 entries, 0 to 9840\n",
            "Data columns (total 48 columns):\n",
            " #   Column                                                Non-Null Count  Dtype  \n",
            "---  ------                                                --------------  -----  \n",
            " 0   Unnamed: 0                                            9841 non-null   int64  \n",
            " 1   Index                                                 9841 non-null   int64  \n",
            " 2   FLAG                                                  9841 non-null   int64  \n",
            " 3   Avg min between sent tnx                              9841 non-null   float64\n",
            " 4   Avg min between received tnx                          9841 non-null   float64\n",
            " 5   Time Diff between first and last (Mins)               9841 non-null   float64\n",
            " 6   Sent tnx                                              9841 non-null   int64  \n",
            " 7   Received Tnx                                          9841 non-null   int64  \n",
            " 8   Number of Created Contracts                           9841 non-null   int64  \n",
            " 9   Unique Received From Addresses                        9841 non-null   int64  \n",
            " 10  Unique Sent To Addresses                              9841 non-null   int64  \n",
            " 11  min value received                                    9841 non-null   float64\n",
            " 12  max value received                                    9841 non-null   float64\n",
            " 13  avg val received                                      9841 non-null   float64\n",
            " 14  min val sent                                          9841 non-null   float64\n",
            " 15  max val sent                                          9841 non-null   float64\n",
            " 16  avg val sent                                          9841 non-null   float64\n",
            " 17  min value sent to contract                            9841 non-null   float64\n",
            " 18  max val sent to contract                              9841 non-null   float64\n",
            " 19  avg value sent to contract                            9841 non-null   float64\n",
            " 20  total transactions (including tnx to create contract  9841 non-null   int64  \n",
            " 21  total Ether sent                                      9841 non-null   float64\n",
            " 22  total ether received                                  9841 non-null   float64\n",
            " 23  total ether sent contracts                            9841 non-null   float64\n",
            " 24  total ether balance                                   9841 non-null   float64\n",
            " 25  Total ERC20 tnxs                                      9012 non-null   float64\n",
            " 26  ERC20 total Ether received                            9012 non-null   float64\n",
            " 27  ERC20 total ether sent                                9012 non-null   float64\n",
            " 28  ERC20 total Ether sent contract                       9012 non-null   float64\n",
            " 29  ERC20 uniq sent addr                                  9012 non-null   float64\n",
            " 30  ERC20 uniq rec addr                                   9012 non-null   float64\n",
            " 31  ERC20 uniq sent addr.1                                9012 non-null   float64\n",
            " 32  ERC20 uniq rec contract addr                          9012 non-null   float64\n",
            " 33  ERC20 avg time between sent tnx                       9012 non-null   float64\n",
            " 34  ERC20 avg time between rec tnx                        9012 non-null   float64\n",
            " 35  ERC20 avg time between rec 2 tnx                      9012 non-null   float64\n",
            " 36  ERC20 avg time between contract tnx                   9012 non-null   float64\n",
            " 37  ERC20 min val rec                                     9012 non-null   float64\n",
            " 38  ERC20 max val rec                                     9012 non-null   float64\n",
            " 39  ERC20 avg val rec                                     9012 non-null   float64\n",
            " 40  ERC20 min val sent                                    9012 non-null   float64\n",
            " 41  ERC20 max val sent                                    9012 non-null   float64\n",
            " 42  ERC20 avg val sent                                    9012 non-null   float64\n",
            " 43  ERC20 min val sent contract                           9012 non-null   float64\n",
            " 44  ERC20 max val sent contract                           9012 non-null   float64\n",
            " 45  ERC20 avg val sent contract                           9012 non-null   float64\n",
            " 46  ERC20 uniq sent token name                            9012 non-null   float64\n",
            " 47  ERC20 uniq rec token name                             9012 non-null   float64\n",
            "dtypes: float64(39), int64(9)\n",
            "memory usage: 3.6 MB\n"
          ]
        }
      ]
    },
    {
      "cell_type": "code",
      "source": [
        "df.describe()"
      ],
      "metadata": {
        "colab": {
          "base_uri": "https://localhost:8080/",
          "height": 402
        },
        "id": "MeP-w5U8lQOz",
        "outputId": "0e3ce8d4-6dba-4495-8ab8-4b78ff8b2047"
      },
      "execution_count": 6,
      "outputs": [
        {
          "output_type": "execute_result",
          "data": {
            "text/plain": [
              "        Unnamed: 0        Index         FLAG  Avg min between sent tnx  \\\n",
              "count  9841.000000  9841.000000  9841.000000               9841.000000   \n",
              "mean   4920.000000  1815.049893     0.221421               5086.878721   \n",
              "std    2840.996333  1222.621830     0.415224              21486.549974   \n",
              "min       0.000000     1.000000     0.000000                  0.000000   \n",
              "25%    2460.000000   821.000000     0.000000                  0.000000   \n",
              "50%    4920.000000  1641.000000     0.000000                 17.340000   \n",
              "75%    7380.000000  2601.000000     0.000000                565.470000   \n",
              "max    9840.000000  4729.000000     1.000000             430287.670000   \n",
              "\n",
              "       Avg min between received tnx  Time Diff between first and last (Mins)  \\\n",
              "count                   9841.000000                             9.841000e+03   \n",
              "mean                    8004.851184                             2.183333e+05   \n",
              "std                    23081.714801                             3.229379e+05   \n",
              "min                        0.000000                             0.000000e+00   \n",
              "25%                        0.000000                             3.169300e+02   \n",
              "50%                      509.770000                             4.663703e+04   \n",
              "75%                     5480.390000                             3.040710e+05   \n",
              "max                   482175.490000                             1.954861e+06   \n",
              "\n",
              "           Sent tnx  Received Tnx  Number of Created Contracts  \\\n",
              "count   9841.000000   9841.000000                  9841.000000   \n",
              "mean     115.931714    163.700945                     3.729702   \n",
              "std      757.226361    940.836550                   141.445583   \n",
              "min        0.000000      0.000000                     0.000000   \n",
              "25%        1.000000      1.000000                     0.000000   \n",
              "50%        3.000000      4.000000                     0.000000   \n",
              "75%       11.000000     27.000000                     0.000000   \n",
              "max    10000.000000  10000.000000                  9995.000000   \n",
              "\n",
              "       Unique Received From Addresses  ...  ERC20 max val rec  \\\n",
              "count                     9841.000000  ...       9.012000e+03   \n",
              "mean                        30.360939  ...       1.252524e+08   \n",
              "std                        298.621112  ...       1.053741e+10   \n",
              "min                          0.000000  ...       0.000000e+00   \n",
              "25%                          1.000000  ...       0.000000e+00   \n",
              "50%                          2.000000  ...       0.000000e+00   \n",
              "75%                          5.000000  ...       9.900000e+01   \n",
              "max                       9999.000000  ...       1.000000e+12   \n",
              "\n",
              "       ERC20 avg val rec  ERC20 min val sent  ERC20 max val sent  \\\n",
              "count       9.012000e+03        9.012000e+03        9.012000e+03   \n",
              "mean        4.346203e+06        1.174126e+04        1.303594e+07   \n",
              "std         2.141192e+08        1.053567e+06        1.179905e+09   \n",
              "min         0.000000e+00        0.000000e+00        0.000000e+00   \n",
              "25%         0.000000e+00        0.000000e+00        0.000000e+00   \n",
              "50%         0.000000e+00        0.000000e+00        0.000000e+00   \n",
              "75%         2.946467e+01        0.000000e+00        0.000000e+00   \n",
              "max         1.724181e+10        1.000000e+08        1.120000e+11   \n",
              "\n",
              "       ERC20 avg val sent  ERC20 min val sent contract  \\\n",
              "count        9.012000e+03                       9012.0   \n",
              "mean         6.318389e+06                          0.0   \n",
              "std          5.914764e+08                          0.0   \n",
              "min          0.000000e+00                          0.0   \n",
              "25%          0.000000e+00                          0.0   \n",
              "50%          0.000000e+00                          0.0   \n",
              "75%          0.000000e+00                          0.0   \n",
              "max          5.614756e+10                          0.0   \n",
              "\n",
              "       ERC20 max val sent contract  ERC20 avg val sent contract  \\\n",
              "count                       9012.0                       9012.0   \n",
              "mean                           0.0                          0.0   \n",
              "std                            0.0                          0.0   \n",
              "min                            0.0                          0.0   \n",
              "25%                            0.0                          0.0   \n",
              "50%                            0.0                          0.0   \n",
              "75%                            0.0                          0.0   \n",
              "max                            0.0                          0.0   \n",
              "\n",
              "       ERC20 uniq sent token name  ERC20 uniq rec token name  \n",
              "count                 9012.000000                9012.000000  \n",
              "mean                     1.384931                   4.826676  \n",
              "std                      6.735121                  16.678607  \n",
              "min                      0.000000                   0.000000  \n",
              "25%                      0.000000                   0.000000  \n",
              "50%                      0.000000                   1.000000  \n",
              "75%                      0.000000                   2.000000  \n",
              "max                    213.000000                 737.000000  \n",
              "\n",
              "[8 rows x 48 columns]"
            ],
            "text/html": [
              "\n",
              "  <div id=\"df-cbc2891d-4126-4bd9-891d-35c41598ed31\" class=\"colab-df-container\">\n",
              "    <div>\n",
              "<style scoped>\n",
              "    .dataframe tbody tr th:only-of-type {\n",
              "        vertical-align: middle;\n",
              "    }\n",
              "\n",
              "    .dataframe tbody tr th {\n",
              "        vertical-align: top;\n",
              "    }\n",
              "\n",
              "    .dataframe thead th {\n",
              "        text-align: right;\n",
              "    }\n",
              "</style>\n",
              "<table border=\"1\" class=\"dataframe\">\n",
              "  <thead>\n",
              "    <tr style=\"text-align: right;\">\n",
              "      <th></th>\n",
              "      <th>Unnamed: 0</th>\n",
              "      <th>Index</th>\n",
              "      <th>FLAG</th>\n",
              "      <th>Avg min between sent tnx</th>\n",
              "      <th>Avg min between received tnx</th>\n",
              "      <th>Time Diff between first and last (Mins)</th>\n",
              "      <th>Sent tnx</th>\n",
              "      <th>Received Tnx</th>\n",
              "      <th>Number of Created Contracts</th>\n",
              "      <th>Unique Received From Addresses</th>\n",
              "      <th>...</th>\n",
              "      <th>ERC20 max val rec</th>\n",
              "      <th>ERC20 avg val rec</th>\n",
              "      <th>ERC20 min val sent</th>\n",
              "      <th>ERC20 max val sent</th>\n",
              "      <th>ERC20 avg val sent</th>\n",
              "      <th>ERC20 min val sent contract</th>\n",
              "      <th>ERC20 max val sent contract</th>\n",
              "      <th>ERC20 avg val sent contract</th>\n",
              "      <th>ERC20 uniq sent token name</th>\n",
              "      <th>ERC20 uniq rec token name</th>\n",
              "    </tr>\n",
              "  </thead>\n",
              "  <tbody>\n",
              "    <tr>\n",
              "      <th>count</th>\n",
              "      <td>9841.000000</td>\n",
              "      <td>9841.000000</td>\n",
              "      <td>9841.000000</td>\n",
              "      <td>9841.000000</td>\n",
              "      <td>9841.000000</td>\n",
              "      <td>9.841000e+03</td>\n",
              "      <td>9841.000000</td>\n",
              "      <td>9841.000000</td>\n",
              "      <td>9841.000000</td>\n",
              "      <td>9841.000000</td>\n",
              "      <td>...</td>\n",
              "      <td>9.012000e+03</td>\n",
              "      <td>9.012000e+03</td>\n",
              "      <td>9.012000e+03</td>\n",
              "      <td>9.012000e+03</td>\n",
              "      <td>9.012000e+03</td>\n",
              "      <td>9012.0</td>\n",
              "      <td>9012.0</td>\n",
              "      <td>9012.0</td>\n",
              "      <td>9012.000000</td>\n",
              "      <td>9012.000000</td>\n",
              "    </tr>\n",
              "    <tr>\n",
              "      <th>mean</th>\n",
              "      <td>4920.000000</td>\n",
              "      <td>1815.049893</td>\n",
              "      <td>0.221421</td>\n",
              "      <td>5086.878721</td>\n",
              "      <td>8004.851184</td>\n",
              "      <td>2.183333e+05</td>\n",
              "      <td>115.931714</td>\n",
              "      <td>163.700945</td>\n",
              "      <td>3.729702</td>\n",
              "      <td>30.360939</td>\n",
              "      <td>...</td>\n",
              "      <td>1.252524e+08</td>\n",
              "      <td>4.346203e+06</td>\n",
              "      <td>1.174126e+04</td>\n",
              "      <td>1.303594e+07</td>\n",
              "      <td>6.318389e+06</td>\n",
              "      <td>0.0</td>\n",
              "      <td>0.0</td>\n",
              "      <td>0.0</td>\n",
              "      <td>1.384931</td>\n",
              "      <td>4.826676</td>\n",
              "    </tr>\n",
              "    <tr>\n",
              "      <th>std</th>\n",
              "      <td>2840.996333</td>\n",
              "      <td>1222.621830</td>\n",
              "      <td>0.415224</td>\n",
              "      <td>21486.549974</td>\n",
              "      <td>23081.714801</td>\n",
              "      <td>3.229379e+05</td>\n",
              "      <td>757.226361</td>\n",
              "      <td>940.836550</td>\n",
              "      <td>141.445583</td>\n",
              "      <td>298.621112</td>\n",
              "      <td>...</td>\n",
              "      <td>1.053741e+10</td>\n",
              "      <td>2.141192e+08</td>\n",
              "      <td>1.053567e+06</td>\n",
              "      <td>1.179905e+09</td>\n",
              "      <td>5.914764e+08</td>\n",
              "      <td>0.0</td>\n",
              "      <td>0.0</td>\n",
              "      <td>0.0</td>\n",
              "      <td>6.735121</td>\n",
              "      <td>16.678607</td>\n",
              "    </tr>\n",
              "    <tr>\n",
              "      <th>min</th>\n",
              "      <td>0.000000</td>\n",
              "      <td>1.000000</td>\n",
              "      <td>0.000000</td>\n",
              "      <td>0.000000</td>\n",
              "      <td>0.000000</td>\n",
              "      <td>0.000000e+00</td>\n",
              "      <td>0.000000</td>\n",
              "      <td>0.000000</td>\n",
              "      <td>0.000000</td>\n",
              "      <td>0.000000</td>\n",
              "      <td>...</td>\n",
              "      <td>0.000000e+00</td>\n",
              "      <td>0.000000e+00</td>\n",
              "      <td>0.000000e+00</td>\n",
              "      <td>0.000000e+00</td>\n",
              "      <td>0.000000e+00</td>\n",
              "      <td>0.0</td>\n",
              "      <td>0.0</td>\n",
              "      <td>0.0</td>\n",
              "      <td>0.000000</td>\n",
              "      <td>0.000000</td>\n",
              "    </tr>\n",
              "    <tr>\n",
              "      <th>25%</th>\n",
              "      <td>2460.000000</td>\n",
              "      <td>821.000000</td>\n",
              "      <td>0.000000</td>\n",
              "      <td>0.000000</td>\n",
              "      <td>0.000000</td>\n",
              "      <td>3.169300e+02</td>\n",
              "      <td>1.000000</td>\n",
              "      <td>1.000000</td>\n",
              "      <td>0.000000</td>\n",
              "      <td>1.000000</td>\n",
              "      <td>...</td>\n",
              "      <td>0.000000e+00</td>\n",
              "      <td>0.000000e+00</td>\n",
              "      <td>0.000000e+00</td>\n",
              "      <td>0.000000e+00</td>\n",
              "      <td>0.000000e+00</td>\n",
              "      <td>0.0</td>\n",
              "      <td>0.0</td>\n",
              "      <td>0.0</td>\n",
              "      <td>0.000000</td>\n",
              "      <td>0.000000</td>\n",
              "    </tr>\n",
              "    <tr>\n",
              "      <th>50%</th>\n",
              "      <td>4920.000000</td>\n",
              "      <td>1641.000000</td>\n",
              "      <td>0.000000</td>\n",
              "      <td>17.340000</td>\n",
              "      <td>509.770000</td>\n",
              "      <td>4.663703e+04</td>\n",
              "      <td>3.000000</td>\n",
              "      <td>4.000000</td>\n",
              "      <td>0.000000</td>\n",
              "      <td>2.000000</td>\n",
              "      <td>...</td>\n",
              "      <td>0.000000e+00</td>\n",
              "      <td>0.000000e+00</td>\n",
              "      <td>0.000000e+00</td>\n",
              "      <td>0.000000e+00</td>\n",
              "      <td>0.000000e+00</td>\n",
              "      <td>0.0</td>\n",
              "      <td>0.0</td>\n",
              "      <td>0.0</td>\n",
              "      <td>0.000000</td>\n",
              "      <td>1.000000</td>\n",
              "    </tr>\n",
              "    <tr>\n",
              "      <th>75%</th>\n",
              "      <td>7380.000000</td>\n",
              "      <td>2601.000000</td>\n",
              "      <td>0.000000</td>\n",
              "      <td>565.470000</td>\n",
              "      <td>5480.390000</td>\n",
              "      <td>3.040710e+05</td>\n",
              "      <td>11.000000</td>\n",
              "      <td>27.000000</td>\n",
              "      <td>0.000000</td>\n",
              "      <td>5.000000</td>\n",
              "      <td>...</td>\n",
              "      <td>9.900000e+01</td>\n",
              "      <td>2.946467e+01</td>\n",
              "      <td>0.000000e+00</td>\n",
              "      <td>0.000000e+00</td>\n",
              "      <td>0.000000e+00</td>\n",
              "      <td>0.0</td>\n",
              "      <td>0.0</td>\n",
              "      <td>0.0</td>\n",
              "      <td>0.000000</td>\n",
              "      <td>2.000000</td>\n",
              "    </tr>\n",
              "    <tr>\n",
              "      <th>max</th>\n",
              "      <td>9840.000000</td>\n",
              "      <td>4729.000000</td>\n",
              "      <td>1.000000</td>\n",
              "      <td>430287.670000</td>\n",
              "      <td>482175.490000</td>\n",
              "      <td>1.954861e+06</td>\n",
              "      <td>10000.000000</td>\n",
              "      <td>10000.000000</td>\n",
              "      <td>9995.000000</td>\n",
              "      <td>9999.000000</td>\n",
              "      <td>...</td>\n",
              "      <td>1.000000e+12</td>\n",
              "      <td>1.724181e+10</td>\n",
              "      <td>1.000000e+08</td>\n",
              "      <td>1.120000e+11</td>\n",
              "      <td>5.614756e+10</td>\n",
              "      <td>0.0</td>\n",
              "      <td>0.0</td>\n",
              "      <td>0.0</td>\n",
              "      <td>213.000000</td>\n",
              "      <td>737.000000</td>\n",
              "    </tr>\n",
              "  </tbody>\n",
              "</table>\n",
              "<p>8 rows × 48 columns</p>\n",
              "</div>\n",
              "    <div class=\"colab-df-buttons\">\n",
              "\n",
              "  <div class=\"colab-df-container\">\n",
              "    <button class=\"colab-df-convert\" onclick=\"convertToInteractive('df-cbc2891d-4126-4bd9-891d-35c41598ed31')\"\n",
              "            title=\"Convert this dataframe to an interactive table.\"\n",
              "            style=\"display:none;\">\n",
              "\n",
              "  <svg xmlns=\"http://www.w3.org/2000/svg\" height=\"24px\" viewBox=\"0 -960 960 960\">\n",
              "    <path d=\"M120-120v-720h720v720H120Zm60-500h600v-160H180v160Zm220 220h160v-160H400v160Zm0 220h160v-160H400v160ZM180-400h160v-160H180v160Zm440 0h160v-160H620v160ZM180-180h160v-160H180v160Zm440 0h160v-160H620v160Z\"/>\n",
              "  </svg>\n",
              "    </button>\n",
              "\n",
              "  <style>\n",
              "    .colab-df-container {\n",
              "      display:flex;\n",
              "      gap: 12px;\n",
              "    }\n",
              "\n",
              "    .colab-df-convert {\n",
              "      background-color: #E8F0FE;\n",
              "      border: none;\n",
              "      border-radius: 50%;\n",
              "      cursor: pointer;\n",
              "      display: none;\n",
              "      fill: #1967D2;\n",
              "      height: 32px;\n",
              "      padding: 0 0 0 0;\n",
              "      width: 32px;\n",
              "    }\n",
              "\n",
              "    .colab-df-convert:hover {\n",
              "      background-color: #E2EBFA;\n",
              "      box-shadow: 0px 1px 2px rgba(60, 64, 67, 0.3), 0px 1px 3px 1px rgba(60, 64, 67, 0.15);\n",
              "      fill: #174EA6;\n",
              "    }\n",
              "\n",
              "    .colab-df-buttons div {\n",
              "      margin-bottom: 4px;\n",
              "    }\n",
              "\n",
              "    [theme=dark] .colab-df-convert {\n",
              "      background-color: #3B4455;\n",
              "      fill: #D2E3FC;\n",
              "    }\n",
              "\n",
              "    [theme=dark] .colab-df-convert:hover {\n",
              "      background-color: #434B5C;\n",
              "      box-shadow: 0px 1px 3px 1px rgba(0, 0, 0, 0.15);\n",
              "      filter: drop-shadow(0px 1px 2px rgba(0, 0, 0, 0.3));\n",
              "      fill: #FFFFFF;\n",
              "    }\n",
              "  </style>\n",
              "\n",
              "    <script>\n",
              "      const buttonEl =\n",
              "        document.querySelector('#df-cbc2891d-4126-4bd9-891d-35c41598ed31 button.colab-df-convert');\n",
              "      buttonEl.style.display =\n",
              "        google.colab.kernel.accessAllowed ? 'block' : 'none';\n",
              "\n",
              "      async function convertToInteractive(key) {\n",
              "        const element = document.querySelector('#df-cbc2891d-4126-4bd9-891d-35c41598ed31');\n",
              "        const dataTable =\n",
              "          await google.colab.kernel.invokeFunction('convertToInteractive',\n",
              "                                                    [key], {});\n",
              "        if (!dataTable) return;\n",
              "\n",
              "        const docLinkHtml = 'Like what you see? Visit the ' +\n",
              "          '<a target=\"_blank\" href=https://colab.research.google.com/notebooks/data_table.ipynb>data table notebook</a>'\n",
              "          + ' to learn more about interactive tables.';\n",
              "        element.innerHTML = '';\n",
              "        dataTable['output_type'] = 'display_data';\n",
              "        await google.colab.output.renderOutput(dataTable, element);\n",
              "        const docLink = document.createElement('div');\n",
              "        docLink.innerHTML = docLinkHtml;\n",
              "        element.appendChild(docLink);\n",
              "      }\n",
              "    </script>\n",
              "  </div>\n",
              "\n",
              "\n",
              "<div id=\"df-993c9bfd-46cf-4614-b1f4-310ea134f320\">\n",
              "  <button class=\"colab-df-quickchart\" onclick=\"quickchart('df-993c9bfd-46cf-4614-b1f4-310ea134f320')\"\n",
              "            title=\"Suggest charts\"\n",
              "            style=\"display:none;\">\n",
              "\n",
              "<svg xmlns=\"http://www.w3.org/2000/svg\" height=\"24px\"viewBox=\"0 0 24 24\"\n",
              "     width=\"24px\">\n",
              "    <g>\n",
              "        <path d=\"M19 3H5c-1.1 0-2 .9-2 2v14c0 1.1.9 2 2 2h14c1.1 0 2-.9 2-2V5c0-1.1-.9-2-2-2zM9 17H7v-7h2v7zm4 0h-2V7h2v10zm4 0h-2v-4h2v4z\"/>\n",
              "    </g>\n",
              "</svg>\n",
              "  </button>\n",
              "\n",
              "<style>\n",
              "  .colab-df-quickchart {\n",
              "      --bg-color: #E8F0FE;\n",
              "      --fill-color: #1967D2;\n",
              "      --hover-bg-color: #E2EBFA;\n",
              "      --hover-fill-color: #174EA6;\n",
              "      --disabled-fill-color: #AAA;\n",
              "      --disabled-bg-color: #DDD;\n",
              "  }\n",
              "\n",
              "  [theme=dark] .colab-df-quickchart {\n",
              "      --bg-color: #3B4455;\n",
              "      --fill-color: #D2E3FC;\n",
              "      --hover-bg-color: #434B5C;\n",
              "      --hover-fill-color: #FFFFFF;\n",
              "      --disabled-bg-color: #3B4455;\n",
              "      --disabled-fill-color: #666;\n",
              "  }\n",
              "\n",
              "  .colab-df-quickchart {\n",
              "    background-color: var(--bg-color);\n",
              "    border: none;\n",
              "    border-radius: 50%;\n",
              "    cursor: pointer;\n",
              "    display: none;\n",
              "    fill: var(--fill-color);\n",
              "    height: 32px;\n",
              "    padding: 0;\n",
              "    width: 32px;\n",
              "  }\n",
              "\n",
              "  .colab-df-quickchart:hover {\n",
              "    background-color: var(--hover-bg-color);\n",
              "    box-shadow: 0 1px 2px rgba(60, 64, 67, 0.3), 0 1px 3px 1px rgba(60, 64, 67, 0.15);\n",
              "    fill: var(--button-hover-fill-color);\n",
              "  }\n",
              "\n",
              "  .colab-df-quickchart-complete:disabled,\n",
              "  .colab-df-quickchart-complete:disabled:hover {\n",
              "    background-color: var(--disabled-bg-color);\n",
              "    fill: var(--disabled-fill-color);\n",
              "    box-shadow: none;\n",
              "  }\n",
              "\n",
              "  .colab-df-spinner {\n",
              "    border: 2px solid var(--fill-color);\n",
              "    border-color: transparent;\n",
              "    border-bottom-color: var(--fill-color);\n",
              "    animation:\n",
              "      spin 1s steps(1) infinite;\n",
              "  }\n",
              "\n",
              "  @keyframes spin {\n",
              "    0% {\n",
              "      border-color: transparent;\n",
              "      border-bottom-color: var(--fill-color);\n",
              "      border-left-color: var(--fill-color);\n",
              "    }\n",
              "    20% {\n",
              "      border-color: transparent;\n",
              "      border-left-color: var(--fill-color);\n",
              "      border-top-color: var(--fill-color);\n",
              "    }\n",
              "    30% {\n",
              "      border-color: transparent;\n",
              "      border-left-color: var(--fill-color);\n",
              "      border-top-color: var(--fill-color);\n",
              "      border-right-color: var(--fill-color);\n",
              "    }\n",
              "    40% {\n",
              "      border-color: transparent;\n",
              "      border-right-color: var(--fill-color);\n",
              "      border-top-color: var(--fill-color);\n",
              "    }\n",
              "    60% {\n",
              "      border-color: transparent;\n",
              "      border-right-color: var(--fill-color);\n",
              "    }\n",
              "    80% {\n",
              "      border-color: transparent;\n",
              "      border-right-color: var(--fill-color);\n",
              "      border-bottom-color: var(--fill-color);\n",
              "    }\n",
              "    90% {\n",
              "      border-color: transparent;\n",
              "      border-bottom-color: var(--fill-color);\n",
              "    }\n",
              "  }\n",
              "</style>\n",
              "\n",
              "  <script>\n",
              "    async function quickchart(key) {\n",
              "      const quickchartButtonEl =\n",
              "        document.querySelector('#' + key + ' button');\n",
              "      quickchartButtonEl.disabled = true;  // To prevent multiple clicks.\n",
              "      quickchartButtonEl.classList.add('colab-df-spinner');\n",
              "      try {\n",
              "        const charts = await google.colab.kernel.invokeFunction(\n",
              "            'suggestCharts', [key], {});\n",
              "      } catch (error) {\n",
              "        console.error('Error during call to suggestCharts:', error);\n",
              "      }\n",
              "      quickchartButtonEl.classList.remove('colab-df-spinner');\n",
              "      quickchartButtonEl.classList.add('colab-df-quickchart-complete');\n",
              "    }\n",
              "    (() => {\n",
              "      let quickchartButtonEl =\n",
              "        document.querySelector('#df-993c9bfd-46cf-4614-b1f4-310ea134f320 button');\n",
              "      quickchartButtonEl.style.display =\n",
              "        google.colab.kernel.accessAllowed ? 'block' : 'none';\n",
              "    })();\n",
              "  </script>\n",
              "</div>\n",
              "    </div>\n",
              "  </div>\n"
            ],
            "application/vnd.google.colaboratory.intrinsic+json": {
              "type": "dataframe"
            }
          },
          "metadata": {},
          "execution_count": 6
        }
      ]
    },
    {
      "cell_type": "markdown",
      "source": [
        "Sprawdzanie oszustw"
      ],
      "metadata": {
        "id": "CzglUg7ilbu9"
      }
    },
    {
      "cell_type": "code",
      "source": [
        "df[\"FLAG\"].value_counts()"
      ],
      "metadata": {
        "colab": {
          "base_uri": "https://localhost:8080/"
        },
        "id": "iOzR745-mpQw",
        "outputId": "704f5683-aafe-4d5c-b10a-0e113ff766da"
      },
      "execution_count": 7,
      "outputs": [
        {
          "output_type": "execute_result",
          "data": {
            "text/plain": [
              "0    7662\n",
              "1    2179\n",
              "Name: FLAG, dtype: int64"
            ]
          },
          "metadata": {},
          "execution_count": 7
        }
      ]
    },
    {
      "cell_type": "code",
      "source": [
        "df['FLAG'].value_counts().plot(kind= 'bar')\n",
        "plt.xlabel(\"Oszustwo\")\n",
        "plt.ylabel(\"Liczba wystąpień\");"
      ],
      "metadata": {
        "colab": {
          "base_uri": "https://localhost:8080/",
          "height": 448
        },
        "id": "0KKrohTXmwCj",
        "outputId": "5f5e05f4-c845-4e10-99d6-e97b109180ea"
      },
      "execution_count": 8,
      "outputs": [
        {
          "output_type": "display_data",
          "data": {
            "text/plain": [
              "<Figure size 640x480 with 1 Axes>"
            ],
            "image/png": "[encoded data removed]"
          },
          "metadata": {}
        }
      ]
    },
    {
      "cell_type": "markdown",
      "source": [
        "## 1.3. Sprawdzanie i usuwanie braków danych"
      ],
      "metadata": {
        "id": "2Vk6LcY_nNXv"
      }
    },
    {
      "cell_type": "code",
      "source": [
        "df.isna().sum()"
      ],
      "metadata": {
        "colab": {
          "base_uri": "https://localhost:8080/"
        },
        "id": "3GEC0rX-nO2T",
        "outputId": "06980444-4143-4ebb-972a-f900a1f2526e"
      },
      "execution_count": 9,
      "outputs": [
        {
          "output_type": "execute_result",
          "data": {
            "text/plain": [
              "Unnamed: 0                                                0\n",
              "Index                                                     0\n",
              "FLAG                                                      0\n",
              "Avg min between sent tnx                                  0\n",
              "Avg min between received tnx                              0\n",
              "Time Diff between first and last (Mins)                   0\n",
              "Sent tnx                                                  0\n",
              "Received Tnx                                              0\n",
              "Number of Created Contracts                               0\n",
              "Unique Received From Addresses                            0\n",
              "Unique Sent To Addresses                                  0\n",
              "min value received                                        0\n",
              "max value received                                        0\n",
              "avg val received                                          0\n",
              "min val sent                                              0\n",
              "max val sent                                              0\n",
              "avg val sent                                              0\n",
              "min value sent to contract                                0\n",
              "max val sent to contract                                  0\n",
              "avg value sent to contract                                0\n",
              "total transactions (including tnx to create contract      0\n",
              "total Ether sent                                          0\n",
              "total ether received                                      0\n",
              "total ether sent contracts                                0\n",
              "total ether balance                                       0\n",
              "Total ERC20 tnxs                                        829\n",
              "ERC20 total Ether received                              829\n",
              "ERC20 total ether sent                                  829\n",
              "ERC20 total Ether sent contract                         829\n",
              "ERC20 uniq sent addr                                    829\n",
              "ERC20 uniq rec addr                                     829\n",
              "ERC20 uniq sent addr.1                                  829\n",
              "ERC20 uniq rec contract addr                            829\n",
              "ERC20 avg time between sent tnx                         829\n",
              "ERC20 avg time between rec tnx                          829\n",
              "ERC20 avg time between rec 2 tnx                        829\n",
              "ERC20 avg time between contract tnx                     829\n",
              "ERC20 min val rec                                       829\n",
              "ERC20 max val rec                                       829\n",
              "ERC20 avg val rec                                       829\n",
              "ERC20 min val sent                                      829\n",
              "ERC20 max val sent                                      829\n",
              "ERC20 avg val sent                                      829\n",
              "ERC20 min val sent contract                             829\n",
              "ERC20 max val sent contract                             829\n",
              "ERC20 avg val sent contract                             829\n",
              "ERC20 uniq sent token name                              829\n",
              "ERC20 uniq rec token name                               829\n",
              "dtype: int64"
            ]
          },
          "metadata": {},
          "execution_count": 9
        }
      ]
    },
    {
      "cell_type": "code",
      "source": [
        "def show_missing_variables(df):\n",
        "  missing_cols = [col for col in df.columns if df[col].isna().any()]\n",
        "  if missing_cols:\n",
        "    print(\"Występują braki w następujących zmiennych:\")\n",
        "    print(\", \".join(missing_cols))\n",
        "  else:\n",
        "    print(\"Nie ma braków w danych.\")\n",
        "\n",
        "show_missing_variables(df.copy())"
      ],
      "metadata": {
        "colab": {
          "base_uri": "https://localhost:8080/"
        },
        "id": "Vk0IeCDunTXn",
        "outputId": "dd899408-24e5-453c-80d7-da9c6a95ccae"
      },
      "execution_count": 10,
      "outputs": [
        {
          "output_type": "stream",
          "name": "stdout",
          "text": [
            "Występują braki w następujących zmiennych:\n",
            "Total ERC20 tnxs, ERC20 total Ether received, ERC20 total ether sent, ERC20 total Ether sent contract, ERC20 uniq sent addr, ERC20 uniq rec addr, ERC20 uniq sent addr.1, ERC20 uniq rec contract addr, ERC20 avg time between sent tnx, ERC20 avg time between rec tnx, ERC20 avg time between rec 2 tnx, ERC20 avg time between contract tnx, ERC20 min val rec, ERC20 max val rec, ERC20 avg val rec, ERC20 min val sent, ERC20 max val sent, ERC20 avg val sent, ERC20 min val sent contract, ERC20 max val sent contract, ERC20 avg val sent contract, ERC20 uniq sent token name, ERC20 uniq rec token name\n"
          ]
        }
      ]
    },
    {
      "cell_type": "markdown",
      "source": [
        "Występują braki, więc zastępujemy je średnią wartością zmiennej"
      ],
      "metadata": {
        "id": "Fhe8QE3EnoHI"
      }
    },
    {
      "cell_type": "code",
      "source": [
        "columns_to_impute = [\n",
        "    'Total ERC20 tnxs',\n",
        "    'ERC20 total Ether received',\n",
        "    'ERC20 total ether sent',\n",
        "    'ERC20 total Ether sent contract',\n",
        "    'ERC20 uniq sent addr',\n",
        "    'ERC20 uniq rec addr',\n",
        "    'ERC20 uniq sent addr.1',\n",
        "    'ERC20 uniq rec contract addr',\n",
        "    'ERC20 avg time between sent tnx',\n",
        "    'ERC20 avg time between rec tnx',\n",
        "    'ERC20 avg time between rec 2 tnx',\n",
        "    'ERC20 avg time between contract tnx',\n",
        "    'ERC20 min val rec',\n",
        "    'ERC20 max val rec',\n",
        "    'ERC20 avg val rec',\n",
        "    'ERC20 min val sent',\n",
        "    'ERC20 max val sent',\n",
        "    'ERC20 avg val sent',\n",
        "    'ERC20 min val sent contract',\n",
        "    'ERC20 max val sent contract',\n",
        "    'ERC20 avg val sent contract',\n",
        "    'ERC20 uniq sent token name',\n",
        "    'ERC20 uniq rec token name'\n",
        "]\n",
        "\n",
        "for col in columns_to_impute:\n",
        "    if col in df.columns:\n",
        "        df[col] = df[col].fillna(df[col].mean())"
      ],
      "metadata": {
        "id": "U9KkbGNyo_-j"
      },
      "execution_count": 11,
      "outputs": []
    },
    {
      "cell_type": "code",
      "source": [
        "df.isna().sum()"
      ],
      "metadata": {
        "colab": {
          "base_uri": "https://localhost:8080/"
        },
        "id": "wPdAQYDEqRoA",
        "outputId": "8da25fd5-433d-474c-be7c-8a1632a4524a"
      },
      "execution_count": 12,
      "outputs": [
        {
          "output_type": "execute_result",
          "data": {
            "text/plain": [
              "Unnamed: 0                                              0\n",
              "Index                                                   0\n",
              "FLAG                                                    0\n",
              "Avg min between sent tnx                                0\n",
              "Avg min between received tnx                            0\n",
              "Time Diff between first and last (Mins)                 0\n",
              "Sent tnx                                                0\n",
              "Received Tnx                                            0\n",
              "Number of Created Contracts                             0\n",
              "Unique Received From Addresses                          0\n",
              "Unique Sent To Addresses                                0\n",
              "min value received                                      0\n",
              "max value received                                      0\n",
              "avg val received                                        0\n",
              "min val sent                                            0\n",
              "max val sent                                            0\n",
              "avg val sent                                            0\n",
              "min value sent to contract                              0\n",
              "max val sent to contract                                0\n",
              "avg value sent to contract                              0\n",
              "total transactions (including tnx to create contract    0\n",
              "total Ether sent                                        0\n",
              "total ether received                                    0\n",
              "total ether sent contracts                              0\n",
              "total ether balance                                     0\n",
              "Total ERC20 tnxs                                        0\n",
              "ERC20 total Ether received                              0\n",
              "ERC20 total ether sent                                  0\n",
              "ERC20 total Ether sent contract                         0\n",
              "ERC20 uniq sent addr                                    0\n",
              "ERC20 uniq rec addr                                     0\n",
              "ERC20 uniq sent addr.1                                  0\n",
              "ERC20 uniq rec contract addr                            0\n",
              "ERC20 avg time between sent tnx                         0\n",
              "ERC20 avg time between rec tnx                          0\n",
              "ERC20 avg time between rec 2 tnx                        0\n",
              "ERC20 avg time between contract tnx                     0\n",
              "ERC20 min val rec                                       0\n",
              "ERC20 max val rec                                       0\n",
              "ERC20 avg val rec                                       0\n",
              "ERC20 min val sent                                      0\n",
              "ERC20 max val sent                                      0\n",
              "ERC20 avg val sent                                      0\n",
              "ERC20 min val sent contract                             0\n",
              "ERC20 max val sent contract                             0\n",
              "ERC20 avg val sent contract                             0\n",
              "ERC20 uniq sent token name                              0\n",
              "ERC20 uniq rec token name                               0\n",
              "dtype: int64"
            ]
          },
          "metadata": {},
          "execution_count": 12
        }
      ]
    },
    {
      "cell_type": "markdown",
      "source": [
        "## 1.4. Tworzenie grupy testowej i treningowej"
      ],
      "metadata": {
        "id": "8U0uA1dxNtiZ"
      }
    },
    {
      "cell_type": "code",
      "source": [
        "X = df.drop(columns=['FLAG', 'Unnamed: 0', 'Index']) #usunięcie dwóch pierwszych zmiennych, które są indeksem\n",
        "y = df['FLAG']\n",
        "\n",
        "\n",
        "podzial = StratifiedShuffleSplit(n_splits=1, test_size=0.2, random_state=42)\n",
        "\n",
        "for train_index, test_index in podzial.split(X, y):\n",
        "    X_train, X_test = X.iloc[train_index], X.iloc[test_index]\n",
        "    y_train, y_test = y.iloc[train_index], y.iloc[test_index]"
      ],
      "metadata": {
        "id": "EQsh1qWHzSt7"
      },
      "execution_count": 13,
      "outputs": []
    },
    {
      "cell_type": "code",
      "source": [
        "y_train.value_counts()"
      ],
      "metadata": {
        "colab": {
          "base_uri": "https://localhost:8080/"
        },
        "id": "bwYADYb-0p-h",
        "outputId": "e1bf852e-2cf8-4ba5-da6c-edb6f16f1a73"
      },
      "execution_count": 14,
      "outputs": [
        {
          "output_type": "execute_result",
          "data": {
            "text/plain": [
              "0    6129\n",
              "1    1743\n",
              "Name: FLAG, dtype: int64"
            ]
          },
          "metadata": {},
          "execution_count": 14
        }
      ]
    },
    {
      "cell_type": "code",
      "source": [
        "y_test.value_counts()"
      ],
      "metadata": {
        "colab": {
          "base_uri": "https://localhost:8080/"
        },
        "id": "g4bHBNOj09rn",
        "outputId": "9893eea3-c4d4-4e69-bdff-4fecda2e5d9e"
      },
      "execution_count": 15,
      "outputs": [
        {
          "output_type": "execute_result",
          "data": {
            "text/plain": [
              "0    1533\n",
              "1     436\n",
              "Name: FLAG, dtype: int64"
            ]
          },
          "metadata": {},
          "execution_count": 15
        }
      ]
    },
    {
      "cell_type": "markdown",
      "source": [
        "## 1.5. Oversampling"
      ],
      "metadata": {
        "id": "WDZyVLk4N68B"
      }
    },
    {
      "cell_type": "code",
      "source": [
        "oversampler = RandomOverSampler(random_state=42)\n",
        "\n",
        "X_oversamp, y_oversamp = oversampler.fit_resample(X_train, y_train)\n",
        "\n",
        "df_oversamp = pd.concat([y_oversamp, X_oversamp], axis=1)"
      ],
      "metadata": {
        "id": "MbdCZpdV1rfx"
      },
      "execution_count": 16,
      "outputs": []
    },
    {
      "cell_type": "code",
      "source": [
        "df_oversamp['FLAG'].value_counts().plot(kind= 'bar')\n",
        "plt.xlabel(\"Oszustwo\")\n",
        "plt.ylabel(\"Liczba wystąpień\");"
      ],
      "metadata": {
        "colab": {
          "base_uri": "https://localhost:8080/",
          "height": 444
        },
        "id": "d7bbJksx1wgX",
        "outputId": "af162f76-d913-45ea-d9d7-be1d1a0ff191"
      },
      "execution_count": 17,
      "outputs": [
        {
          "output_type": "display_data",
          "data": {
            "text/plain": [
              "<Figure size 640x480 with 1 Axes>"
            ],
            "image/png": "[encoded data removed]"
          },
          "metadata": {}
        }
      ]
    },
    {
      "cell_type": "markdown",
      "source": [
        "## 1.6. Usuwanie wartości odstających\n"
      ],
      "metadata": {
        "id": "OKks9f1kBcrY"
      }
    },
    {
      "cell_type": "code",
      "source": [
        "isolation_forest = IsolationForest(random_state=42)\n",
        "\n",
        "kolumna_flag = 0\n",
        "X_train_bez_flag = df_oversamp.drop(df_oversamp.columns[kolumna_flag], axis=1)\n",
        "\n",
        "outlier_pred = isolation_forest.fit_predict(X_train_bez_flag)\n",
        "\n",
        "X_train = df_oversamp[outlier_pred == 1]"
      ],
      "metadata": {
        "id": "d0d73-za19gs"
      },
      "execution_count": 18,
      "outputs": []
    },
    {
      "cell_type": "code",
      "source": [
        "X_train = df_oversamp.drop(columns='FLAG')\n",
        "y_train = df_oversamp['FLAG']"
      ],
      "metadata": {
        "id": "sBSLvE9eBOCI"
      },
      "execution_count": 19,
      "outputs": []
    },
    {
      "cell_type": "markdown",
      "source": [
        "## 1.7. Standaryzacja"
      ],
      "metadata": {
        "id": "JM_lR40KBjip"
      }
    },
    {
      "cell_type": "code",
      "source": [
        "std_scaler = StandardScaler()\n",
        "standaryzacja = std_scaler.fit_transform(X_train)\n",
        "standaryzacja_test = std_scaler.fit_transform(X_test)"
      ],
      "metadata": {
        "id": "pGIhKulrBjEa"
      },
      "execution_count": 20,
      "outputs": []
    },
    {
      "cell_type": "code",
      "source": [
        "df_standaryzowane = pd.DataFrame(standaryzacja, columns=X.columns)\n",
        "df_standaryzowane_test = pd.DataFrame(standaryzacja_test, columns=X.columns)"
      ],
      "metadata": {
        "id": "zGH1FQaxBrlW"
      },
      "execution_count": 21,
      "outputs": []
    },
    {
      "cell_type": "markdown",
      "source": [
        "## 1.8. Wykorzystanie metody Recursive Feature Elimination do wybrania najbardziej wpływowych zmiennych"
      ],
      "metadata": {
        "id": "RLOuAEfxEIf1"
      }
    },
    {
      "cell_type": "code",
      "source": [
        "best_features = RFE(estimator=ExtraTreesClassifier(n_estimators=100), n_features_to_select=10)\n",
        "best_features.fit(df_standaryzowane, y_train)\n",
        "selected_features = X.columns[best_features.support_]\n",
        "\n",
        "print(f\"Number of selected features: {len(selected_features)}\")\n",
        "print(f\"Selected features : {list(selected_features)}\")"
      ],
      "metadata": {
        "colab": {
          "base_uri": "https://localhost:8080/"
        },
        "id": "MAlUn7KYEHLU",
        "outputId": "54cbc968-1ade-4bf3-d7ce-d442099c6463"
      },
      "execution_count": 22,
      "outputs": [
        {
          "output_type": "stream",
          "name": "stdout",
          "text": [
            "Number of selected features: 10\n",
            "Selected features : ['Avg min between received tnx', 'Time Diff between first and last (Mins)', 'Received Tnx', 'Unique Received From Addresses', 'Total ERC20 tnxs', 'ERC20 total Ether sent contract', 'ERC20 uniq rec addr', 'ERC20 uniq rec contract addr', 'ERC20 avg val sent', 'ERC20 uniq rec token name']\n"
          ]
        }
      ]
    },
    {
      "cell_type": "code",
      "source": [
        "X_test_RFE = df_standaryzowane_test[[\n",
        "    'Avg min between received tnx',\n",
        "    'Time Diff between first and last (Mins)',\n",
        "    'Received Tnx',\n",
        "    'Unique Received From Addresses',\n",
        "    'Total ERC20 tnxs',\n",
        "    'ERC20 total Ether sent contract',\n",
        "    'ERC20 uniq rec addr',\n",
        "    'ERC20 uniq rec contract addr',\n",
        "    'ERC20 avg val sent',\n",
        "    'ERC20 uniq rec token name'\n",
        "]]\n",
        "\n",
        "X_train_RFE = df_standaryzowane[[\n",
        "    'Avg min between received tnx',\n",
        "    'Time Diff between first and last (Mins)',\n",
        "    'Received Tnx',\n",
        "    'Unique Received From Addresses',\n",
        "    'Total ERC20 tnxs',\n",
        "    'ERC20 total Ether sent contract',\n",
        "    'ERC20 uniq rec addr',\n",
        "    'ERC20 uniq rec contract addr',\n",
        "    'ERC20 avg val sent',\n",
        "    'ERC20 uniq rec token name'\n",
        "]]"
      ],
      "metadata": {
        "id": "YuqDczBTav2s"
      },
      "execution_count": 23,
      "outputs": []
    },
    {
      "cell_type": "markdown",
      "source": [
        "# 2. Prognozowanie"
      ],
      "metadata": {
        "id": "eircgAy4O5hl"
      }
    },
    {
      "cell_type": "markdown",
      "source": [
        "## 2.1. Regresja liniowa"
      ],
      "metadata": {
        "id": "vgAw2vSBO9jF"
      }
    },
    {
      "cell_type": "markdown",
      "source": [
        "Najpierw sprawdzimy wszystkie zmienne"
      ],
      "metadata": {
        "id": "wd56tTvLYqlX"
      }
    },
    {
      "cell_type": "code",
      "source": [
        "regresja_liniowa = LogisticRegression(max_iter=500, random_state=50)\n",
        "regresja_liniowa.fit(df_standaryzowane, y_train)\n",
        "\n",
        "y_pred = regresja_liniowa.predict(df_standaryzowane_test)\n",
        "\n",
        "accuracy = accuracy_score(y_test, y_pred)\n",
        "print(f\"Accuracy: {accuracy:.4f}\")"
      ],
      "metadata": {
        "colab": {
          "base_uri": "https://localhost:8080/"
        },
        "id": "XcJGzDSBPEUM",
        "outputId": "835c5b61-8535-45ae-9e2a-b2e88bf5d0d4"
      },
      "execution_count": 24,
      "outputs": [
        {
          "output_type": "stream",
          "name": "stdout",
          "text": [
            "Accuracy: 0.8207\n"
          ]
        }
      ]
    },
    {
      "cell_type": "code",
      "source": [
        "print(classification_report(y_test, y_pred))"
      ],
      "metadata": {
        "colab": {
          "base_uri": "https://localhost:8080/"
        },
        "id": "eeRsCBH1RMYx",
        "outputId": "a9e1778a-28f5-4337-f9a1-53b570cf815b"
      },
      "execution_count": 25,
      "outputs": [
        {
          "output_type": "stream",
          "name": "stdout",
          "text": [
            "              precision    recall  f1-score   support\n",
            "\n",
            "           0       0.94      0.82      0.88      1533\n",
            "           1       0.56      0.83      0.67       436\n",
            "\n",
            "    accuracy                           0.82      1969\n",
            "   macro avg       0.75      0.82      0.77      1969\n",
            "weighted avg       0.86      0.82      0.83      1969\n",
            "\n"
          ]
        }
      ]
    },
    {
      "cell_type": "code",
      "source": [
        "fpr, tpr, thresholds = roc_curve(y_test, y_pred)\n",
        "\n",
        "plt.figure(figsize=(6,4))\n",
        "\n",
        "plt.plot(fpr, tpr, linewidth=2)\n",
        "\n",
        "plt.plot([0,1], [0,1], 'k--' )\n",
        "\n",
        "plt.rcParams['font.size'] = 12\n",
        "\n",
        "plt.title('Krzywa ROC')\n",
        "\n",
        "plt.xlabel('False Positive Rate')\n",
        "\n",
        "plt.ylabel('True Positive Rate')\n",
        "\n",
        "plt.show()"
      ],
      "metadata": {
        "colab": {
          "base_uri": "https://localhost:8080/",
          "height": 411
        },
        "id": "KqxeQqGeRbjW",
        "outputId": "564de895-688e-48b2-c376-65efbde02744"
      },
      "execution_count": 26,
      "outputs": [
        {
          "output_type": "display_data",
          "data": {
            "text/plain": [
              "<Figure size 600x400 with 1 Axes>"
            ],
            "image/png": "[encoded data removed]"
          },
          "metadata": {}
        }
      ]
    },
    {
      "cell_type": "code",
      "source": [
        "cm = confusion_matrix(y_test, y_pred)\n",
        "plt.figure(figsize=(4, 4))\n",
        "sns.heatmap(cm, annot=True, fmt='d', cmap='Blues')\n",
        "plt.title('Confusion Matrix')\n",
        "plt.xlabel('Predicted Label')\n",
        "plt.ylabel('True Label')\n",
        "plt.show()"
      ],
      "metadata": {
        "colab": {
          "base_uri": "https://localhost:8080/",
          "height": 419
        },
        "id": "wcyIAf65RI-L",
        "outputId": "1dc60868-3816-49a2-bcae-4b39b1ed93ec"
      },
      "execution_count": 27,
      "outputs": [
        {
          "output_type": "display_data",
          "data": {
            "text/plain": [
              "<Figure size 400x400 with 2 Axes>"
            ],
            "image/png": "[encoded data removed]"
          },
          "metadata": {}
        }
      ]
    },
    {
      "cell_type": "markdown",
      "source": [
        "Teraz sprawdzimy dla 10 wybranych"
      ],
      "metadata": {
        "id": "oGc7iAlOhUKb"
      }
    },
    {
      "cell_type": "code",
      "source": [
        "regresja_liniowa = LogisticRegression(max_iter=500, random_state=50)\n",
        "regresja_liniowa.fit(X_train_RFE, y_train)\n",
        "\n",
        "y_pred_2 = regresja_liniowa.predict(X_test_RFE)\n",
        "\n",
        "accuracy = accuracy_score(y_test, y_pred_2)\n",
        "print(f\"Accuracy: {accuracy:.4f}\")"
      ],
      "metadata": {
        "colab": {
          "base_uri": "https://localhost:8080/"
        },
        "id": "5GFQtkzLhSGm",
        "outputId": "f33d31ff-93a4-4e9d-ad59-d5b80ae3e1ef"
      },
      "execution_count": 28,
      "outputs": [
        {
          "output_type": "stream",
          "name": "stdout",
          "text": [
            "Accuracy: 0.8507\n"
          ]
        }
      ]
    },
    {
      "cell_type": "code",
      "source": [
        "print(classification_report(y_test, y_pred_2))"
      ],
      "metadata": {
        "colab": {
          "base_uri": "https://localhost:8080/"
        },
        "id": "iUi1t6aIho9Q",
        "outputId": "d707e521-a3ae-4fd5-85b8-a4e5d9135c64"
      },
      "execution_count": 29,
      "outputs": [
        {
          "output_type": "stream",
          "name": "stdout",
          "text": [
            "              precision    recall  f1-score   support\n",
            "\n",
            "           0       0.85      0.98      0.91      1533\n",
            "           1       0.88      0.38      0.53       436\n",
            "\n",
            "    accuracy                           0.85      1969\n",
            "   macro avg       0.86      0.68      0.72      1969\n",
            "weighted avg       0.85      0.85      0.83      1969\n",
            "\n"
          ]
        }
      ]
    },
    {
      "cell_type": "code",
      "source": [
        "fpr, tpr, thresholds = roc_curve(y_test, y_pred_2)\n",
        "\n",
        "plt.figure(figsize=(6,4))\n",
        "\n",
        "plt.plot(fpr, tpr, linewidth=2)\n",
        "\n",
        "plt.plot([0,1], [0,1], 'k--' )\n",
        "\n",
        "plt.rcParams['font.size'] = 12\n",
        "\n",
        "plt.title('Krzywa ROC')\n",
        "\n",
        "plt.xlabel('False Positive Rate')\n",
        "\n",
        "plt.ylabel('True Positive Rate')\n",
        "\n",
        "plt.show()"
      ],
      "metadata": {
        "colab": {
          "base_uri": "https://localhost:8080/",
          "height": 419
        },
        "id": "i7uvw0-Xhyjo",
        "outputId": "50863533-e740-4fb3-fb3f-f8a6d02d9249"
      },
      "execution_count": 30,
      "outputs": [
        {
          "output_type": "display_data",
          "data": {
            "text/plain": [
              "<Figure size 600x400 with 1 Axes>"
            ],
            "image/png": "[encoded data removed]"
          },
          "metadata": {}
        }
      ]
    },
    {
      "cell_type": "code",
      "source": [
        "cm = confusion_matrix(y_test, y_pred_2)\n",
        "plt.figure(figsize=(4, 4))\n",
        "sns.heatmap(cm, annot=True, fmt='d', cmap='Blues')\n",
        "plt.title('Confusion Matrix')\n",
        "plt.xlabel('Predicted Label')\n",
        "plt.ylabel('True Label')\n",
        "plt.show()"
      ],
      "metadata": {
        "colab": {
          "base_uri": "https://localhost:8080/",
          "height": 419
        },
        "id": "fBJZUM-4h565",
        "outputId": "815e4675-cced-4bfe-d5a5-c658d8925190"
      },
      "execution_count": 31,
      "outputs": [
        {
          "output_type": "display_data",
          "data": {
            "text/plain": [
              "<Figure size 400x400 with 2 Axes>"
            ],
            "image/png": "[encoded data removed]"
          },
          "metadata": {}
        }
      ]
    },
    {
      "cell_type": "markdown",
      "source": [
        "## 2.2. Metoda KNN"
      ],
      "metadata": {
        "id": "3_u5ryR-Y6kX"
      }
    },
    {
      "cell_type": "markdown",
      "source": [
        "Dla wszystkich"
      ],
      "metadata": {
        "id": "DYOd8vP5j8K7"
      }
    },
    {
      "cell_type": "code",
      "source": [
        "k_range = range(1, 25)\n",
        "k_scores = []\n",
        "\n",
        "for k in k_range:\n",
        "    knn = KNeighborsClassifier(n_neighbors=k)\n",
        "    knn.fit(df_standaryzowane, y_train)\n",
        "    y_pred_3 = knn.predict(df_standaryzowane_test)\n",
        "\n",
        "    accuracy = accuracy_score(y_test, y_pred_3)\n",
        "    k_scores.append(accuracy)\n",
        "\n",
        "best_k = k_range[np.argmax(k_scores)]\n",
        "best_accuracy = max(k_scores)\n",
        "\n",
        "print(f\"Best k value: {best_k}\")\n",
        "print(f\"Best accuracy: {best_accuracy:.4f}\")"
      ],
      "metadata": {
        "colab": {
          "base_uri": "https://localhost:8080/"
        },
        "id": "4ivKt343j794",
        "outputId": "4a079387-d906-46be-e18b-c794ec3abe96"
      },
      "execution_count": 48,
      "outputs": [
        {
          "output_type": "stream",
          "name": "stdout",
          "text": [
            "Best k value: 2\n",
            "Best accuracy: 0.9325\n"
          ]
        }
      ]
    },
    {
      "cell_type": "code",
      "source": [
        "print(classification_report(y_test, y_pred_3))"
      ],
      "metadata": {
        "colab": {
          "base_uri": "https://localhost:8080/"
        },
        "id": "uOF4FJfYkMAE",
        "outputId": "2c9b3408-1e07-4e67-97b7-7f8a40d67f74"
      },
      "execution_count": 33,
      "outputs": [
        {
          "output_type": "stream",
          "name": "stdout",
          "text": [
            "              precision    recall  f1-score   support\n",
            "\n",
            "           0       0.97      0.93      0.95      1533\n",
            "           1       0.79      0.90      0.84       436\n",
            "\n",
            "    accuracy                           0.92      1969\n",
            "   macro avg       0.88      0.91      0.89      1969\n",
            "weighted avg       0.93      0.92      0.93      1969\n",
            "\n"
          ]
        }
      ]
    },
    {
      "cell_type": "code",
      "source": [
        "fpr, tpr, thresholds = roc_curve(y_test, y_pred_3)\n",
        "\n",
        "plt.figure(figsize=(6,4))\n",
        "\n",
        "plt.plot(fpr, tpr, linewidth=2)\n",
        "\n",
        "plt.plot([0,1], [0,1], 'k--' )\n",
        "\n",
        "plt.rcParams['font.size'] = 12\n",
        "\n",
        "plt.title('Krzywa ROC')\n",
        "\n",
        "plt.xlabel('False Positive Rate')\n",
        "\n",
        "plt.ylabel('True Positive Rate')\n",
        "\n",
        "plt.show()"
      ],
      "metadata": {
        "colab": {
          "base_uri": "https://localhost:8080/",
          "height": 419
        },
        "id": "JtBLuKZ1kQG4",
        "outputId": "27108187-f891-4f6e-b59d-5f977f37a1f2"
      },
      "execution_count": 34,
      "outputs": [
        {
          "output_type": "display_data",
          "data": {
            "text/plain": [
              "<Figure size 600x400 with 1 Axes>"
            ],
            "image/png": "[encoded data removed]"
          },
          "metadata": {}
        }
      ]
    },
    {
      "cell_type": "code",
      "source": [
        "cm = confusion_matrix(y_test, y_pred_3)\n",
        "plt.figure(figsize=(4, 4))\n",
        "sns.heatmap(cm, annot=True, fmt='d', cmap='Blues')\n",
        "plt.title('Confusion Matrix')\n",
        "plt.xlabel('Predicted Label')\n",
        "plt.ylabel('True Label')\n",
        "plt.show()"
      ],
      "metadata": {
        "colab": {
          "base_uri": "https://localhost:8080/",
          "height": 419
        },
        "id": "QtBd7gmVkTcR",
        "outputId": "bf4ad4ba-a3f7-4d9d-a569-333a2807232e"
      },
      "execution_count": 35,
      "outputs": [
        {
          "output_type": "display_data",
          "data": {
            "text/plain": [
              "<Figure size 400x400 with 2 Axes>"
            ],
            "image/png": "[encoded data removed]"
          },
          "metadata": {}
        }
      ]
    },
    {
      "cell_type": "markdown",
      "source": [
        "Dla 10 wybranych"
      ],
      "metadata": {
        "id": "-EnDKrfIkafh"
      }
    },
    {
      "cell_type": "code",
      "source": [
        "k_range = range(1, 25)\n",
        "k_scores = []\n",
        "\n",
        "for k in k_range:\n",
        "    knn = KNeighborsClassifier(n_neighbors=k)\n",
        "    knn.fit(X_train_RFE, y_train)\n",
        "    y_pred_4 = knn.predict(X_test_RFE)\n",
        "\n",
        "    accuracy = accuracy_score(y_test, y_pred_4)\n",
        "    k_scores.append(accuracy)\n",
        "\n",
        "best_k = k_range[np.argmax(k_scores)]\n",
        "best_accuracy = max(k_scores)\n",
        "\n",
        "print(f\"Best k value: {best_k}\")\n",
        "print(f\"Best accuracy: {best_accuracy:.4f}\")"
      ],
      "metadata": {
        "colab": {
          "base_uri": "https://localhost:8080/"
        },
        "id": "j8WrS0p7aWwe",
        "outputId": "3ae7de58-daa8-41e9-ae97-d0012565ac82"
      },
      "execution_count": 36,
      "outputs": [
        {
          "output_type": "stream",
          "name": "stdout",
          "text": [
            "Best k value: 2\n",
            "Best accuracy: 0.9243\n"
          ]
        }
      ]
    },
    {
      "cell_type": "code",
      "source": [
        "print(classification_report(y_test, y_pred_4))"
      ],
      "metadata": {
        "colab": {
          "base_uri": "https://localhost:8080/"
        },
        "id": "vENuCfMZbYPW",
        "outputId": "da590de4-5f29-4c91-f87a-e53224068aa5"
      },
      "execution_count": 37,
      "outputs": [
        {
          "output_type": "stream",
          "name": "stdout",
          "text": [
            "              precision    recall  f1-score   support\n",
            "\n",
            "           0       0.96      0.92      0.94      1533\n",
            "           1       0.76      0.87      0.81       436\n",
            "\n",
            "    accuracy                           0.91      1969\n",
            "   macro avg       0.86      0.90      0.88      1969\n",
            "weighted avg       0.92      0.91      0.91      1969\n",
            "\n"
          ]
        }
      ]
    },
    {
      "cell_type": "code",
      "source": [
        "fpr, tpr, thresholds = roc_curve(y_test, y_pred_4)\n",
        "\n",
        "plt.figure(figsize=(6,4))\n",
        "\n",
        "plt.plot(fpr, tpr, linewidth=2)\n",
        "\n",
        "plt.plot([0,1], [0,1], 'k--' )\n",
        "\n",
        "plt.rcParams['font.size'] = 12\n",
        "\n",
        "plt.title('Krzywa ROC')\n",
        "\n",
        "plt.xlabel('False Positive Rate')\n",
        "\n",
        "plt.ylabel('True Positive Rate')\n",
        "\n",
        "plt.show()"
      ],
      "metadata": {
        "colab": {
          "base_uri": "https://localhost:8080/",
          "height": 419
        },
        "id": "0GpcB2sCbc0B",
        "outputId": "35ba480a-ca69-4c73-bf0c-e38e4c6dbe94"
      },
      "execution_count": 38,
      "outputs": [
        {
          "output_type": "display_data",
          "data": {
            "text/plain": [
              "<Figure size 600x400 with 1 Axes>"
            ],
            "image/png": "[encoded data removed]"
          },
          "metadata": {}
        }
      ]
    },
    {
      "cell_type": "code",
      "source": [
        "cm = confusion_matrix(y_test, y_pred_4)\n",
        "plt.figure(figsize=(4, 4))\n",
        "sns.heatmap(cm, annot=True, fmt='d', cmap='Blues')\n",
        "plt.title('Confusion Matrix')\n",
        "plt.xlabel('Predicted Label')\n",
        "plt.ylabel('True Label')\n",
        "plt.show()"
      ],
      "metadata": {
        "colab": {
          "base_uri": "https://localhost:8080/",
          "height": 419
        },
        "id": "Mf-1IO3tbgOl",
        "outputId": "189749d9-ce21-496a-a64d-6a2bad094559"
      },
      "execution_count": 39,
      "outputs": [
        {
          "output_type": "display_data",
          "data": {
            "text/plain": [
              "<Figure size 400x400 with 2 Axes>"
            ],
            "image/png": "[encoded data removed]"
          },
          "metadata": {}
        }
      ]
    },
    {
      "cell_type": "markdown",
      "source": [
        "## 2.3. Metoda wektorów nośnych"
      ],
      "metadata": {
        "id": "O0PXEG4vbkYj"
      }
    },
    {
      "cell_type": "markdown",
      "source": [],
      "metadata": {
        "id": "QNJ2Q2WXkiBb"
      }
    },
    {
      "cell_type": "code",
      "source": [
        "X_test_RFE_2 = X_test[[\n",
        "    'Avg min between received tnx',\n",
        "    'Time Diff between first and last (Mins)',\n",
        "    'Received Tnx',\n",
        "    'Unique Received From Addresses',\n",
        "    'Total ERC20 tnxs',\n",
        "    'ERC20 total Ether sent contract',\n",
        "    'ERC20 uniq rec addr',\n",
        "    'ERC20 uniq rec contract addr',\n",
        "    'ERC20 avg val sent',\n",
        "    'ERC20 uniq rec token name'\n",
        "]]\n",
        "\n",
        "X_train_RFE_2 = X_train[[\n",
        "    'Avg min between received tnx',\n",
        "    'Time Diff between first and last (Mins)',\n",
        "    'Received Tnx',\n",
        "    'Unique Received From Addresses',\n",
        "    'Total ERC20 tnxs',\n",
        "    'ERC20 total Ether sent contract',\n",
        "    'ERC20 uniq rec addr',\n",
        "    'ERC20 uniq rec contract addr',\n",
        "    'ERC20 avg val sent',\n",
        "    'ERC20 uniq rec token name'\n",
        "]]"
      ],
      "metadata": {
        "id": "QxZ4rmjhlpKw"
      },
      "execution_count": 40,
      "outputs": []
    },
    {
      "cell_type": "code",
      "source": [
        "svc_svm=SVC(C=100.0)\n",
        "\n",
        "svc_svm.fit(X_train_RFE_2,y_train)\n",
        "\n",
        "y_pred_5=svc_svm.predict(X_test_RFE_2)\n",
        "\n",
        "print('Accuracy: {0:0.4f}'. format(accuracy_score(y_test, y_pred_5)))"
      ],
      "metadata": {
        "colab": {
          "base_uri": "https://localhost:8080/"
        },
        "id": "8EUZYDNsbn8t",
        "outputId": "5690d753-83df-4b35-c5af-14d291aa2beb"
      },
      "execution_count": 41,
      "outputs": [
        {
          "output_type": "stream",
          "name": "stdout",
          "text": [
            "Accuracy: 0.8568\n"
          ]
        }
      ]
    },
    {
      "cell_type": "code",
      "source": [
        "print(classification_report(y_test, y_pred_5))"
      ],
      "metadata": {
        "colab": {
          "base_uri": "https://localhost:8080/"
        },
        "id": "vQwOt3lrcFJz",
        "outputId": "2cf9f921-9cdc-4f63-fdb6-a28fdc0640e4"
      },
      "execution_count": 42,
      "outputs": [
        {
          "output_type": "stream",
          "name": "stdout",
          "text": [
            "              precision    recall  f1-score   support\n",
            "\n",
            "           0       0.85      1.00      0.92      1533\n",
            "           1       0.99      0.36      0.53       436\n",
            "\n",
            "    accuracy                           0.86      1969\n",
            "   macro avg       0.92      0.68      0.72      1969\n",
            "weighted avg       0.88      0.86      0.83      1969\n",
            "\n"
          ]
        }
      ]
    },
    {
      "cell_type": "code",
      "source": [
        "fpr, tpr, thresholds = roc_curve(y_test, y_pred_5)\n",
        "\n",
        "plt.figure(figsize=(6,4))\n",
        "\n",
        "plt.plot(fpr, tpr, linewidth=2)\n",
        "\n",
        "plt.plot([0,1], [0,1], 'k--' )\n",
        "\n",
        "plt.rcParams['font.size'] = 12\n",
        "\n",
        "plt.title('Krzywa ROC')\n",
        "\n",
        "plt.xlabel('False Positive Rate')\n",
        "\n",
        "plt.ylabel('True Positive Rate')\n",
        "\n",
        "plt.show()"
      ],
      "metadata": {
        "colab": {
          "base_uri": "https://localhost:8080/",
          "height": 419
        },
        "id": "0QQQInvucJH-",
        "outputId": "02b4ea73-907d-4356-d988-8a1824be4713"
      },
      "execution_count": 43,
      "outputs": [
        {
          "output_type": "display_data",
          "data": {
            "text/plain": [
              "<Figure size 600x400 with 1 Axes>"
            ],
            "image/png": "[encoded data removed]"
          },
          "metadata": {}
        }
      ]
    },
    {
      "cell_type": "code",
      "source": [
        "cm = confusion_matrix(y_test, y_pred_5)\n",
        "plt.figure(figsize=(4, 4))\n",
        "sns.heatmap(cm, annot=True, fmt='d', cmap='Blues')\n",
        "plt.title('Confusion Matrix')\n",
        "plt.xlabel('Predicted Label')\n",
        "plt.ylabel('True Label')\n",
        "plt.show()"
      ],
      "metadata": {
        "colab": {
          "base_uri": "https://localhost:8080/",
          "height": 419
        },
        "id": "Qs3f9vwwcghd",
        "outputId": "7808e470-ba9e-4e6f-f41f-3add57168bc9"
      },
      "execution_count": 44,
      "outputs": [
        {
          "output_type": "display_data",
          "data": {
            "text/plain": [
              "<Figure size 400x400 with 2 Axes>"
            ],
            "image/png": "[encoded data removed]"
          },
          "metadata": {}
        }
      ]
    },
    {
      "cell_type": "markdown",
      "source": [
        "# Podsumowanie"
      ],
      "metadata": {
        "id": "l7T4XAhmf18C"
      }
    },
    {
      "cell_type": "code",
      "source": [
        "accuracy_1 = (accuracy_score(y_test, y_pred))\n",
        "accuracy_2 = (accuracy_score(y_test, y_pred_2))\n",
        "accuracy_3 = (accuracy_score(y_test, y_pred_3))\n",
        "accuracy_4 = (accuracy_score(y_test, y_pred_4))\n",
        "accuracy_5 = (accuracy_score(y_test, y_pred_5))\n",
        "\n",
        "models = [\"Regresja liniowa - wszystko\", \"Regresja liniowa - 10 wybranych\", \"Metoda K-najbliższych sąsiadów - all\", \"Metoda K-najbliższych sąsiadów - 10\", \"Metoda wektorów nośnych - 10 wybranych\"]\n",
        "accuracy_values = [accuracy_1, accuracy_2, accuracy_3, accuracy_4, accuracy_5]\n",
        "accuracy_dict = {\"Model\": models, \"Accuracy\": accuracy_values}\n",
        "\n",
        "df_accuracy = pd.DataFrame(accuracy_dict)\n",
        "\n",
        "print(df_accuracy.to_string(index=False))\n"
      ],
      "metadata": {
        "colab": {
          "base_uri": "https://localhost:8080/"
        },
        "id": "jWhSUQTVgwT5",
        "outputId": "99a89a74-0878-44f3-c5bf-6ba1f967f9f6"
      },
      "execution_count": 49,
      "outputs": [
        {
          "output_type": "stream",
          "name": "stdout",
          "text": [
            "                                 Model  Accuracy\n",
            "           Regresja liniowa - wszystko  0.820721\n",
            "       Regresja liniowa - 10 wybranych  0.850686\n",
            "  Metoda K-najbliższych sąsiadów - all  0.923819\n",
            "   Metoda K-najbliższych sąsiadów - 10  0.911122\n",
            "Metoda wektorów nośnych - 10 wybranych  0.856780\n"
          ]
        }
      ]
    },
    {
      "cell_type": "markdown",
      "source": [
        "Najlepsza metoda to KNN, ponieważ cechuje ją największa dokładność"
      ],
      "metadata": {
        "id": "av1aNPbwhgkX"
      }
    }
  ]
}