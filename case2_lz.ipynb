{
  "cells": [
    {
      "cell_type": "markdown",
      "metadata": {
        "id": "view-in-github",
        "colab_type": "text"
      },
      "source": [
        "<a href=\"https://colab.research.google.com/github/magicznylukasz/uczenie_maszynowe_w_finansach/blob/main/case2_lz.ipynb\" target=\"_parent\"><img src=\"https://colab.research.google.com/assets/colab-badge.svg\" alt=\"Open In Colab\"/></a>"
      ]
    },
    {
      "cell_type": "markdown",
      "metadata": {
        "id": "R_e7WH_Htcvl"
      },
      "source": [
        "# 1. Dane i biblioteki\n"
      ]
    },
    {
      "cell_type": "markdown",
      "metadata": {
        "id": "ldKxbnWgthWE"
      },
      "source": [
        "## 1.1. Biblioteki"
      ]
    },
    {
      "cell_type": "code",
      "execution_count": 1,
      "metadata": {
        "colab": {
          "base_uri": "https://localhost:8080/"
        },
        "id": "2nm3HPD1lMea",
        "outputId": "f82ecaeb-2aa5-46ae-d6b1-452fbcc85a6a"
      },
      "outputs": [
        {
          "output_type": "stream",
          "name": "stdout",
          "text": [
            "Requirement already satisfied: surprise in /usr/local/lib/python3.10/dist-packages (0.1)\n",
            "Requirement already satisfied: scikit-surprise in /usr/local/lib/python3.10/dist-packages (from surprise) (1.1.3)\n",
            "Requirement already satisfied: joblib>=1.0.0 in /usr/local/lib/python3.10/dist-packages (from scikit-surprise->surprise) (1.4.0)\n",
            "Requirement already satisfied: numpy>=1.17.3 in /usr/local/lib/python3.10/dist-packages (from scikit-surprise->surprise) (1.25.2)\n",
            "Requirement already satisfied: scipy>=1.3.2 in /usr/local/lib/python3.10/dist-packages (from scikit-surprise->surprise) (1.11.4)\n"
          ]
        }
      ],
      "source": [
        "pip install surprise\n"
      ]
    },
    {
      "cell_type": "code",
      "execution_count": 2,
      "metadata": {
        "id": "z-5OcUbUuf17"
      },
      "outputs": [],
      "source": [
        "import pandas as pd\n",
        "import numpy as np\n",
        "import matplotlib.pyplot as plt\n",
        "import plotly.offline as py\n",
        "import plotly.graph_objs as go\n",
        "import plotly.io as pio\n",
        "from sklearn.model_selection import train_test_split\n",
        "from surprise import Reader, Dataset\n",
        "from surprise.model_selection import train_test_split, cross_validate, GridSearchCV\n",
        "from surprise import KNNBasic, KNNWithMeans, KNNWithZScore, KNNBaseline, SVD\n",
        "from surprise import accuracy\n"
      ]
    },
    {
      "cell_type": "markdown",
      "metadata": {
        "id": "G-XEk4pytjCx"
      },
      "source": [
        "## 1.2. Wczytanie danych"
      ]
    },
    {
      "cell_type": "code",
      "execution_count": 3,
      "metadata": {
        "id": "LoGCMVhntILx"
      },
      "outputs": [],
      "source": [
        "ratings = pd.read_csv('https://s3-us-west-2.amazonaws.com/recommender-tutorial/ratings.csv')\n",
        "movies = pd.read_csv('https://s3-us-west-2.amazonaws.com/recommender-tutorial/movies.csv')"
      ]
    },
    {
      "cell_type": "markdown",
      "metadata": {
        "id": "emTpFw9Xy861"
      },
      "source": [
        "# 2. Przegląd danych:"
      ]
    },
    {
      "cell_type": "markdown",
      "metadata": {
        "id": "67pN21gOvUGP"
      },
      "source": [
        "## 2.1. Liczba filmów Sci-Fi"
      ]
    },
    {
      "cell_type": "code",
      "execution_count": 4,
      "metadata": {
        "colab": {
          "base_uri": "https://localhost:8080/"
        },
        "id": "HDNBL6VdvIhE",
        "outputId": "5dd59b65-87ec-4852-b0dd-21e2d1cf1ac0"
      },
      "outputs": [
        {
          "output_type": "stream",
          "name": "stdout",
          "text": [
            "Liczba filmów Sci-Fi: 980\n"
          ]
        }
      ],
      "source": [
        "# Wybierz filmy z gatunkiem Sci-Fi\n",
        "scifi_movies = movies[movies['genres'].str.contains(\"Sci-Fi\")]\n",
        "\n",
        "# Oblicz liczbę filmów Sci-Fi\n",
        "number_of_scifi_movies = scifi_movies.shape[0]\n",
        "\n",
        "# Wyświetl informację o liczbie filmów Sci-Fi\n",
        "print(f\"Liczba filmów Sci-Fi: {number_of_scifi_movies}\")"
      ]
    },
    {
      "cell_type": "markdown",
      "source": [
        "Całkowita liczba filmów Sci-Fi to 980"
      ],
      "metadata": {
        "id": "_CT1jeR3MX94"
      }
    },
    {
      "cell_type": "markdown",
      "metadata": {
        "id": "8NLRWuSay1Aq"
      },
      "source": [
        "## 2.2. Rozkład ocen komedii"
      ]
    },
    {
      "cell_type": "code",
      "execution_count": 5,
      "metadata": {
        "colab": {
          "base_uri": "https://localhost:8080/",
          "height": 472
        },
        "id": "Q2W7M0N2vaej",
        "outputId": "bac81ae4-f320-422b-9464-8d15834c727e"
      },
      "outputs": [
        {
          "output_type": "display_data",
          "data": {
            "text/plain": [
              "<Figure size 640x480 with 1 Axes>"
            ],
            "image/png": "[encoded data removed]"
          },
          "metadata": {}
        }
      ],
      "source": [
        "# Filtruj filmy komediowe\n",
        "comedy_movies = movies[movies['genres'].str.contains(\"Comedy\")]\n",
        "comedy_ratings = ratings[ratings['movieId'].isin(comedy_movies['movieId'])]\n",
        "\n",
        "# Pobierz oceny dla filmów komediowych\n",
        "comedy_ratings_values = comedy_ratings['rating'].values\n",
        "\n",
        "# Spróbuj przekonwertować oceny na wartości numeryczne przed wykreśleniem dystrybucji\n",
        "try:\n",
        "  # Jeśli jest to typ łańcuchowy, usuń wszystkie znaki poza liczbami, \".\", \"+\" lub \"-\".\n",
        "  if pd.api.types.is_string_dtype(comedy_ratings_values):\n",
        "    for i in range(len(comedy_ratings_values)):\n",
        "      comedy_ratings_values[i] = re.sub(r\"[^\\d\\-+\\.]\", \"\", comedy_ratings_values[i])\n",
        "  comedy_ratings_values = pd.to_numeric(comedy_ratings_values)\n",
        "except:\n",
        "  pass\n",
        "\n",
        "# Wykreśl dystrybucję ocen z ustawionymi kategoriami dla skali od 1 do 10\n",
        "plt.hist(comedy_ratings_values)  # Dostosuj krawędzie kategorii w razie potrzeby\n",
        "\n",
        "plt.xlabel(\"Ocena\")\n",
        "plt.ylabel(\"Liczba ocen\")\n",
        "plt.title(\"Rozkład ocen komedii\")\n",
        "plt.grid(axis='y')\n",
        "\n",
        "plt.show()\n"
      ]
    },
    {
      "cell_type": "markdown",
      "source": [
        "Powyżej wykres przedstawiający oceny filmów komediowych. Najczęstsza ocena to 4"
      ],
      "metadata": {
        "id": "ZgrUNyuhMbpP"
      }
    },
    {
      "cell_type": "markdown",
      "metadata": {
        "id": "v_NLkwSq1sYq"
      },
      "source": [
        "## 2.3. Podaj średnią ocen wszystkich filmów akcji oraz 3 filmy najwyżej ocenianych"
      ]
    },
    {
      "cell_type": "code",
      "execution_count": 6,
      "metadata": {
        "colab": {
          "base_uri": "https://localhost:8080/"
        },
        "id": "TqEIg1Nv4hD6",
        "outputId": "70a2971a-520d-472c-b334-0ff6863ae570"
      },
      "outputs": [
        {
          "output_type": "stream",
          "name": "stdout",
          "text": [
            "Średnia ocena wszystkich filmów akcji: 3.4\n"
          ]
        }
      ],
      "source": [
        "# Filtruj filmy akcji\n",
        "action_movies = movies[movies['genres'].str.contains(\"Action\")]\n",
        "\n",
        "# Oblicz średnią ocenę dla wszystkich filmów akcji\n",
        "average_rating_action = ratings[ratings['movieId'].isin(action_movies['movieId'])][\"rating\"].mean()\n",
        "\n",
        "# Konwertuj średnią ocenę na sformatowany ciąg znaków z jednym miejscem po przecinku\n",
        "average_rating_action_str = f\"{average_rating_action:.1f}\"\n",
        "\n",
        "# Wydruk\n",
        "print(f\"Średnia ocena wszystkich filmów akcji: {average_rating_action_str}\")"
      ]
    },
    {
      "cell_type": "markdown",
      "source": [
        "Średnia ocena filmów akcji to 3.4"
      ],
      "metadata": {
        "id": "XDXraFp1Mg8X"
      }
    },
    {
      "cell_type": "code",
      "execution_count": 7,
      "metadata": {
        "colab": {
          "base_uri": "https://localhost:8080/"
        },
        "id": "UECLhwJe4uCW",
        "outputId": "1417cc6a-5aed-4929-996f-4710fd8c6aa3"
      },
      "outputs": [
        {
          "output_type": "stream",
          "name": "stdout",
          "text": [
            "3 najwyżej oceniane filmy akcji:\n",
            "1. Thing, The (1982) (rating: 5.0)\n",
            "2. Star Wars: Episode VI - Return of the Jedi (1983) (rating: 5.0)\n",
            "3. Star Wars: Episode VI - Return of the Jedi (1983) (rating: 5.0)\n"
          ]
        }
      ],
      "source": [
        "# Posortuj oceny według oceny malejąco i wybierz pierwsze 3 wiersze (najwyżej ocenione filmy)\n",
        "top_3_action_movies = ratings[ratings['movieId'].isin(action_movies['movieId'])].sort_values(by='rating', ascending=False).head(3)\n",
        "\n",
        "# Połącz oceny i filmy na podstawie movieId, aby uwzględnić tytuły\n",
        "top_3_action_movies = top_3_action_movies.merge(action_movies[['movieId', 'title']], how='inner', on='movieId')\n",
        "\n",
        "# Wydruk\n",
        "print(f\"3 najwyżej oceniane filmy akcji:\")\n",
        "for i, row in top_3_action_movies.iterrows():\n",
        "    print(f\"{i+1}. {row['title']} (rating: {row['rating']:.1f})\")"
      ]
    },
    {
      "cell_type": "markdown",
      "metadata": {
        "id": "3oIkUVxNNMZw"
      },
      "source": [
        "# 3. System rekomendacyjny"
      ]
    },
    {
      "cell_type": "markdown",
      "metadata": {
        "id": "8eUTo0eINP8V"
      },
      "source": [
        "## 3.1. Sprawdzenie i przygotowanie danych"
      ]
    },
    {
      "cell_type": "code",
      "execution_count": 8,
      "metadata": {
        "colab": {
          "base_uri": "https://localhost:8080/"
        },
        "id": "iyBbiGRYNMLZ",
        "outputId": "7a08a5dc-f248-4ccf-a94b-713aedca992a"
      },
      "outputs": [
        {
          "output_type": "execute_result",
          "data": {
            "text/plain": [
              "(100836, 4)"
            ]
          },
          "metadata": {},
          "execution_count": 8
        }
      ],
      "source": [
        "ratings.shape"
      ]
    },
    {
      "cell_type": "code",
      "execution_count": 9,
      "metadata": {
        "colab": {
          "base_uri": "https://localhost:8080/",
          "height": 143
        },
        "id": "pbnrsIo5N2jC",
        "outputId": "61298fd9-ebfa-40b3-a3c7-8b2960958917"
      },
      "outputs": [
        {
          "output_type": "execute_result",
          "data": {
            "text/plain": [
              "   userId  movieId  rating  timestamp\n",
              "0       1        1     4.0  964982703\n",
              "1       1        3     4.0  964981247\n",
              "2       1        6     4.0  964982224"
            ],
            "text/html": [
              "\n",
              "  <div id=\"df-209b84a6-3906-4df5-a362-ba0833df67e9\" class=\"colab-df-container\">\n",
              "    <div>\n",
              "<style scoped>\n",
              "    .dataframe tbody tr th:only-of-type {\n",
              "        vertical-align: middle;\n",
              "    }\n",
              "\n",
              "    .dataframe tbody tr th {\n",
              "        vertical-align: top;\n",
              "    }\n",
              "\n",
              "    .dataframe thead th {\n",
              "        text-align: right;\n",
              "    }\n",
              "</style>\n",
              "<table border=\"1\" class=\"dataframe\">\n",
              "  <thead>\n",
              "    <tr style=\"text-align: right;\">\n",
              "      <th></th>\n",
              "      <th>userId</th>\n",
              "      <th>movieId</th>\n",
              "      <th>rating</th>\n",
              "      <th>timestamp</th>\n",
              "    </tr>\n",
              "  </thead>\n",
              "  <tbody>\n",
              "    <tr>\n",
              "      <th>0</th>\n",
              "      <td>1</td>\n",
              "      <td>1</td>\n",
              "      <td>4.0</td>\n",
              "      <td>964982703</td>\n",
              "    </tr>\n",
              "    <tr>\n",
              "      <th>1</th>\n",
              "      <td>1</td>\n",
              "      <td>3</td>\n",
              "      <td>4.0</td>\n",
              "      <td>964981247</td>\n",
              "    </tr>\n",
              "    <tr>\n",
              "      <th>2</th>\n",
              "      <td>1</td>\n",
              "      <td>6</td>\n",
              "      <td>4.0</td>\n",
              "      <td>964982224</td>\n",
              "    </tr>\n",
              "  </tbody>\n",
              "</table>\n",
              "</div>\n",
              "    <div class=\"colab-df-buttons\">\n",
              "\n",
              "  <div class=\"colab-df-container\">\n",
              "    <button class=\"colab-df-convert\" onclick=\"convertToInteractive('df-209b84a6-3906-4df5-a362-ba0833df67e9')\"\n",
              "            title=\"Convert this dataframe to an interactive table.\"\n",
              "            style=\"display:none;\">\n",
              "\n",
              "  <svg xmlns=\"http://www.w3.org/2000/svg\" height=\"24px\" viewBox=\"0 -960 960 960\">\n",
              "    <path d=\"M120-120v-720h720v720H120Zm60-500h600v-160H180v160Zm220 220h160v-160H400v160Zm0 220h160v-160H400v160ZM180-400h160v-160H180v160Zm440 0h160v-160H620v160ZM180-180h160v-160H180v160Zm440 0h160v-160H620v160Z\"/>\n",
              "  </svg>\n",
              "    </button>\n",
              "\n",
              "  <style>\n",
              "    .colab-df-container {\n",
              "      display:flex;\n",
              "      gap: 12px;\n",
              "    }\n",
              "\n",
              "    .colab-df-convert {\n",
              "      background-color: #E8F0FE;\n",
              "      border: none;\n",
              "      border-radius: 50%;\n",
              "      cursor: pointer;\n",
              "      display: none;\n",
              "      fill: #1967D2;\n",
              "      height: 32px;\n",
              "      padding: 0 0 0 0;\n",
              "      width: 32px;\n",
              "    }\n",
              "\n",
              "    .colab-df-convert:hover {\n",
              "      background-color: #E2EBFA;\n",
              "      box-shadow: 0px 1px 2px rgba(60, 64, 67, 0.3), 0px 1px 3px 1px rgba(60, 64, 67, 0.15);\n",
              "      fill: #174EA6;\n",
              "    }\n",
              "\n",
              "    .colab-df-buttons div {\n",
              "      margin-bottom: 4px;\n",
              "    }\n",
              "\n",
              "    [theme=dark] .colab-df-convert {\n",
              "      background-color: #3B4455;\n",
              "      fill: #D2E3FC;\n",
              "    }\n",
              "\n",
              "    [theme=dark] .colab-df-convert:hover {\n",
              "      background-color: #434B5C;\n",
              "      box-shadow: 0px 1px 3px 1px rgba(0, 0, 0, 0.15);\n",
              "      filter: drop-shadow(0px 1px 2px rgba(0, 0, 0, 0.3));\n",
              "      fill: #FFFFFF;\n",
              "    }\n",
              "  </style>\n",
              "\n",
              "    <script>\n",
              "      const buttonEl =\n",
              "        document.querySelector('#df-209b84a6-3906-4df5-a362-ba0833df67e9 button.colab-df-convert');\n",
              "      buttonEl.style.display =\n",
              "        google.colab.kernel.accessAllowed ? 'block' : 'none';\n",
              "\n",
              "      async function convertToInteractive(key) {\n",
              "        const element = document.querySelector('#df-209b84a6-3906-4df5-a362-ba0833df67e9');\n",
              "        const dataTable =\n",
              "          await google.colab.kernel.invokeFunction('convertToInteractive',\n",
              "                                                    [key], {});\n",
              "        if (!dataTable) return;\n",
              "\n",
              "        const docLinkHtml = 'Like what you see? Visit the ' +\n",
              "          '<a target=\"_blank\" href=https://colab.research.google.com/notebooks/data_table.ipynb>data table notebook</a>'\n",
              "          + ' to learn more about interactive tables.';\n",
              "        element.innerHTML = '';\n",
              "        dataTable['output_type'] = 'display_data';\n",
              "        await google.colab.output.renderOutput(dataTable, element);\n",
              "        const docLink = document.createElement('div');\n",
              "        docLink.innerHTML = docLinkHtml;\n",
              "        element.appendChild(docLink);\n",
              "      }\n",
              "    </script>\n",
              "  </div>\n",
              "\n",
              "\n",
              "<div id=\"df-8698e5c7-acb0-49cb-a5b6-26cd28f02b5d\">\n",
              "  <button class=\"colab-df-quickchart\" onclick=\"quickchart('df-8698e5c7-acb0-49cb-a5b6-26cd28f02b5d')\"\n",
              "            title=\"Suggest charts\"\n",
              "            style=\"display:none;\">\n",
              "\n",
              "<svg xmlns=\"http://www.w3.org/2000/svg\" height=\"24px\"viewBox=\"0 0 24 24\"\n",
              "     width=\"24px\">\n",
              "    <g>\n",
              "        <path d=\"M19 3H5c-1.1 0-2 .9-2 2v14c0 1.1.9 2 2 2h14c1.1 0 2-.9 2-2V5c0-1.1-.9-2-2-2zM9 17H7v-7h2v7zm4 0h-2V7h2v10zm4 0h-2v-4h2v4z\"/>\n",
              "    </g>\n",
              "</svg>\n",
              "  </button>\n",
              "\n",
              "<style>\n",
              "  .colab-df-quickchart {\n",
              "      --bg-color: #E8F0FE;\n",
              "      --fill-color: #1967D2;\n",
              "      --hover-bg-color: #E2EBFA;\n",
              "      --hover-fill-color: #174EA6;\n",
              "      --disabled-fill-color: #AAA;\n",
              "      --disabled-bg-color: #DDD;\n",
              "  }\n",
              "\n",
              "  [theme=dark] .colab-df-quickchart {\n",
              "      --bg-color: #3B4455;\n",
              "      --fill-color: #D2E3FC;\n",
              "      --hover-bg-color: #434B5C;\n",
              "      --hover-fill-color: #FFFFFF;\n",
              "      --disabled-bg-color: #3B4455;\n",
              "      --disabled-fill-color: #666;\n",
              "  }\n",
              "\n",
              "  .colab-df-quickchart {\n",
              "    background-color: var(--bg-color);\n",
              "    border: none;\n",
              "    border-radius: 50%;\n",
              "    cursor: pointer;\n",
              "    display: none;\n",
              "    fill: var(--fill-color);\n",
              "    height: 32px;\n",
              "    padding: 0;\n",
              "    width: 32px;\n",
              "  }\n",
              "\n",
              "  .colab-df-quickchart:hover {\n",
              "    background-color: var(--hover-bg-color);\n",
              "    box-shadow: 0 1px 2px rgba(60, 64, 67, 0.3), 0 1px 3px 1px rgba(60, 64, 67, 0.15);\n",
              "    fill: var(--button-hover-fill-color);\n",
              "  }\n",
              "\n",
              "  .colab-df-quickchart-complete:disabled,\n",
              "  .colab-df-quickchart-complete:disabled:hover {\n",
              "    background-color: var(--disabled-bg-color);\n",
              "    fill: var(--disabled-fill-color);\n",
              "    box-shadow: none;\n",
              "  }\n",
              "\n",
              "  .colab-df-spinner {\n",
              "    border: 2px solid var(--fill-color);\n",
              "    border-color: transparent;\n",
              "    border-bottom-color: var(--fill-color);\n",
              "    animation:\n",
              "      spin 1s steps(1) infinite;\n",
              "  }\n",
              "\n",
              "  @keyframes spin {\n",
              "    0% {\n",
              "      border-color: transparent;\n",
              "      border-bottom-color: var(--fill-color);\n",
              "      border-left-color: var(--fill-color);\n",
              "    }\n",
              "    20% {\n",
              "      border-color: transparent;\n",
              "      border-left-color: var(--fill-color);\n",
              "      border-top-color: var(--fill-color);\n",
              "    }\n",
              "    30% {\n",
              "      border-color: transparent;\n",
              "      border-left-color: var(--fill-color);\n",
              "      border-top-color: var(--fill-color);\n",
              "      border-right-color: var(--fill-color);\n",
              "    }\n",
              "    40% {\n",
              "      border-color: transparent;\n",
              "      border-right-color: var(--fill-color);\n",
              "      border-top-color: var(--fill-color);\n",
              "    }\n",
              "    60% {\n",
              "      border-color: transparent;\n",
              "      border-right-color: var(--fill-color);\n",
              "    }\n",
              "    80% {\n",
              "      border-color: transparent;\n",
              "      border-right-color: var(--fill-color);\n",
              "      border-bottom-color: var(--fill-color);\n",
              "    }\n",
              "    90% {\n",
              "      border-color: transparent;\n",
              "      border-bottom-color: var(--fill-color);\n",
              "    }\n",
              "  }\n",
              "</style>\n",
              "\n",
              "  <script>\n",
              "    async function quickchart(key) {\n",
              "      const quickchartButtonEl =\n",
              "        document.querySelector('#' + key + ' button');\n",
              "      quickchartButtonEl.disabled = true;  // To prevent multiple clicks.\n",
              "      quickchartButtonEl.classList.add('colab-df-spinner');\n",
              "      try {\n",
              "        const charts = await google.colab.kernel.invokeFunction(\n",
              "            'suggestCharts', [key], {});\n",
              "      } catch (error) {\n",
              "        console.error('Error during call to suggestCharts:', error);\n",
              "      }\n",
              "      quickchartButtonEl.classList.remove('colab-df-spinner');\n",
              "      quickchartButtonEl.classList.add('colab-df-quickchart-complete');\n",
              "    }\n",
              "    (() => {\n",
              "      let quickchartButtonEl =\n",
              "        document.querySelector('#df-8698e5c7-acb0-49cb-a5b6-26cd28f02b5d button');\n",
              "      quickchartButtonEl.style.display =\n",
              "        google.colab.kernel.accessAllowed ? 'block' : 'none';\n",
              "    })();\n",
              "  </script>\n",
              "</div>\n",
              "    </div>\n",
              "  </div>\n"
            ],
            "application/vnd.google.colaboratory.intrinsic+json": {
              "type": "dataframe",
              "variable_name": "ratings"
            }
          },
          "metadata": {},
          "execution_count": 9
        }
      ],
      "source": [
        "ratings.head(3)"
      ]
    },
    {
      "cell_type": "code",
      "execution_count": 10,
      "metadata": {
        "colab": {
          "base_uri": "https://localhost:8080/"
        },
        "id": "THNCFbO1N7PJ",
        "outputId": "d778e96c-7f61-4f16-c65b-4d3e0b5dc9ca"
      },
      "outputs": [
        {
          "output_type": "stream",
          "name": "stdout",
          "text": [
            "<class 'pandas.core.frame.DataFrame'>\n",
            "RangeIndex: 100836 entries, 0 to 100835\n",
            "Data columns (total 4 columns):\n",
            " #   Column     Non-Null Count   Dtype  \n",
            "---  ------     --------------   -----  \n",
            " 0   userId     100836 non-null  int64  \n",
            " 1   movieId    100836 non-null  int64  \n",
            " 2   rating     100836 non-null  float64\n",
            " 3   timestamp  100836 non-null  int64  \n",
            "dtypes: float64(1), int64(3)\n",
            "memory usage: 3.1 MB\n"
          ]
        }
      ],
      "source": [
        "ratings.info()"
      ]
    },
    {
      "cell_type": "code",
      "execution_count": 11,
      "metadata": {
        "colab": {
          "base_uri": "https://localhost:8080/"
        },
        "id": "qut3kH9KOX_L",
        "outputId": "213cd0d7-83db-431e-bbc3-0c8268a81238"
      },
      "outputs": [
        {
          "output_type": "stream",
          "name": "stdout",
          "text": [
            "Duplicate entries: 0\n"
          ]
        }
      ],
      "source": [
        "print(f'Duplicate entries: {ratings.duplicated().sum()}')"
      ]
    },
    {
      "cell_type": "markdown",
      "source": [
        "Rozkład ocen wszystkich filmów"
      ],
      "metadata": {
        "id": "Itckt_JPMn5Z"
      }
    },
    {
      "cell_type": "code",
      "execution_count": 12,
      "metadata": {
        "colab": {
          "base_uri": "https://localhost:8080/",
          "height": 542
        },
        "id": "upHEw_ouOaBC",
        "outputId": "600f38bb-ed21-4b5b-dd2d-1581eab41c34"
      },
      "outputs": [
        {
          "output_type": "display_data",
          "data": {
            "text/html": [
              "<html>\n",
              "<head><meta charset=\"utf-8\" /></head>\n",
              "<body>\n",
              "    <div>            <script src=\"https://cdnjs.cloudflare.com/ajax/libs/mathjax/2.7.5/MathJax.js?config=TeX-AMS-MML_SVG\"></script><script type=\"text/javascript\">if (window.MathJax && window.MathJax.Hub && window.MathJax.Hub.Config) {window.MathJax.Hub.Config({SVG: {font: \"STIX-Web\"}});}</script>                <script type=\"text/javascript\">window.PlotlyConfig = {MathJaxConfig: 'local'};</script>\n",
              "        <script charset=\"utf-8\" src=\"https://cdn.plot.ly/plotly-2.24.1.min.js\"></script>                <div id=\"2fa93e6d-b508-49ad-bb0f-9e86faad9352\" class=\"plotly-graph-div\" style=\"height:525px; width:100%;\"></div>            <script type=\"text/javascript\">                                    window.PLOTLYENV=window.PLOTLYENV || {};                                    if (document.getElementById(\"2fa93e6d-b508-49ad-bb0f-9e86faad9352\")) {                    Plotly.newPlot(                        \"2fa93e6d-b508-49ad-bb0f-9e86faad9352\",                        [{\"text\":[26818.0,20047.0,13211.0,13136.0,8551.0,7551.0,5550.0,2811.0,1791.0,1370.0],\"textposition\":\"outside\",\"x\":[4.0,3.0,5.0,3.5,4.5,2.0,2.5,1.0,1.5,0.5],\"y\":[26818,20047,13211,13136,8551,7551,5550,2811,1791,1370],\"type\":\"bar\"}],                        {\"title\":{\"text\":\"Count of ratings\"},\"xaxis\":{\"title\":{\"text\":\"Rating\"}},\"yaxis\":{\"title\":{\"text\":\"Count\"}},\"template\":{\"data\":{\"histogram2dcontour\":[{\"type\":\"histogram2dcontour\",\"colorbar\":{\"outlinewidth\":0,\"ticks\":\"\"},\"colorscale\":[[0.0,\"#0d0887\"],[0.1111111111111111,\"#46039f\"],[0.2222222222222222,\"#7201a8\"],[0.3333333333333333,\"#9c179e\"],[0.4444444444444444,\"#bd3786\"],[0.5555555555555556,\"#d8576b\"],[0.6666666666666666,\"#ed7953\"],[0.7777777777777778,\"#fb9f3a\"],[0.8888888888888888,\"#fdca26\"],[1.0,\"#f0f921\"]]}],\"choropleth\":[{\"type\":\"choropleth\",\"colorbar\":{\"outlinewidth\":0,\"ticks\":\"\"}}],\"histogram2d\":[{\"type\":\"histogram2d\",\"colorbar\":{\"outlinewidth\":0,\"ticks\":\"\"},\"colorscale\":[[0.0,\"#0d0887\"],[0.1111111111111111,\"#46039f\"],[0.2222222222222222,\"#7201a8\"],[0.3333333333333333,\"#9c179e\"],[0.4444444444444444,\"#bd3786\"],[0.5555555555555556,\"#d8576b\"],[0.6666666666666666,\"#ed7953\"],[0.7777777777777778,\"#fb9f3a\"],[0.8888888888888888,\"#fdca26\"],[1.0,\"#f0f921\"]]}],\"heatmap\":[{\"type\":\"heatmap\",\"colorbar\":{\"outlinewidth\":0,\"ticks\":\"\"},\"colorscale\":[[0.0,\"#0d0887\"],[0.1111111111111111,\"#46039f\"],[0.2222222222222222,\"#7201a8\"],[0.3333333333333333,\"#9c179e\"],[0.4444444444444444,\"#bd3786\"],[0.5555555555555556,\"#d8576b\"],[0.6666666666666666,\"#ed7953\"],[0.7777777777777778,\"#fb9f3a\"],[0.8888888888888888,\"#fdca26\"],[1.0,\"#f0f921\"]]}],\"heatmapgl\":[{\"type\":\"heatmapgl\",\"colorbar\":{\"outlinewidth\":0,\"ticks\":\"\"},\"colorscale\":[[0.0,\"#0d0887\"],[0.1111111111111111,\"#46039f\"],[0.2222222222222222,\"#7201a8\"],[0.3333333333333333,\"#9c179e\"],[0.4444444444444444,\"#bd3786\"],[0.5555555555555556,\"#d8576b\"],[0.6666666666666666,\"#ed7953\"],[0.7777777777777778,\"#fb9f3a\"],[0.8888888888888888,\"#fdca26\"],[1.0,\"#f0f921\"]]}],\"contourcarpet\":[{\"type\":\"contourcarpet\",\"colorbar\":{\"outlinewidth\":0,\"ticks\":\"\"}}],\"contour\":[{\"type\":\"contour\",\"colorbar\":{\"outlinewidth\":0,\"ticks\":\"\"},\"colorscale\":[[0.0,\"#0d0887\"],[0.1111111111111111,\"#46039f\"],[0.2222222222222222,\"#7201a8\"],[0.3333333333333333,\"#9c179e\"],[0.4444444444444444,\"#bd3786\"],[0.5555555555555556,\"#d8576b\"],[0.6666666666666666,\"#ed7953\"],[0.7777777777777778,\"#fb9f3a\"],[0.8888888888888888,\"#fdca26\"],[1.0,\"#f0f921\"]]}],\"surface\":[{\"type\":\"surface\",\"colorbar\":{\"outlinewidth\":0,\"ticks\":\"\"},\"colorscale\":[[0.0,\"#0d0887\"],[0.1111111111111111,\"#46039f\"],[0.2222222222222222,\"#7201a8\"],[0.3333333333333333,\"#9c179e\"],[0.4444444444444444,\"#bd3786\"],[0.5555555555555556,\"#d8576b\"],[0.6666666666666666,\"#ed7953\"],[0.7777777777777778,\"#fb9f3a\"],[0.8888888888888888,\"#fdca26\"],[1.0,\"#f0f921\"]]}],\"mesh3d\":[{\"type\":\"mesh3d\",\"colorbar\":{\"outlinewidth\":0,\"ticks\":\"\"}}],\"scatter\":[{\"fillpattern\":{\"fillmode\":\"overlay\",\"size\":10,\"solidity\":0.2},\"type\":\"scatter\"}],\"parcoords\":[{\"type\":\"parcoords\",\"line\":{\"colorbar\":{\"outlinewidth\":0,\"ticks\":\"\"}}}],\"scatterpolargl\":[{\"type\":\"scatterpolargl\",\"marker\":{\"colorbar\":{\"outlinewidth\":0,\"ticks\":\"\"}}}],\"bar\":[{\"error_x\":{\"color\":\"#2a3f5f\"},\"error_y\":{\"color\":\"#2a3f5f\"},\"marker\":{\"line\":{\"color\":\"#E5ECF6\",\"width\":0.5},\"pattern\":{\"fillmode\":\"overlay\",\"size\":10,\"solidity\":0.2}},\"type\":\"bar\"}],\"scattergeo\":[{\"type\":\"scattergeo\",\"marker\":{\"colorbar\":{\"outlinewidth\":0,\"ticks\":\"\"}}}],\"scatterpolar\":[{\"type\":\"scatterpolar\",\"marker\":{\"colorbar\":{\"outlinewidth\":0,\"ticks\":\"\"}}}],\"histogram\":[{\"marker\":{\"pattern\":{\"fillmode\":\"overlay\",\"size\":10,\"solidity\":0.2}},\"type\":\"histogram\"}],\"scattergl\":[{\"type\":\"scattergl\",\"marker\":{\"colorbar\":{\"outlinewidth\":0,\"ticks\":\"\"}}}],\"scatter3d\":[{\"type\":\"scatter3d\",\"line\":{\"colorbar\":{\"outlinewidth\":0,\"ticks\":\"\"}},\"marker\":{\"colorbar\":{\"outlinewidth\":0,\"ticks\":\"\"}}}],\"scattermapbox\":[{\"type\":\"scattermapbox\",\"marker\":{\"colorbar\":{\"outlinewidth\":0,\"ticks\":\"\"}}}],\"scatterternary\":[{\"type\":\"scatterternary\",\"marker\":{\"colorbar\":{\"outlinewidth\":0,\"ticks\":\"\"}}}],\"scattercarpet\":[{\"type\":\"scattercarpet\",\"marker\":{\"colorbar\":{\"outlinewidth\":0,\"ticks\":\"\"}}}],\"carpet\":[{\"aaxis\":{\"endlinecolor\":\"#2a3f5f\",\"gridcolor\":\"white\",\"linecolor\":\"white\",\"minorgridcolor\":\"white\",\"startlinecolor\":\"#2a3f5f\"},\"baxis\":{\"endlinecolor\":\"#2a3f5f\",\"gridcolor\":\"white\",\"linecolor\":\"white\",\"minorgridcolor\":\"white\",\"startlinecolor\":\"#2a3f5f\"},\"type\":\"carpet\"}],\"table\":[{\"cells\":{\"fill\":{\"color\":\"#EBF0F8\"},\"line\":{\"color\":\"white\"}},\"header\":{\"fill\":{\"color\":\"#C8D4E3\"},\"line\":{\"color\":\"white\"}},\"type\":\"table\"}],\"barpolar\":[{\"marker\":{\"line\":{\"color\":\"#E5ECF6\",\"width\":0.5},\"pattern\":{\"fillmode\":\"overlay\",\"size\":10,\"solidity\":0.2}},\"type\":\"barpolar\"}],\"pie\":[{\"automargin\":true,\"type\":\"pie\"}]},\"layout\":{\"autotypenumbers\":\"strict\",\"colorway\":[\"#636efa\",\"#EF553B\",\"#00cc96\",\"#ab63fa\",\"#FFA15A\",\"#19d3f3\",\"#FF6692\",\"#B6E880\",\"#FF97FF\",\"#FECB52\"],\"font\":{\"color\":\"#2a3f5f\"},\"hovermode\":\"closest\",\"hoverlabel\":{\"align\":\"left\"},\"paper_bgcolor\":\"white\",\"plot_bgcolor\":\"#E5ECF6\",\"polar\":{\"bgcolor\":\"#E5ECF6\",\"angularaxis\":{\"gridcolor\":\"white\",\"linecolor\":\"white\",\"ticks\":\"\"},\"radialaxis\":{\"gridcolor\":\"white\",\"linecolor\":\"white\",\"ticks\":\"\"}},\"ternary\":{\"bgcolor\":\"#E5ECF6\",\"aaxis\":{\"gridcolor\":\"white\",\"linecolor\":\"white\",\"ticks\":\"\"},\"baxis\":{\"gridcolor\":\"white\",\"linecolor\":\"white\",\"ticks\":\"\"},\"caxis\":{\"gridcolor\":\"white\",\"linecolor\":\"white\",\"ticks\":\"\"}},\"coloraxis\":{\"colorbar\":{\"outlinewidth\":0,\"ticks\":\"\"}},\"colorscale\":{\"sequential\":[[0.0,\"#0d0887\"],[0.1111111111111111,\"#46039f\"],[0.2222222222222222,\"#7201a8\"],[0.3333333333333333,\"#9c179e\"],[0.4444444444444444,\"#bd3786\"],[0.5555555555555556,\"#d8576b\"],[0.6666666666666666,\"#ed7953\"],[0.7777777777777778,\"#fb9f3a\"],[0.8888888888888888,\"#fdca26\"],[1.0,\"#f0f921\"]],\"sequentialminus\":[[0.0,\"#0d0887\"],[0.1111111111111111,\"#46039f\"],[0.2222222222222222,\"#7201a8\"],[0.3333333333333333,\"#9c179e\"],[0.4444444444444444,\"#bd3786\"],[0.5555555555555556,\"#d8576b\"],[0.6666666666666666,\"#ed7953\"],[0.7777777777777778,\"#fb9f3a\"],[0.8888888888888888,\"#fdca26\"],[1.0,\"#f0f921\"]],\"diverging\":[[0,\"#8e0152\"],[0.1,\"#c51b7d\"],[0.2,\"#de77ae\"],[0.3,\"#f1b6da\"],[0.4,\"#fde0ef\"],[0.5,\"#f7f7f7\"],[0.6,\"#e6f5d0\"],[0.7,\"#b8e186\"],[0.8,\"#7fbc41\"],[0.9,\"#4d9221\"],[1,\"#276419\"]]},\"xaxis\":{\"gridcolor\":\"white\",\"linecolor\":\"white\",\"ticks\":\"\",\"title\":{\"standoff\":15},\"zerolinecolor\":\"white\",\"automargin\":true,\"zerolinewidth\":2},\"yaxis\":{\"gridcolor\":\"white\",\"linecolor\":\"white\",\"ticks\":\"\",\"title\":{\"standoff\":15},\"zerolinecolor\":\"white\",\"automargin\":true,\"zerolinewidth\":2},\"scene\":{\"xaxis\":{\"backgroundcolor\":\"#E5ECF6\",\"gridcolor\":\"white\",\"linecolor\":\"white\",\"showbackground\":true,\"ticks\":\"\",\"zerolinecolor\":\"white\",\"gridwidth\":2},\"yaxis\":{\"backgroundcolor\":\"#E5ECF6\",\"gridcolor\":\"white\",\"linecolor\":\"white\",\"showbackground\":true,\"ticks\":\"\",\"zerolinecolor\":\"white\",\"gridwidth\":2},\"zaxis\":{\"backgroundcolor\":\"#E5ECF6\",\"gridcolor\":\"white\",\"linecolor\":\"white\",\"showbackground\":true,\"ticks\":\"\",\"zerolinecolor\":\"white\",\"gridwidth\":2}},\"shapedefaults\":{\"line\":{\"color\":\"#2a3f5f\"}},\"annotationdefaults\":{\"arrowcolor\":\"#2a3f5f\",\"arrowhead\":0,\"arrowwidth\":1},\"geo\":{\"bgcolor\":\"white\",\"landcolor\":\"#E5ECF6\",\"subunitcolor\":\"white\",\"showland\":true,\"showlakes\":true,\"lakecolor\":\"white\"},\"title\":{\"x\":0.05},\"mapbox\":{\"style\":\"light\"}}}},                        {\"responsive\": true}                    ).then(function(){\n",
              "                            \n",
              "var gd = document.getElementById('2fa93e6d-b508-49ad-bb0f-9e86faad9352');\n",
              "var x = new MutationObserver(function (mutations, observer) {{\n",
              "        var display = window.getComputedStyle(gd).display;\n",
              "        if (!display || display === 'none') {{\n",
              "            console.log([gd, 'removed!']);\n",
              "            Plotly.purge(gd);\n",
              "            observer.disconnect();\n",
              "        }}\n",
              "}});\n",
              "\n",
              "// Listen for the removal of the full notebook cells\n",
              "var notebookContainer = gd.closest('#notebook-container');\n",
              "if (notebookContainer) {{\n",
              "    x.observe(notebookContainer, {childList: true});\n",
              "}}\n",
              "\n",
              "// Listen for the clearing of the current output cell\n",
              "var outputEl = gd.closest('.output');\n",
              "if (outputEl) {{\n",
              "    x.observe(outputEl, {childList: true});\n",
              "}}\n",
              "\n",
              "                        })                };                            </script>        </div>\n",
              "</body>\n",
              "</html>"
            ]
          },
          "metadata": {}
        }
      ],
      "source": [
        "rating_types = ratings['rating'].value_counts()\n",
        "x,y   = rating_types.index, rating_types.values\n",
        "data  = go.Bar(x=x,y=y, text=y, textposition=\"outside\")\n",
        "Layout=go.Layout(title=\"Count of ratings\",xaxis={'title':'Rating'},yaxis={'title':'Count'})\n",
        "go.Figure(data,Layout)"
      ]
    },
    {
      "cell_type": "markdown",
      "source": [
        "Liczba ocen, którą przyznali poszczególni użytkownicy"
      ],
      "metadata": {
        "id": "Oerl4SWNMqMs"
      }
    },
    {
      "cell_type": "code",
      "execution_count": 13,
      "metadata": {
        "colab": {
          "base_uri": "https://localhost:8080/",
          "height": 565
        },
        "id": "VrM8h-WhTNs9",
        "outputId": "821ab578-8520-49c7-835e-d122ff17ea18"
      },
      "outputs": [
        {
          "output_type": "display_data",
          "data": {
            "text/plain": [
              "<Figure size 1000x600 with 1 Axes>"
            ],
            "image/png": "[encoded data removed]"
          },
          "metadata": {}
        }
      ],
      "source": [
        "# Policz liczbę ocen dla każdego użytkownika\n",
        "ilosc_ocen_uzytkownika = ratings.groupby('userId')['rating'].count()\n",
        "\n",
        "# Utwórz wykres liniowy\n",
        "plt.figure(figsize=(10, 6))\n",
        "plt.plot(ilosc_ocen_uzytkownika.index, ilosc_ocen_uzytkownika.values)\n",
        "plt.xlabel('ID użytkownika')\n",
        "plt.ylabel('Liczba ocen')\n",
        "plt.title('Liczba ocen użytkowników w pliku ratings')\n",
        "plt.show()"
      ]
    },
    {
      "cell_type": "code",
      "execution_count": 14,
      "metadata": {
        "colab": {
          "base_uri": "https://localhost:8080/"
        },
        "id": "KrngS6CtYg3h",
        "outputId": "d094aebe-23ad-4328-dd2f-0b806377b3f9"
      },
      "outputs": [
        {
          "output_type": "stream",
          "name": "stdout",
          "text": [
            "userId\n",
            "414    2698\n",
            "599    2478\n",
            "474    2108\n",
            "448    1864\n",
            "274    1346\n",
            "610    1302\n",
            "68     1260\n",
            "380    1218\n",
            "606    1115\n",
            "288    1055\n",
            "Name: rating, dtype: int64\n"
          ]
        }
      ],
      "source": [
        "# Pobierz 10 użytkowników z największą liczbą ocen\n",
        "uzytkownicy_z_najwieksza_liczba_ocen = ratings.groupby('userId')['rating'].count().nlargest(10)\n",
        "\n",
        "# Wyświetl dane\n",
        "print(uzytkownicy_z_najwieksza_liczba_ocen)"
      ]
    },
    {
      "cell_type": "markdown",
      "source": [
        "Liczba ocen, którą otrzymał dany film"
      ],
      "metadata": {
        "id": "8ZmWgR-ZMxut"
      }
    },
    {
      "cell_type": "code",
      "execution_count": 15,
      "metadata": {
        "colab": {
          "base_uri": "https://localhost:8080/",
          "height": 565
        },
        "id": "JeEzYXaVaMOu",
        "outputId": "b5e5ff04-3815-41c8-c143-442d4c791d6d"
      },
      "outputs": [
        {
          "output_type": "display_data",
          "data": {
            "text/plain": [
              "<Figure size 1000x600 with 1 Axes>"
            ],
            "image/png": "[encoded data removed]"
          },
          "metadata": {}
        }
      ],
      "source": [
        "# Policz liczbę ocen dla każdego użytkownika\n",
        "ilosc_ocen_filmow = ratings.groupby('movieId')['rating'].count()\n",
        "\n",
        "# Utwórz wykres liniowy\n",
        "plt.figure(figsize=(10, 6))\n",
        "plt.plot(ilosc_ocen_filmow.index, ilosc_ocen_filmow.values)\n",
        "plt.xlabel('ID Filmu')\n",
        "plt.ylabel('Liczba ocen')\n",
        "plt.title('Liczba ocen filmów w pliku ratings')\n",
        "plt.show()"
      ]
    },
    {
      "cell_type": "markdown",
      "source": [
        "Z racji tego, że niektóre filmy otrzymały bardzo dużo ocen, a inne stosunkowo mało postawnowiłem ograniczyć ich liczebność. Do nowego zbioru danych zostały zaliczone wszystkie filmy, które uzyskały przynajmniej 25 ocen. Podobna sytuacja dotyczy użytkowników. W tym przypadku do nowego zbioru danych zaliczam takich co mają przynajmniej 250 ocen. Chciałbym żeby filmy, które posiadają mało ocen nie zaburzały rankingu i tak samo w przypadku użytkowników, gdzie wolę uwzględnić tych, którzy oglądają więcej filmów."
      ],
      "metadata": {
        "id": "khb87vpINAmk"
      }
    },
    {
      "cell_type": "code",
      "execution_count": 16,
      "metadata": {
        "colab": {
          "base_uri": "https://localhost:8080/"
        },
        "id": "9nuHa2H8cNBt",
        "outputId": "b7f9d41c-bfe2-4cc7-d7b1-585d56a40afb"
      },
      "outputs": [
        {
          "output_type": "stream",
          "name": "stdout",
          "text": [
            "Number of users after filtering: 105\n",
            "Number of movies after filtering: 1050\n",
            "Number of ratings after filtering: 33370\n"
          ]
        }
      ],
      "source": [
        "MIN_USER_RATINGS = 250\n",
        "MIN_MOVIE_RATINGS = 25\n",
        "\n",
        "# Wybierz użytkowników, którzy ocenili co najmniej MIN_USER_RATINGS filmów\n",
        "frequent_users = ilosc_ocen_uzytkownika[ilosc_ocen_uzytkownika >= MIN_USER_RATINGS].index\n",
        "\n",
        "# Wybierz filmy, które otrzymały co najmniej MIN_MOVIE_RATINGS ocen\n",
        "frequent_movies = ilosc_ocen_filmow[ilosc_ocen_filmow >= MIN_MOVIE_RATINGS].index\n",
        "\n",
        "# Filtrowanie ocen dla często oceniających użytkowników i często ocenianych filmów\n",
        "filtered_ratings = ratings[ratings['userId'].isin(frequent_users) & ratings['movieId'].isin(frequent_movies)]\n",
        "\n",
        "# Filtrowanie filmów dla często ocenianych filmów\n",
        "filtered_movies = movies[movies['movieId'].isin(frequent_movies)]\n",
        "\n",
        "filtered_ratings = ratings[ratings['userId'].isin(frequent_users) & ratings['movieId'].isin(frequent_movies)]\n",
        "\n",
        "# Połączenie ocen z filmami, aby uzyskać tytuły i gatunki filmów\n",
        "ratings_merge = filtered_ratings.merge(movies[['movieId', 'title', 'genres']], how='left', on='movieId')\n",
        "\n",
        "\n",
        "print(\"Number of users after filtering:\", len(frequent_users))\n",
        "print(\"Number of movies after filtering:\", len(filtered_movies))\n",
        "print(\"Number of ratings after filtering:\", len(filtered_ratings))"
      ]
    },
    {
      "cell_type": "code",
      "execution_count": 17,
      "metadata": {
        "colab": {
          "base_uri": "https://localhost:8080/"
        },
        "id": "hVaZ4Jg6fYJ7",
        "outputId": "ad085944-12b0-44af-a8d6-300eaf0d7f8a"
      },
      "outputs": [
        {
          "output_type": "stream",
          "name": "stdout",
          "text": [
            "Duplicate entries: 0\n"
          ]
        }
      ],
      "source": [
        "print(f'Duplicate entries: {ratings_merge.duplicated().sum()}')"
      ]
    },
    {
      "cell_type": "code",
      "execution_count": 18,
      "metadata": {
        "colab": {
          "base_uri": "https://localhost:8080/",
          "height": 206
        },
        "id": "p-CsfeuBgn52",
        "outputId": "ed500ac4-2332-4e09-bad4-f43464e018c5"
      },
      "outputs": [
        {
          "output_type": "execute_result",
          "data": {
            "text/plain": [
              "   userId  movieId  rating  timestamp                               title  \\\n",
              "0       6        2     4.0  845553522                      Jumanji (1995)   \n",
              "1       6        3     5.0  845554296             Grumpier Old Men (1995)   \n",
              "2       6        5     5.0  845553938  Father of the Bride Part II (1995)   \n",
              "3       6        6     4.0  845553757                         Heat (1995)   \n",
              "4       6        7     4.0  845554264                      Sabrina (1995)   \n",
              "\n",
              "                       genres  \n",
              "0  Adventure|Children|Fantasy  \n",
              "1              Comedy|Romance  \n",
              "2                      Comedy  \n",
              "3       Action|Crime|Thriller  \n",
              "4              Comedy|Romance  "
            ],
            "text/html": [
              "\n",
              "  <div id=\"df-3f86aff6-b989-4122-8666-8cc471b7b5b1\" class=\"colab-df-container\">\n",
              "    <div>\n",
              "<style scoped>\n",
              "    .dataframe tbody tr th:only-of-type {\n",
              "        vertical-align: middle;\n",
              "    }\n",
              "\n",
              "    .dataframe tbody tr th {\n",
              "        vertical-align: top;\n",
              "    }\n",
              "\n",
              "    .dataframe thead th {\n",
              "        text-align: right;\n",
              "    }\n",
              "</style>\n",
              "<table border=\"1\" class=\"dataframe\">\n",
              "  <thead>\n",
              "    <tr style=\"text-align: right;\">\n",
              "      <th></th>\n",
              "      <th>userId</th>\n",
              "      <th>movieId</th>\n",
              "      <th>rating</th>\n",
              "      <th>timestamp</th>\n",
              "      <th>title</th>\n",
              "      <th>genres</th>\n",
              "    </tr>\n",
              "  </thead>\n",
              "  <tbody>\n",
              "    <tr>\n",
              "      <th>0</th>\n",
              "      <td>6</td>\n",
              "      <td>2</td>\n",
              "      <td>4.0</td>\n",
              "      <td>845553522</td>\n",
              "      <td>Jumanji (1995)</td>\n",
              "      <td>Adventure|Children|Fantasy</td>\n",
              "    </tr>\n",
              "    <tr>\n",
              "      <th>1</th>\n",
              "      <td>6</td>\n",
              "      <td>3</td>\n",
              "      <td>5.0</td>\n",
              "      <td>845554296</td>\n",
              "      <td>Grumpier Old Men (1995)</td>\n",
              "      <td>Comedy|Romance</td>\n",
              "    </tr>\n",
              "    <tr>\n",
              "      <th>2</th>\n",
              "      <td>6</td>\n",
              "      <td>5</td>\n",
              "      <td>5.0</td>\n",
              "      <td>845553938</td>\n",
              "      <td>Father of the Bride Part II (1995)</td>\n",
              "      <td>Comedy</td>\n",
              "    </tr>\n",
              "    <tr>\n",
              "      <th>3</th>\n",
              "      <td>6</td>\n",
              "      <td>6</td>\n",
              "      <td>4.0</td>\n",
              "      <td>845553757</td>\n",
              "      <td>Heat (1995)</td>\n",
              "      <td>Action|Crime|Thriller</td>\n",
              "    </tr>\n",
              "    <tr>\n",
              "      <th>4</th>\n",
              "      <td>6</td>\n",
              "      <td>7</td>\n",
              "      <td>4.0</td>\n",
              "      <td>845554264</td>\n",
              "      <td>Sabrina (1995)</td>\n",
              "      <td>Comedy|Romance</td>\n",
              "    </tr>\n",
              "  </tbody>\n",
              "</table>\n",
              "</div>\n",
              "    <div class=\"colab-df-buttons\">\n",
              "\n",
              "  <div class=\"colab-df-container\">\n",
              "    <button class=\"colab-df-convert\" onclick=\"convertToInteractive('df-3f86aff6-b989-4122-8666-8cc471b7b5b1')\"\n",
              "            title=\"Convert this dataframe to an interactive table.\"\n",
              "            style=\"display:none;\">\n",
              "\n",
              "  <svg xmlns=\"http://www.w3.org/2000/svg\" height=\"24px\" viewBox=\"0 -960 960 960\">\n",
              "    <path d=\"M120-120v-720h720v720H120Zm60-500h600v-160H180v160Zm220 220h160v-160H400v160Zm0 220h160v-160H400v160ZM180-400h160v-160H180v160Zm440 0h160v-160H620v160ZM180-180h160v-160H180v160Zm440 0h160v-160H620v160Z\"/>\n",
              "  </svg>\n",
              "    </button>\n",
              "\n",
              "  <style>\n",
              "    .colab-df-container {\n",
              "      display:flex;\n",
              "      gap: 12px;\n",
              "    }\n",
              "\n",
              "    .colab-df-convert {\n",
              "      background-color: #E8F0FE;\n",
              "      border: none;\n",
              "      border-radius: 50%;\n",
              "      cursor: pointer;\n",
              "      display: none;\n",
              "      fill: #1967D2;\n",
              "      height: 32px;\n",
              "      padding: 0 0 0 0;\n",
              "      width: 32px;\n",
              "    }\n",
              "\n",
              "    .colab-df-convert:hover {\n",
              "      background-color: #E2EBFA;\n",
              "      box-shadow: 0px 1px 2px rgba(60, 64, 67, 0.3), 0px 1px 3px 1px rgba(60, 64, 67, 0.15);\n",
              "      fill: #174EA6;\n",
              "    }\n",
              "\n",
              "    .colab-df-buttons div {\n",
              "      margin-bottom: 4px;\n",
              "    }\n",
              "\n",
              "    [theme=dark] .colab-df-convert {\n",
              "      background-color: #3B4455;\n",
              "      fill: #D2E3FC;\n",
              "    }\n",
              "\n",
              "    [theme=dark] .colab-df-convert:hover {\n",
              "      background-color: #434B5C;\n",
              "      box-shadow: 0px 1px 3px 1px rgba(0, 0, 0, 0.15);\n",
              "      filter: drop-shadow(0px 1px 2px rgba(0, 0, 0, 0.3));\n",
              "      fill: #FFFFFF;\n",
              "    }\n",
              "  </style>\n",
              "\n",
              "    <script>\n",
              "      const buttonEl =\n",
              "        document.querySelector('#df-3f86aff6-b989-4122-8666-8cc471b7b5b1 button.colab-df-convert');\n",
              "      buttonEl.style.display =\n",
              "        google.colab.kernel.accessAllowed ? 'block' : 'none';\n",
              "\n",
              "      async function convertToInteractive(key) {\n",
              "        const element = document.querySelector('#df-3f86aff6-b989-4122-8666-8cc471b7b5b1');\n",
              "        const dataTable =\n",
              "          await google.colab.kernel.invokeFunction('convertToInteractive',\n",
              "                                                    [key], {});\n",
              "        if (!dataTable) return;\n",
              "\n",
              "        const docLinkHtml = 'Like what you see? Visit the ' +\n",
              "          '<a target=\"_blank\" href=https://colab.research.google.com/notebooks/data_table.ipynb>data table notebook</a>'\n",
              "          + ' to learn more about interactive tables.';\n",
              "        element.innerHTML = '';\n",
              "        dataTable['output_type'] = 'display_data';\n",
              "        await google.colab.output.renderOutput(dataTable, element);\n",
              "        const docLink = document.createElement('div');\n",
              "        docLink.innerHTML = docLinkHtml;\n",
              "        element.appendChild(docLink);\n",
              "      }\n",
              "    </script>\n",
              "  </div>\n",
              "\n",
              "\n",
              "<div id=\"df-1e6185dc-bb60-42af-a59e-f79091e7ed50\">\n",
              "  <button class=\"colab-df-quickchart\" onclick=\"quickchart('df-1e6185dc-bb60-42af-a59e-f79091e7ed50')\"\n",
              "            title=\"Suggest charts\"\n",
              "            style=\"display:none;\">\n",
              "\n",
              "<svg xmlns=\"http://www.w3.org/2000/svg\" height=\"24px\"viewBox=\"0 0 24 24\"\n",
              "     width=\"24px\">\n",
              "    <g>\n",
              "        <path d=\"M19 3H5c-1.1 0-2 .9-2 2v14c0 1.1.9 2 2 2h14c1.1 0 2-.9 2-2V5c0-1.1-.9-2-2-2zM9 17H7v-7h2v7zm4 0h-2V7h2v10zm4 0h-2v-4h2v4z\"/>\n",
              "    </g>\n",
              "</svg>\n",
              "  </button>\n",
              "\n",
              "<style>\n",
              "  .colab-df-quickchart {\n",
              "      --bg-color: #E8F0FE;\n",
              "      --fill-color: #1967D2;\n",
              "      --hover-bg-color: #E2EBFA;\n",
              "      --hover-fill-color: #174EA6;\n",
              "      --disabled-fill-color: #AAA;\n",
              "      --disabled-bg-color: #DDD;\n",
              "  }\n",
              "\n",
              "  [theme=dark] .colab-df-quickchart {\n",
              "      --bg-color: #3B4455;\n",
              "      --fill-color: #D2E3FC;\n",
              "      --hover-bg-color: #434B5C;\n",
              "      --hover-fill-color: #FFFFFF;\n",
              "      --disabled-bg-color: #3B4455;\n",
              "      --disabled-fill-color: #666;\n",
              "  }\n",
              "\n",
              "  .colab-df-quickchart {\n",
              "    background-color: var(--bg-color);\n",
              "    border: none;\n",
              "    border-radius: 50%;\n",
              "    cursor: pointer;\n",
              "    display: none;\n",
              "    fill: var(--fill-color);\n",
              "    height: 32px;\n",
              "    padding: 0;\n",
              "    width: 32px;\n",
              "  }\n",
              "\n",
              "  .colab-df-quickchart:hover {\n",
              "    background-color: var(--hover-bg-color);\n",
              "    box-shadow: 0 1px 2px rgba(60, 64, 67, 0.3), 0 1px 3px 1px rgba(60, 64, 67, 0.15);\n",
              "    fill: var(--button-hover-fill-color);\n",
              "  }\n",
              "\n",
              "  .colab-df-quickchart-complete:disabled,\n",
              "  .colab-df-quickchart-complete:disabled:hover {\n",
              "    background-color: var(--disabled-bg-color);\n",
              "    fill: var(--disabled-fill-color);\n",
              "    box-shadow: none;\n",
              "  }\n",
              "\n",
              "  .colab-df-spinner {\n",
              "    border: 2px solid var(--fill-color);\n",
              "    border-color: transparent;\n",
              "    border-bottom-color: var(--fill-color);\n",
              "    animation:\n",
              "      spin 1s steps(1) infinite;\n",
              "  }\n",
              "\n",
              "  @keyframes spin {\n",
              "    0% {\n",
              "      border-color: transparent;\n",
              "      border-bottom-color: var(--fill-color);\n",
              "      border-left-color: var(--fill-color);\n",
              "    }\n",
              "    20% {\n",
              "      border-color: transparent;\n",
              "      border-left-color: var(--fill-color);\n",
              "      border-top-color: var(--fill-color);\n",
              "    }\n",
              "    30% {\n",
              "      border-color: transparent;\n",
              "      border-left-color: var(--fill-color);\n",
              "      border-top-color: var(--fill-color);\n",
              "      border-right-color: var(--fill-color);\n",
              "    }\n",
              "    40% {\n",
              "      border-color: transparent;\n",
              "      border-right-color: var(--fill-color);\n",
              "      border-top-color: var(--fill-color);\n",
              "    }\n",
              "    60% {\n",
              "      border-color: transparent;\n",
              "      border-right-color: var(--fill-color);\n",
              "    }\n",
              "    80% {\n",
              "      border-color: transparent;\n",
              "      border-right-color: var(--fill-color);\n",
              "      border-bottom-color: var(--fill-color);\n",
              "    }\n",
              "    90% {\n",
              "      border-color: transparent;\n",
              "      border-bottom-color: var(--fill-color);\n",
              "    }\n",
              "  }\n",
              "</style>\n",
              "\n",
              "  <script>\n",
              "    async function quickchart(key) {\n",
              "      const quickchartButtonEl =\n",
              "        document.querySelector('#' + key + ' button');\n",
              "      quickchartButtonEl.disabled = true;  // To prevent multiple clicks.\n",
              "      quickchartButtonEl.classList.add('colab-df-spinner');\n",
              "      try {\n",
              "        const charts = await google.colab.kernel.invokeFunction(\n",
              "            'suggestCharts', [key], {});\n",
              "      } catch (error) {\n",
              "        console.error('Error during call to suggestCharts:', error);\n",
              "      }\n",
              "      quickchartButtonEl.classList.remove('colab-df-spinner');\n",
              "      quickchartButtonEl.classList.add('colab-df-quickchart-complete');\n",
              "    }\n",
              "    (() => {\n",
              "      let quickchartButtonEl =\n",
              "        document.querySelector('#df-1e6185dc-bb60-42af-a59e-f79091e7ed50 button');\n",
              "      quickchartButtonEl.style.display =\n",
              "        google.colab.kernel.accessAllowed ? 'block' : 'none';\n",
              "    })();\n",
              "  </script>\n",
              "</div>\n",
              "    </div>\n",
              "  </div>\n"
            ],
            "application/vnd.google.colaboratory.intrinsic+json": {
              "type": "dataframe",
              "variable_name": "ratings_merge",
              "summary": "{\n  \"name\": \"ratings_merge\",\n  \"rows\": 33370,\n  \"fields\": [\n    {\n      \"column\": \"userId\",\n      \"properties\": {\n        \"dtype\": \"number\",\n        \"std\": 185,\n        \"min\": 6,\n        \"max\": 610,\n        \"num_unique_values\": 105,\n        \"samples\": [\n          177,\n          381,\n          380\n        ],\n        \"semantic_type\": \"\",\n        \"description\": \"\"\n      }\n    },\n    {\n      \"column\": \"movieId\",\n      \"properties\": {\n        \"dtype\": \"number\",\n        \"std\": 26212,\n        \"min\": 1,\n        \"max\": 168252,\n        \"num_unique_values\": 1050,\n        \"samples\": [\n          36529,\n          6155,\n          1258\n        ],\n        \"semantic_type\": \"\",\n        \"description\": \"\"\n      }\n    },\n    {\n      \"column\": \"rating\",\n      \"properties\": {\n        \"dtype\": \"number\",\n        \"std\": 0.9695077457403725,\n        \"min\": 0.5,\n        \"max\": 5.0,\n        \"num_unique_values\": 10,\n        \"samples\": [\n          0.5,\n          5.0,\n          3.5\n        ],\n        \"semantic_type\": \"\",\n        \"description\": \"\"\n      }\n    },\n    {\n      \"column\": \"timestamp\",\n      \"properties\": {\n        \"dtype\": \"number\",\n        \"std\": 192133888,\n        \"min\": 845553109,\n        \"max\": 1536874696,\n        \"num_unique_values\": 30124,\n        \"samples\": [\n          1476481462,\n          1171756138,\n          1179178748\n        ],\n        \"semantic_type\": \"\",\n        \"description\": \"\"\n      }\n    },\n    {\n      \"column\": \"title\",\n      \"properties\": {\n        \"dtype\": \"category\",\n        \"num_unique_values\": 1050,\n        \"samples\": [\n          \"Lord of War (2005)\",\n          \"How to Lose a Guy in 10 Days (2003)\",\n          \"Shining, The (1980)\"\n        ],\n        \"semantic_type\": \"\",\n        \"description\": \"\"\n      }\n    },\n    {\n      \"column\": \"genres\",\n      \"properties\": {\n        \"dtype\": \"category\",\n        \"num_unique_values\": 344,\n        \"samples\": [\n          \"Comedy|Fantasy|Romance|Sci-Fi\",\n          \"Action|Sci-Fi|Thriller|IMAX\",\n          \"Animation|Children|Comedy|Musical\"\n        ],\n        \"semantic_type\": \"\",\n        \"description\": \"\"\n      }\n    }\n  ]\n}"
            }
          },
          "metadata": {},
          "execution_count": 18
        }
      ],
      "source": [
        "ratings_merge.head(5)"
      ]
    },
    {
      "cell_type": "markdown",
      "source": [
        "## 3.2. Czym różni się algorytm kNN with means od standardowego kNN?"
      ],
      "metadata": {
        "id": "wlETBGPdKWIx"
      }
    },
    {
      "cell_type": "markdown",
      "source": [
        "Główną różnicą między zwykłą metodą KNN, a KNN with means jest to, że w tej drugij oprócz wyboru k najbliższych sąsiadów, uwzględniamy również średnią ocenę dla elementów w zbiorze danych. W ten sposób algorytm kNN with Means może radzić sobie lepiej z przewidywaniem ocen dla nowych elementów, szczególnie gdy dane są niewystarczające dla konkretnych sąsiadów."
      ],
      "metadata": {
        "id": "4hNdk0dbKYWH"
      }
    },
    {
      "cell_type": "markdown",
      "metadata": {
        "id": "3RX9dgFAjJXn"
      },
      "source": [
        "## 3.3. System oparty na KNN with means"
      ]
    },
    {
      "cell_type": "code",
      "source": [
        "# Tworzenie zbioru testowego i treningiwego\n",
        "reader = Reader(rating_scale=(1, 5))\n",
        "data   = Dataset.load_from_df(ratings_merge[['userId','title','rating']], reader)\n",
        "\n",
        "raw_ratings = data.raw_ratings\n",
        "import random\n",
        "random.shuffle(raw_ratings)\n",
        "\n",
        "threshold   = int(len(raw_ratings)*0.8)\n",
        "\n",
        "train_raw_ratings = raw_ratings[:threshold]\n",
        "test_raw_ratings  = raw_ratings[threshold:]\n",
        "\n",
        "data.raw_ratings = train_raw_ratings\n",
        "trainset         = data.build_full_trainset()\n",
        "testset          = data.construct_testset(test_raw_ratings)"
      ],
      "metadata": {
        "id": "8-vJZ1o2XhUh"
      },
      "execution_count": 21,
      "outputs": []
    },
    {
      "cell_type": "code",
      "execution_count": 22,
      "metadata": {
        "colab": {
          "base_uri": "https://localhost:8080/"
        },
        "id": "qCETpw5NsY9k",
        "outputId": "2b607ce9-0c5d-4839-d21a-62c598d31114"
      },
      "outputs": [
        {
          "output_type": "stream",
          "name": "stdout",
          "text": [
            "MAE Best Parameters:  {'sim_options': {'name': 'msd', 'min_support': 2, 'user_based': True}, 'k': 6}\n",
            "MAE Best Score:       0.6387480940227162\n",
            "\n",
            "RMSE Best Parameters: {'sim_options': {'name': 'msd', 'min_support': 2, 'user_based': True}, 'k': 6}\n",
            "RMSE Best Score:      0.830661575885047\n",
            "\n"
          ]
        }
      ],
      "source": [
        "# KNNWithMeans z poniższymi hiperparametrami\n",
        "\n",
        "param_grid = {\n",
        "    'sim_options': {\n",
        "        'name': ['msd', 'cosine'],\n",
        "        'min_support': [2, 6],\n",
        "        'user_based': [False, True]\n",
        "    },\n",
        "    'k': list(range(2, 7))  #k - ilość sąsiadów od 2 do 6\n",
        "}\n",
        "\n",
        "gridsearchKNNWithMeans = GridSearchCV(KNNWithMeans, param_grid, measures=['mae', 'rmse'], \\\n",
        "                                      cv=5, n_jobs=-1)\n",
        "\n",
        "gridsearchKNNWithMeans.fit(data)\n",
        "\n",
        "print(f'MAE Best Parameters:  {gridsearchKNNWithMeans.best_params[\"mae\"]}')\n",
        "print(f'MAE Best Score:       {gridsearchKNNWithMeans.best_score[\"mae\"]}\\n')\n",
        "\n",
        "print(f'RMSE Best Parameters: {gridsearchKNNWithMeans.best_params[\"rmse\"]}')\n",
        "print(f'RMSE Best Score:      {gridsearchKNNWithMeans.best_score[\"rmse\"]}\\n')\n"
      ]
    },
    {
      "cell_type": "markdown",
      "source": [
        "Kroswalidacja, gdzie użyłem mae jako esytmator"
      ],
      "metadata": {
        "id": "R2dsIFXYRzw5"
      }
    },
    {
      "cell_type": "code",
      "source": [
        "knn_cv_results = cross_validate(gridsearchKNNWithMeans.best_estimator['mae'], data, measures=['RMSE', 'MAE'], cv=5, verbose=True)"
      ],
      "metadata": {
        "colab": {
          "base_uri": "https://localhost:8080/"
        },
        "id": "6d1tK433RkqY",
        "outputId": "43e9ab4f-f034-442a-b180-3451927b3add"
      },
      "execution_count": 23,
      "outputs": [
        {
          "output_type": "stream",
          "name": "stdout",
          "text": [
            "Computing the msd similarity matrix...\n",
            "Done computing similarity matrix.\n",
            "Computing the msd similarity matrix...\n",
            "Done computing similarity matrix.\n",
            "Computing the msd similarity matrix...\n",
            "Done computing similarity matrix.\n",
            "Computing the msd similarity matrix...\n",
            "Done computing similarity matrix.\n",
            "Computing the msd similarity matrix...\n",
            "Done computing similarity matrix.\n",
            "Evaluating RMSE, MAE of algorithm KNNWithMeans on 5 split(s).\n",
            "\n",
            "                  Fold 1  Fold 2  Fold 3  Fold 4  Fold 5  Mean    Std     \n",
            "RMSE (testset)    0.8404  0.8442  0.8216  0.8227  0.8228  0.8303  0.0099  \n",
            "MAE (testset)     0.6448  0.6438  0.6338  0.6329  0.6345  0.6379  0.0052  \n",
            "Fit time          0.02    0.02    0.04    0.07    0.03    0.04    0.02    \n",
            "Test time         0.18    0.39    0.48    0.88    0.19    0.42    0.26    \n"
          ]
        }
      ]
    },
    {
      "cell_type": "markdown",
      "source": [
        "Kroswalidacja, gdzie użyłem rmse jako estymator"
      ],
      "metadata": {
        "id": "Hkp4MmUKRv9C"
      }
    },
    {
      "cell_type": "code",
      "source": [
        "knn_cv_results = cross_validate(gridsearchKNNWithMeans.best_estimator['rmse'], data, measures=['RMSE', 'MAE'], cv=5, verbose=True)"
      ],
      "metadata": {
        "colab": {
          "base_uri": "https://localhost:8080/"
        },
        "id": "PQh2ZiMpP8JG",
        "outputId": "a9a63fff-6a25-426a-d982-fd3bd9a3f1a0"
      },
      "execution_count": 24,
      "outputs": [
        {
          "output_type": "stream",
          "name": "stdout",
          "text": [
            "Computing the msd similarity matrix...\n",
            "Done computing similarity matrix.\n",
            "Computing the msd similarity matrix...\n",
            "Done computing similarity matrix.\n",
            "Computing the msd similarity matrix...\n",
            "Done computing similarity matrix.\n",
            "Computing the msd similarity matrix...\n",
            "Done computing similarity matrix.\n",
            "Computing the msd similarity matrix...\n",
            "Done computing similarity matrix.\n",
            "Evaluating RMSE, MAE of algorithm KNNWithMeans on 5 split(s).\n",
            "\n",
            "                  Fold 1  Fold 2  Fold 3  Fold 4  Fold 5  Mean    Std     \n",
            "RMSE (testset)    0.8356  0.8208  0.8226  0.8322  0.8249  0.8272  0.0057  \n",
            "MAE (testset)     0.6456  0.6296  0.6318  0.6423  0.6334  0.6365  0.0062  \n",
            "Fit time          0.02    0.02    0.03    0.02    0.03    0.02    0.00    \n",
            "Test time         0.17    0.18    0.31    0.18    0.16    0.20    0.06    \n"
          ]
        }
      ]
    },
    {
      "cell_type": "markdown",
      "source": [
        "## 3.4. System oparty na SVD"
      ],
      "metadata": {
        "id": "3zJX4HTALQpm"
      }
    },
    {
      "cell_type": "code",
      "source": [
        "# SVD z poniższymi hiperparametrami\n",
        "\n",
        "param_grid = {\"n_factors\": range(10,100,20),\n",
        "              \"n_epochs\" : [5, 10, 20],\n",
        "              \"lr_all\"   : [0.002, 0.005],\n",
        "              \"reg_all\"  : [0.2, 0.5]}\n",
        "\n",
        "gridsearchSVD = GridSearchCV(SVD, param_grid, measures=['mae', 'rmse'], cv=5, n_jobs=-1)\n",
        "\n",
        "gridsearchSVD.fit(data)\n",
        "\n",
        "print(f'MAE Best Parameters:  {gridsearchSVD.best_params[\"mae\"]}')\n",
        "print(f'MAE Best Score:       {gridsearchSVD.best_score[\"mae\"]}\\n')\n",
        "\n",
        "print(f'RMSE Best Parameters: {gridsearchSVD.best_params[\"rmse\"]}')\n",
        "print(f'RMSE Best Score:      {gridsearchSVD.best_score[\"rmse\"]}\\n')"
      ],
      "metadata": {
        "colab": {
          "base_uri": "https://localhost:8080/"
        },
        "id": "LKtkQDzgZGao",
        "outputId": "81c6b9db-0da3-4c65-f326-af57cb7d9895"
      },
      "execution_count": 25,
      "outputs": [
        {
          "output_type": "stream",
          "name": "stdout",
          "text": [
            "MAE Best Parameters:  {'n_factors': 90, 'n_epochs': 20, 'lr_all': 0.005, 'reg_all': 0.2}\n",
            "MAE Best Score:       0.6282865262471292\n",
            "\n",
            "RMSE Best Parameters: {'n_factors': 90, 'n_epochs': 20, 'lr_all': 0.005, 'reg_all': 0.2}\n",
            "RMSE Best Score:      0.8165512277550416\n",
            "\n"
          ]
        }
      ]
    },
    {
      "cell_type": "markdown",
      "source": [
        "Kroswalidacja, gdzie użyłem mae jako esytmator"
      ],
      "metadata": {
        "id": "J16LQzM0S1Nr"
      }
    },
    {
      "cell_type": "code",
      "source": [
        "svd_cv_results = cross_validate(gridsearchSVD.best_estimator['mae'], data, measures=['RMSE', 'MAE'], cv=5, verbose=True)"
      ],
      "metadata": {
        "colab": {
          "base_uri": "https://localhost:8080/"
        },
        "id": "OmUwLTjjOyKe",
        "outputId": "ff3b4525-80aa-4004-e988-bd20e89be4bd"
      },
      "execution_count": 26,
      "outputs": [
        {
          "output_type": "stream",
          "name": "stdout",
          "text": [
            "Evaluating RMSE, MAE of algorithm SVD on 5 split(s).\n",
            "\n",
            "                  Fold 1  Fold 2  Fold 3  Fold 4  Fold 5  Mean    Std     \n",
            "RMSE (testset)    0.8205  0.8059  0.8185  0.8242  0.8030  0.8144  0.0084  \n",
            "MAE (testset)     0.6333  0.6166  0.6351  0.6283  0.6214  0.6269  0.0070  \n",
            "Fit time          0.30    0.32    0.32    0.31    0.32    0.31    0.01    \n",
            "Test time         0.03    0.03    0.03    0.04    0.03    0.03    0.00    \n"
          ]
        }
      ]
    },
    {
      "cell_type": "markdown",
      "source": [
        "Kroswalidacja, gdzie użyłem rmse jako esytmator"
      ],
      "metadata": {
        "id": "O7MkSOQWS-7F"
      }
    },
    {
      "cell_type": "code",
      "source": [
        "svd_cv_results = cross_validate(gridsearchSVD.best_estimator['rmse'], data, measures=['RMSE', 'MAE'], cv=5, verbose=True)"
      ],
      "metadata": {
        "colab": {
          "base_uri": "https://localhost:8080/"
        },
        "id": "WJY57m2cRP0F",
        "outputId": "81a94d5c-f321-43b9-fab6-85aa196d745c"
      },
      "execution_count": 27,
      "outputs": [
        {
          "output_type": "stream",
          "name": "stdout",
          "text": [
            "Evaluating RMSE, MAE of algorithm SVD on 5 split(s).\n",
            "\n",
            "                  Fold 1  Fold 2  Fold 3  Fold 4  Fold 5  Mean    Std     \n",
            "RMSE (testset)    0.8163  0.8162  0.8038  0.8061  0.8305  0.8146  0.0094  \n",
            "MAE (testset)     0.6307  0.6266  0.6211  0.6207  0.6349  0.6268  0.0055  \n",
            "Fit time          0.49    0.47    0.49    0.40    0.32    0.43    0.07    \n",
            "Test time         0.05    0.05    0.24    0.03    0.03    0.08    0.08    \n"
          ]
        }
      ]
    },
    {
      "cell_type": "markdown",
      "source": [
        "## 3.5. Omówienie wyników"
      ],
      "metadata": {
        "id": "cKQpJ-hWUvlD"
      }
    },
    {
      "cell_type": "markdown",
      "source": [
        "Dla metody KNN with means i dla metody SVD została zastosowana pięciokrotna walidacja krzyżowa. Wyniki dla KNN i SVD są bardzo podobne. Największe odchylenie standardowe dla RMSE to 0.0099 odnotowane dla KNN with means, gdzie jako estymator było brane RMSE. Najmniejszy wynik odchylenia dla RMSE to 0.0057 dla KNN with means, przy estymatorze MAE. Podobnie niskie wartości odchylenia i innych wskaźników odnotować można dla MAE, fit time i test time. Można stwierdzić, że dokładność predykcji jest na bardzo wysokim poziomie, a czas do trenowania i testowania modelu jest krótki. Generalnie nie ma zbyt dużej różnicy między modelami i są one bardzo porównywalne przy zastosowanych parametrach"
      ],
      "metadata": {
        "id": "UadyRPJvUyM3"
      }
    },
    {
      "cell_type": "markdown",
      "source": [
        "# 4. Podaj rekomendacje po obejrzeniu filmu: Jumanji  oraz Flint"
      ],
      "metadata": {
        "id": "nLGkNePSbS1X"
      }
    },
    {
      "cell_type": "markdown",
      "source": [
        "## 4.1. Jumanji"
      ],
      "metadata": {
        "id": "FRkHbFqZLs7a"
      }
    },
    {
      "cell_type": "markdown",
      "source": [
        "Pozyskanie ID filmu Jumanji"
      ],
      "metadata": {
        "id": "8c2TunalLqXk"
      }
    },
    {
      "cell_type": "code",
      "source": [
        "def get_movieId_by_title(title):\n",
        "  try:\n",
        "    movieId = movies[movies['title'] == title]['movieId'].values[0]\n",
        "    return movieId\n",
        "  except IndexError:\n",
        "    print(f\"Movie with title '{title}' not found.\")\n",
        "    return None\n",
        "\n",
        "search_title = \"Jumanji (1995)\"\n",
        "movieId = get_movieId_by_title(search_title)\n",
        "\n",
        "if movieId:\n",
        "  print(f\"movieId for '{search_title}': {movieId}\")"
      ],
      "metadata": {
        "colab": {
          "base_uri": "https://localhost:8080/"
        },
        "id": "q-vFgNSccSKI",
        "outputId": "499da704-00bb-40e2-bff3-266e2d0d47ba"
      },
      "execution_count": 28,
      "outputs": [
        {
          "output_type": "stream",
          "name": "stdout",
          "text": [
            "movieId for 'Jumanji (1995)': 2\n"
          ]
        }
      ]
    },
    {
      "cell_type": "markdown",
      "source": [
        "Sprawdzenie czy film Jumanji jest w wyselekcjonowanym zestawie danych"
      ],
      "metadata": {
        "id": "A29YltIoLwN_"
      }
    },
    {
      "cell_type": "code",
      "source": [
        "if 2 in ratings_merge['movieId'].values:\n",
        "    print(\"Film o movieId 2 znajduje się w zestawie danych.\")\n",
        "else:\n",
        "    print(\"Film o movieId 2 nie znajduje się w zestawie danych.\")"
      ],
      "metadata": {
        "colab": {
          "base_uri": "https://localhost:8080/"
        },
        "id": "yn5iWGwctB0O",
        "outputId": "aad99a81-3aaf-477f-e113-96b3f2d75337"
      },
      "execution_count": 29,
      "outputs": [
        {
          "output_type": "stream",
          "name": "stdout",
          "text": [
            "Film o movieId 2 znajduje się w zestawie danych.\n"
          ]
        }
      ]
    },
    {
      "cell_type": "markdown",
      "source": [
        "Rekomendacja oparta na gatunku filmu z wykorzystaniem modelu KNN"
      ],
      "metadata": {
        "id": "CUY7J_vdL0eQ"
      }
    },
    {
      "cell_type": "code",
      "source": [
        "# Obejrzany film\n",
        "watched_movie_id = 2\n",
        "\n",
        "# Pobierz gatunki obejrzanego filmu\n",
        "genres_of_watched_movie = movies.loc[movies['movieId'] == watched_movie_id, 'genres'].values[0].split('|')\n",
        "\n",
        "# Wybierz filmy z tych samych gatunków co obejrzany film, ale inne niż obejrzany film\n",
        "recommended_movies = ratings_merge[(ratings_merge['genres'].apply(lambda x: any(genre in x for genre in genres_of_watched_movie))) &\n",
        "                                   (ratings_merge['movieId'] != watched_movie_id)]\n",
        "\n",
        "# Utwórz zestaw danych dla rekomendacji\n",
        "data_recommend = Dataset.load_from_df(recommended_movies[['userId', 'title', 'rating']], reader)\n",
        "\n",
        "# Dopasuj model KNN z użyciem średnich wartości do rekomendacji\n",
        "algo = KNNWithMeans(**gridsearchKNNWithMeans.best_params['mae'])  # Wybierz najlepsze parametry dla MAE\n",
        "trainset_recommend = data_recommend.build_full_trainset()\n",
        "algo.fit(trainset_recommend)\n",
        "\n",
        "# Wygeneruj rekomendacje dla użytkownika na podstawie obejrzanego filmu\n",
        "recommendations = algo.get_neighbors(watched_movie_id, k=10)  # Znajdź 10 podobnych filmów\n",
        "\n",
        "# Wypisz rekomendacje\n",
        "print(\"Rekomendowane filmy po obejrzeniu filmu o movieId =\", watched_movie_id)\n",
        "for movie_id in recommendations:\n",
        "    movie_title = movies.loc[movies['movieId'] == movie_id, 'title']\n",
        "    if not movie_title.empty:\n",
        "        print(f\"- {movie_title.values[0]}\")\n",
        "    else:\n",
        "        print(f\"- Brak informacji o tytule dla movieId = {movie_id}\")"
      ],
      "metadata": {
        "colab": {
          "base_uri": "https://localhost:8080/"
        },
        "id": "g0xzowSI12EZ",
        "outputId": "04582127-e4ab-4fec-93f1-c5747406a8e0"
      },
      "execution_count": 30,
      "outputs": [
        {
          "output_type": "stream",
          "name": "stdout",
          "text": [
            "Computing the msd similarity matrix...\n",
            "Done computing similarity matrix.\n",
            "Rekomendowane filmy po obejrzeniu filmu o movieId = 2\n",
            "- From Dusk Till Dawn (1996)\n",
            "- Home for the Holidays (1995)\n",
            "- Money Train (1995)\n",
            "- Angels and Insects (1995)\n",
            "- Hate (Haine, La) (1995)\n",
            "- Ace Ventura: When Nature Calls (1995)\n",
            "- Brak informacji o tytule dla movieId = 91\n",
            "- Clueless (1995)\n",
            "- Seven (a.k.a. Se7en) (1995)\n",
            "- How to Make an American Quilt (1995)\n"
          ]
        }
      ]
    },
    {
      "cell_type": "markdown",
      "source": [
        "## 4.2. Flint"
      ],
      "metadata": {
        "id": "uRt-75GwL6fn"
      }
    },
    {
      "cell_type": "markdown",
      "source": [
        "Sprawdzenie ID filmu Flint"
      ],
      "metadata": {
        "id": "Pk1_UHa_L9C5"
      }
    },
    {
      "cell_type": "code",
      "source": [
        "def get_movieId_by_title(title):\n",
        "  try:\n",
        "    movieId2 = movies[movies['title'] == title]['movieId'].values[0]\n",
        "    return movieId2\n",
        "  except IndexError:\n",
        "    print(f\"Movie with title '{title}' not found.\")\n",
        "    return None\n",
        "\n",
        "search_title = \"Flint (2017)\"\n",
        "movieId2 = get_movieId_by_title(search_title)\n",
        "\n",
        "if movieId2:\n",
        "  print(f\"movieId2 for  '{search_title}': {movieId2}\")"
      ],
      "metadata": {
        "colab": {
          "base_uri": "https://localhost:8080/"
        },
        "id": "gblZHPTDduYH",
        "outputId": "26a2904d-ccc2-43b2-81ee-cc6bba296bfd"
      },
      "execution_count": 31,
      "outputs": [
        {
          "output_type": "stream",
          "name": "stdout",
          "text": [
            "movieId2 for  'Flint (2017)': 193585\n"
          ]
        }
      ]
    },
    {
      "cell_type": "markdown",
      "source": [
        "Sprawdzenie czy film Flint znajduje się w wyselekcjonowanym zbiorze danych"
      ],
      "metadata": {
        "id": "t6JU_5_OL_0w"
      }
    },
    {
      "cell_type": "code",
      "source": [
        "if 193585 in ratings_merge['movieId'].values:\n",
        "    print(\"Film o movieId 193585 znajduje się w zestawie danych.\")\n",
        "else:\n",
        "    print(\"Film o movieId 193585 nie znajduje się w zestawie danych.\")"
      ],
      "metadata": {
        "colab": {
          "base_uri": "https://localhost:8080/"
        },
        "id": "pWZ5CZvftIdE",
        "outputId": "4d784457-baee-441e-ea32-51c8d577eee3"
      },
      "execution_count": 32,
      "outputs": [
        {
          "output_type": "stream",
          "name": "stdout",
          "text": [
            "Film o movieId 193585 nie znajduje się w zestawie danych.\n"
          ]
        }
      ]
    },
    {
      "cell_type": "markdown",
      "source": [
        "Film nie znajduje się w nim, więc sprawdzam ile posiada ocen"
      ],
      "metadata": {
        "id": "gOV00qqKMDVk"
      }
    },
    {
      "cell_type": "code",
      "source": [
        "def get_number_of_ratings_by_movieId(movieId):\n",
        "    try:\n",
        "        num_ratings = len(ratings[ratings['movieId'] == movieId])\n",
        "        return num_ratings\n",
        "    except:\n",
        "        print(f\"Movie with movieId '{movieId}' not found.\")\n",
        "        return None\n",
        "\n",
        "if movieId2:\n",
        "    num_ratings = get_number_of_ratings_by_movieId(movieId2)\n",
        "    if num_ratings is not None:\n",
        "        print(f\"Film '{search_title}' ma {num_ratings} ocen.\")"
      ],
      "metadata": {
        "colab": {
          "base_uri": "https://localhost:8080/"
        },
        "id": "cvj6V3EWCh9N",
        "outputId": "537dd8dd-16d3-469b-f328-65e2cb3d4e7e"
      },
      "execution_count": 33,
      "outputs": [
        {
          "output_type": "stream",
          "name": "stdout",
          "text": [
            "Film 'Flint (2017)' ma 1 ocen.\n"
          ]
        }
      ]
    },
    {
      "cell_type": "markdown",
      "source": [
        "Ponieważ film posiada tylko jedną ocenę, to nie znajduję się on w okrojonym zbiorze ratings_merge. W związku z tym zostanie zastosowana inna metoda rekomendacji niż w przypadku filmu Jumanji"
      ],
      "metadata": {
        "id": "7C8rQe_rFHIZ"
      }
    },
    {
      "cell_type": "markdown",
      "source": [
        "Stworzenie nowego połączengo zbioru danych w celu ustalenia rekomendacji"
      ],
      "metadata": {
        "id": "yW5FbFRPMJUa"
      }
    },
    {
      "cell_type": "code",
      "source": [
        "ratings_merge_2 = ratings.merge(movies[['movieId', 'title', 'genres']], how='left', on='movieId')\n",
        "\n",
        "print(ratings_merge_2.head())"
      ],
      "metadata": {
        "colab": {
          "base_uri": "https://localhost:8080/"
        },
        "id": "DiIGBQZvFXgY",
        "outputId": "44f55be7-3625-4786-940c-5d2ad2be3d6d"
      },
      "execution_count": 34,
      "outputs": [
        {
          "output_type": "stream",
          "name": "stdout",
          "text": [
            "   userId  movieId  rating  timestamp                        title  \\\n",
            "0       1        1     4.0  964982703             Toy Story (1995)   \n",
            "1       1        3     4.0  964981247      Grumpier Old Men (1995)   \n",
            "2       1        6     4.0  964982224                  Heat (1995)   \n",
            "3       1       47     5.0  964983815  Seven (a.k.a. Se7en) (1995)   \n",
            "4       1       50     5.0  964982931   Usual Suspects, The (1995)   \n",
            "\n",
            "                                        genres  \n",
            "0  Adventure|Animation|Children|Comedy|Fantasy  \n",
            "1                               Comedy|Romance  \n",
            "2                        Action|Crime|Thriller  \n",
            "3                             Mystery|Thriller  \n",
            "4                       Crime|Mystery|Thriller  \n"
          ]
        }
      ]
    },
    {
      "cell_type": "markdown",
      "source": [
        "System rekomendacji opierający się na średniej ocenie, odchyleniu standardowym i gatunku filmu"
      ],
      "metadata": {
        "id": "9jw_jII3MNgJ"
      }
    },
    {
      "cell_type": "code",
      "source": [
        "# Obejrzany film\n",
        "watched_movie_id = 193585\n",
        "\n",
        "# Oblicz średnią ocen dla obejrzanego filmu\n",
        "watched_movie_mean = ratings_merge_2[ratings_merge_2['movieId'] == watched_movie_id]['rating'].mean()\n",
        "\n",
        "# Ustaw tolerancję dla odchylenia standardowego\n",
        "tolerance_mean = 0.5\n",
        "tolerance_std = 1\n",
        "\n",
        "# Pobierz gatunki obejrzanego filmu\n",
        "genres_of_watched_movie = ratings_merge_2[ratings_merge_2['movieId'] == watched_movie_id]['genres'].values[0].split('|')\n",
        "\n",
        "# Wybierz filmy z tych samych gatunków co obejrzany film, ale inne niż obejrzany film\n",
        "recommended_movies = ratings_merge_2[(ratings_merge_2['genres'].apply(lambda x: any(genre in x for genre in genres_of_watched_movie))) &\n",
        "                                   (ratings_merge_2['movieId'] != watched_movie_id)]\n",
        "\n",
        "# Wybierz filmy, które mają podobną średnią ocen oraz odchylenie standardowe\n",
        "similar_movies = []\n",
        "for index, row in recommended_movies.iterrows():\n",
        "    movie_mean = row['rating']\n",
        "    movie_std = np.std(ratings_merge_2[ratings_merge_2['movieId'] == row['movieId']]['rating'])\n",
        "    if abs(movie_mean - watched_movie_mean) <= tolerance_mean and movie_std <= tolerance_std:\n",
        "        similar_movies.append(row['movieId'])\n",
        "\n",
        "# Ogranicz listę do top 10\n",
        "similar_movies = similar_movies[:10]\n",
        "\n",
        "# Wypisz rekomendacje dla filmów spełniających warunki\n",
        "print(\"Rekomendowane filmy po obejrzeniu filmu o movieId =\", watched_movie_id)\n",
        "for movie_id in similar_movies:\n",
        "    movie_title = movies.loc[movies['movieId'] == movie_id, 'title'].values\n",
        "    if len(movie_title) > 0:\n",
        "        print(f\"- {movie_title[0]}\")\n"
      ],
      "metadata": {
        "colab": {
          "base_uri": "https://localhost:8080/"
        },
        "id": "SPF6vd7ZGLUT",
        "outputId": "64a79774-ed2c-4d6c-e74e-790c8ba35120"
      },
      "execution_count": 35,
      "outputs": [
        {
          "output_type": "stream",
          "name": "stdout",
          "text": [
            "Rekomendowane filmy po obejrzeniu filmu o movieId = 193585\n",
            "- Braveheart (1995)\n",
            "- Ed Wood (1994)\n",
            "- Pulp Fiction (1994)\n",
            "- Clear and Present Danger (1994)\n",
            "- Forrest Gump (1994)\n",
            "- Mrs. Doubtfire (1993)\n",
            "- Dances with Wolves (1990)\n",
            "- Ghost and Mrs. Muir, The (1947)\n",
            "- That Thing You Do! (1996)\n",
            "- Platoon (1986)\n"
          ]
        }
      ]
    }
  ],
  "metadata": {
    "colab": {
      "toc_visible": true,
      "provenance": [],
      "authorship_tag": "ABX9TyO74oNJSrPbJpXd/DKA69nT",
      "include_colab_link": true
    },
    "kernelspec": {
      "display_name": "Python 3",
      "name": "python3"
    },
    "language_info": {
      "name": "python"
    }
  },
  "nbformat": 4,
  "nbformat_minor": 0
}